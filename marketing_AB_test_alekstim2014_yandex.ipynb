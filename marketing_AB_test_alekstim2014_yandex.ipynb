{
 "cells": [
  {
   "cell_type": "markdown",
   "id": "fbc2415b",
   "metadata": {
    "toc": true
   },
   "source": [
    "<h1>Table of Contents<span class=\"tocSkip\"></span></h1>\n",
    "<div class=\"toc\"><ul class=\"toc-item\"><li><span><a href=\"#Приоритезация-гипотез\" data-toc-modified-id=\"Приоритезация-гипотез-1\"><span class=\"toc-item-num\">1&nbsp;&nbsp;</span>Приоритезация гипотез</a></span></li><li><span><a href=\"#Анализ-A/B-теста\" data-toc-modified-id=\"Анализ-A/B-теста-2\"><span class=\"toc-item-num\">2&nbsp;&nbsp;</span>Анализ A/B теста</a></span><ul class=\"toc-item\"><li><span><a href=\"#Собираем-кумулятивные-данные\" data-toc-modified-id=\"Собираем-кумулятивные-данные-2.1\"><span class=\"toc-item-num\">2.1&nbsp;&nbsp;</span>Собираем кумулятивные данные</a></span></li><li><span><a href=\"#Графики-по-кумулятивным-данным\" data-toc-modified-id=\"Графики-по-кумулятивным-данным-2.2\"><span class=\"toc-item-num\">2.2&nbsp;&nbsp;</span>Графики по кумулятивным данным</a></span><ul class=\"toc-item\"><li><span><a href=\"#График-кумулятивной-выручки-по-группам\" data-toc-modified-id=\"График-кумулятивной-выручки-по-группам-2.2.1\"><span class=\"toc-item-num\">2.2.1&nbsp;&nbsp;</span>График кумулятивной выручки по группам</a></span></li><li><span><a href=\"#График-кумулятивного-среднего-чека-по-группам\" data-toc-modified-id=\"График-кумулятивного-среднего-чека-по-группам-2.2.2\"><span class=\"toc-item-num\">2.2.2&nbsp;&nbsp;</span>График кумулятивного среднего чека по группам</a></span></li><li><span><a href=\"#График-относительного-изменения-кумулятивного-среднего-чека-группы-B-к-группе-A\" data-toc-modified-id=\"График-относительного-изменения-кумулятивного-среднего-чека-группы-B-к-группе-A-2.2.3\"><span class=\"toc-item-num\">2.2.3&nbsp;&nbsp;</span>График относительного изменения кумулятивного среднего чека группы B к группе A</a></span></li><li><span><a href=\"#График-кумулятивного-среднего-количества-заказов-на-пользователя-по-группам-(конверсия)\" data-toc-modified-id=\"График-кумулятивного-среднего-количества-заказов-на-пользователя-по-группам-(конверсия)-2.2.4\"><span class=\"toc-item-num\">2.2.4&nbsp;&nbsp;</span>График кумулятивного среднего количества заказов на пользователя по группам (конверсия)</a></span></li><li><span><a href=\"#График-относительного-изменения-кумулятивного-среднего-количества-заказов-на-пользователя-(конверсия)-группы-B-к-группе-A\" data-toc-modified-id=\"График-относительного-изменения-кумулятивного-среднего-количества-заказов-на-пользователя-(конверсия)-группы-B-к-группе-A-2.2.5\"><span class=\"toc-item-num\">2.2.5&nbsp;&nbsp;</span>График относительного изменения кумулятивного среднего количества заказов на пользователя (конверсия) группы B к группе A</a></span></li></ul></li><li><span><a href=\"#Анализ-выбросов\" data-toc-modified-id=\"Анализ-выбросов-2.3\"><span class=\"toc-item-num\">2.3&nbsp;&nbsp;</span>Анализ выбросов</a></span></li><li><span><a href=\"#Расчёт-статистической-значимости\" data-toc-modified-id=\"Расчёт-статистической-значимости-2.4\"><span class=\"toc-item-num\">2.4&nbsp;&nbsp;</span>Расчёт статистической значимости</a></span><ul class=\"toc-item\"><li><span><a href=\"#Статистическая-значимость-различий-в-среднем-количестве-заказов-на-посетителя-между-группами-по-«сырым»-данным\" data-toc-modified-id=\"Статистическая-значимость-различий-в-среднем-количестве-заказов-на-посетителя-между-группами-по-«сырым»-данным-2.4.1\"><span class=\"toc-item-num\">2.4.1&nbsp;&nbsp;</span>Статистическая значимость различий в среднем количестве заказов на посетителя между группами по «сырым» данным</a></span></li><li><span><a href=\"#Cтатистическая-значимость-различий-в-среднем-чеке-заказа-между-группами-по-«сырым»-данным\" data-toc-modified-id=\"Cтатистическая-значимость-различий-в-среднем-чеке-заказа-между-группами-по-«сырым»-данным-2.4.2\"><span class=\"toc-item-num\">2.4.2&nbsp;&nbsp;</span>Cтатистическая значимость различий в среднем чеке заказа между группами по «сырым» данным</a></span></li><li><span><a href=\"#Cтатистическая-значимость-различий-в-среднем-количестве-заказов-на-посетителя-между-группами-по-«очищенным»-данным\" data-toc-modified-id=\"Cтатистическая-значимость-различий-в-среднем-количестве-заказов-на-посетителя-между-группами-по-«очищенным»-данным-2.4.3\"><span class=\"toc-item-num\">2.4.3&nbsp;&nbsp;</span>Cтатистическая значимость различий в среднем количестве заказов на посетителя между группами по «очищенным» данным</a></span></li><li><span><a href=\"#Статистическая-значимость-различий-в-среднем-чеке-заказа-между-группами-по-«очищенным»-данным\" data-toc-modified-id=\"Статистическая-значимость-различий-в-среднем-чеке-заказа-между-группами-по-«очищенным»-данным-2.4.4\"><span class=\"toc-item-num\">2.4.4&nbsp;&nbsp;</span>Статистическая значимость различий в среднем чеке заказа между группами по «очищенным» данным</a></span></li></ul></li></ul></li><li><span><a href=\"#Вывод\" data-toc-modified-id=\"Вывод-3\"><span class=\"toc-item-num\">3&nbsp;&nbsp;</span>Вывод</a></span></li></ul></div>"
   ]
  },
  {
   "cell_type": "markdown",
   "id": "1b0b49a0",
   "metadata": {},
   "source": [
    "# Marketing A/B test\n",
    "\n",
    "Вместе с отделом маркетинга были разработаны 9 гипотез по увеличению выручки интернет-магазина. \n",
    "\n",
    "**В ходе исследования предстоит:** \n",
    "- Приоритизировать гипотезы\n",
    "- Запустить A/B-тест\n",
    "- Проанализировать результаты"
   ]
  },
  {
   "cell_type": "markdown",
   "id": "1f392419",
   "metadata": {},
   "source": [
    "## Приоритезация гипотез"
   ]
  },
  {
   "cell_type": "markdown",
   "id": "cbb940c5",
   "metadata": {},
   "source": [
    "Для приоритезации применим фреймворки `ICE` и `RICE`"
   ]
  },
  {
   "cell_type": "markdown",
   "id": "0ca0d229",
   "metadata": {},
   "source": [
    "Описание датасета `hypothesis.csv`:  \n",
    "- `Hypothesis` — краткое описание гипотезы;\n",
    "- `Reach` — охват пользователей по 10-балльной шкале;\n",
    "- `Impact` — влияние на пользователей по 10-балльной шкале;\n",
    "- `Confidence` — уверенность в гипотезе по 10-балльной шкале;\n",
    "- `Efforts` — затраты ресурсов на проверку гипотезы по 10-балльной шкале. Чем больше значение Efforts, тем дороже проверка гипотезы.\n",
    "---"
   ]
  },
  {
   "cell_type": "code",
   "execution_count": 1,
   "id": "c42f9d04",
   "metadata": {},
   "outputs": [],
   "source": [
    "# Имортируем все необходимые библиотеки\n",
    "import pandas as pd\n",
    "import numpy as np\n",
    "import matplotlib.pyplot as plt\n",
    "import scipy.stats as stats\n",
    "import datetime as dt"
   ]
  },
  {
   "cell_type": "code",
   "execution_count": 2,
   "id": "c2de6124",
   "metadata": {
    "scrolled": true
   },
   "outputs": [
    {
     "data": {
      "text/html": [
       "<div>\n",
       "<style scoped>\n",
       "    .dataframe tbody tr th:only-of-type {\n",
       "        vertical-align: middle;\n",
       "    }\n",
       "\n",
       "    .dataframe tbody tr th {\n",
       "        vertical-align: top;\n",
       "    }\n",
       "\n",
       "    .dataframe thead th {\n",
       "        text-align: right;\n",
       "    }\n",
       "</style>\n",
       "<table border=\"1\" class=\"dataframe\">\n",
       "  <thead>\n",
       "    <tr style=\"text-align: right;\">\n",
       "      <th></th>\n",
       "      <th>Hypothesis</th>\n",
       "      <th>Reach</th>\n",
       "      <th>Impact</th>\n",
       "      <th>Confidence</th>\n",
       "      <th>Efforts</th>\n",
       "    </tr>\n",
       "  </thead>\n",
       "  <tbody>\n",
       "    <tr>\n",
       "      <th>0</th>\n",
       "      <td>Добавить два новых канала привлечения трафика, что позволит привлекать на 30% больше пользователей</td>\n",
       "      <td>3</td>\n",
       "      <td>10</td>\n",
       "      <td>8</td>\n",
       "      <td>6</td>\n",
       "    </tr>\n",
       "    <tr>\n",
       "      <th>1</th>\n",
       "      <td>Запустить собственную службу доставки, что сократит срок доставки заказов</td>\n",
       "      <td>2</td>\n",
       "      <td>5</td>\n",
       "      <td>4</td>\n",
       "      <td>10</td>\n",
       "    </tr>\n",
       "    <tr>\n",
       "      <th>2</th>\n",
       "      <td>Добавить блоки рекомендаций товаров на сайт интернет магазина, чтобы повысить конверсию и средний чек заказа</td>\n",
       "      <td>8</td>\n",
       "      <td>3</td>\n",
       "      <td>7</td>\n",
       "      <td>3</td>\n",
       "    </tr>\n",
       "    <tr>\n",
       "      <th>3</th>\n",
       "      <td>Изменить структура категорий, что увеличит конверсию, т.к. пользователи быстрее найдут нужный товар</td>\n",
       "      <td>8</td>\n",
       "      <td>3</td>\n",
       "      <td>3</td>\n",
       "      <td>8</td>\n",
       "    </tr>\n",
       "    <tr>\n",
       "      <th>4</th>\n",
       "      <td>Изменить цвет фона главной страницы, чтобы увеличить вовлеченность пользователей</td>\n",
       "      <td>3</td>\n",
       "      <td>1</td>\n",
       "      <td>1</td>\n",
       "      <td>1</td>\n",
       "    </tr>\n",
       "    <tr>\n",
       "      <th>5</th>\n",
       "      <td>Добавить страницу отзывов клиентов о магазине, что позволит увеличить количество заказов</td>\n",
       "      <td>3</td>\n",
       "      <td>2</td>\n",
       "      <td>2</td>\n",
       "      <td>3</td>\n",
       "    </tr>\n",
       "    <tr>\n",
       "      <th>6</th>\n",
       "      <td>Показать на главной странице баннеры с актуальными акциями и распродажами, чтобы увеличить конверсию</td>\n",
       "      <td>5</td>\n",
       "      <td>3</td>\n",
       "      <td>8</td>\n",
       "      <td>3</td>\n",
       "    </tr>\n",
       "    <tr>\n",
       "      <th>7</th>\n",
       "      <td>Добавить форму подписки на все основные страницы, чтобы собрать базу клиентов для email-рассылок</td>\n",
       "      <td>10</td>\n",
       "      <td>7</td>\n",
       "      <td>8</td>\n",
       "      <td>5</td>\n",
       "    </tr>\n",
       "    <tr>\n",
       "      <th>8</th>\n",
       "      <td>Запустить акцию, дающую скидку на товар в день рождения</td>\n",
       "      <td>1</td>\n",
       "      <td>9</td>\n",
       "      <td>9</td>\n",
       "      <td>5</td>\n",
       "    </tr>\n",
       "  </tbody>\n",
       "</table>\n",
       "</div>"
      ],
      "text/plain": [
       "                                                                                                     Hypothesis  \\\n",
       "0            Добавить два новых канала привлечения трафика, что позволит привлекать на 30% больше пользователей   \n",
       "1                                     Запустить собственную службу доставки, что сократит срок доставки заказов   \n",
       "2  Добавить блоки рекомендаций товаров на сайт интернет магазина, чтобы повысить конверсию и средний чек заказа   \n",
       "3           Изменить структура категорий, что увеличит конверсию, т.к. пользователи быстрее найдут нужный товар   \n",
       "4                              Изменить цвет фона главной страницы, чтобы увеличить вовлеченность пользователей   \n",
       "5                      Добавить страницу отзывов клиентов о магазине, что позволит увеличить количество заказов   \n",
       "6          Показать на главной странице баннеры с актуальными акциями и распродажами, чтобы увеличить конверсию   \n",
       "7              Добавить форму подписки на все основные страницы, чтобы собрать базу клиентов для email-рассылок   \n",
       "8                                                       Запустить акцию, дающую скидку на товар в день рождения   \n",
       "\n",
       "   Reach  Impact  Confidence  Efforts  \n",
       "0      3      10           8        6  \n",
       "1      2       5           4       10  \n",
       "2      8       3           7        3  \n",
       "3      8       3           3        8  \n",
       "4      3       1           1        1  \n",
       "5      3       2           2        3  \n",
       "6      5       3           8        3  \n",
       "7     10       7           8        5  \n",
       "8      1       9           9        5  "
      ]
     },
     "execution_count": 2,
     "metadata": {},
     "output_type": "execute_result"
    }
   ],
   "source": [
    "# Прочитаем датасет hypothesis\n",
    "hypothesis = pd.read_csv('hypothesis.csv')\n",
    "\n",
    "pd.set_option('display.max_colwidth', None)  # Расширим строки для удобства чтения гипотез\n",
    "hypothesis"
   ]
  },
  {
   "cell_type": "markdown",
   "id": "1c799ec9",
   "metadata": {},
   "source": [
    "<font color='Blue'>**ICE**</font>"
   ]
  },
  {
   "cell_type": "code",
   "execution_count": 3,
   "id": "c36a2f43",
   "metadata": {
    "scrolled": true
   },
   "outputs": [
    {
     "data": {
      "text/html": [
       "<div>\n",
       "<style scoped>\n",
       "    .dataframe tbody tr th:only-of-type {\n",
       "        vertical-align: middle;\n",
       "    }\n",
       "\n",
       "    .dataframe tbody tr th {\n",
       "        vertical-align: top;\n",
       "    }\n",
       "\n",
       "    .dataframe thead th {\n",
       "        text-align: right;\n",
       "    }\n",
       "</style>\n",
       "<table border=\"1\" class=\"dataframe\">\n",
       "  <thead>\n",
       "    <tr style=\"text-align: right;\">\n",
       "      <th></th>\n",
       "      <th>hypothesis</th>\n",
       "      <th>ICE</th>\n",
       "    </tr>\n",
       "  </thead>\n",
       "  <tbody>\n",
       "    <tr>\n",
       "      <th>8</th>\n",
       "      <td>Запустить акцию, дающую скидку на товар в день рождения</td>\n",
       "      <td>16.20</td>\n",
       "    </tr>\n",
       "    <tr>\n",
       "      <th>0</th>\n",
       "      <td>Добавить два новых канала привлечения трафика, что позволит привлекать на 30% больше пользователей</td>\n",
       "      <td>13.33</td>\n",
       "    </tr>\n",
       "    <tr>\n",
       "      <th>7</th>\n",
       "      <td>Добавить форму подписки на все основные страницы, чтобы собрать базу клиентов для email-рассылок</td>\n",
       "      <td>11.20</td>\n",
       "    </tr>\n",
       "    <tr>\n",
       "      <th>6</th>\n",
       "      <td>Показать на главной странице баннеры с актуальными акциями и распродажами, чтобы увеличить конверсию</td>\n",
       "      <td>8.00</td>\n",
       "    </tr>\n",
       "    <tr>\n",
       "      <th>2</th>\n",
       "      <td>Добавить блоки рекомендаций товаров на сайт интернет магазина, чтобы повысить конверсию и средний чек заказа</td>\n",
       "      <td>7.00</td>\n",
       "    </tr>\n",
       "    <tr>\n",
       "      <th>1</th>\n",
       "      <td>Запустить собственную службу доставки, что сократит срок доставки заказов</td>\n",
       "      <td>2.00</td>\n",
       "    </tr>\n",
       "    <tr>\n",
       "      <th>5</th>\n",
       "      <td>Добавить страницу отзывов клиентов о магазине, что позволит увеличить количество заказов</td>\n",
       "      <td>1.33</td>\n",
       "    </tr>\n",
       "    <tr>\n",
       "      <th>3</th>\n",
       "      <td>Изменить структура категорий, что увеличит конверсию, т.к. пользователи быстрее найдут нужный товар</td>\n",
       "      <td>1.12</td>\n",
       "    </tr>\n",
       "    <tr>\n",
       "      <th>4</th>\n",
       "      <td>Изменить цвет фона главной страницы, чтобы увеличить вовлеченность пользователей</td>\n",
       "      <td>1.00</td>\n",
       "    </tr>\n",
       "  </tbody>\n",
       "</table>\n",
       "</div>"
      ],
      "text/plain": [
       "                                                                                                     hypothesis  \\\n",
       "8                                                       Запустить акцию, дающую скидку на товар в день рождения   \n",
       "0            Добавить два новых канала привлечения трафика, что позволит привлекать на 30% больше пользователей   \n",
       "7              Добавить форму подписки на все основные страницы, чтобы собрать базу клиентов для email-рассылок   \n",
       "6          Показать на главной странице баннеры с актуальными акциями и распродажами, чтобы увеличить конверсию   \n",
       "2  Добавить блоки рекомендаций товаров на сайт интернет магазина, чтобы повысить конверсию и средний чек заказа   \n",
       "1                                     Запустить собственную службу доставки, что сократит срок доставки заказов   \n",
       "5                      Добавить страницу отзывов клиентов о магазине, что позволит увеличить количество заказов   \n",
       "3           Изменить структура категорий, что увеличит конверсию, т.к. пользователи быстрее найдут нужный товар   \n",
       "4                              Изменить цвет фона главной страницы, чтобы увеличить вовлеченность пользователей   \n",
       "\n",
       "     ICE  \n",
       "8  16.20  \n",
       "0  13.33  \n",
       "7  11.20  \n",
       "6   8.00  \n",
       "2   7.00  \n",
       "1   2.00  \n",
       "5   1.33  \n",
       "3   1.12  \n",
       "4   1.00  "
      ]
     },
     "execution_count": 3,
     "metadata": {},
     "output_type": "execute_result"
    }
   ],
   "source": [
    "hypothesis.columns = hypothesis.columns.str.lower()  # Приведём названия колонок к нижнему регистру\n",
    "hypothesis['ICE'] = round(hypothesis['impact']*hypothesis['confidence']/hypothesis['efforts'], 2)\n",
    "hypothesis[['hypothesis', 'ICE']].sort_values(by='ICE', ascending=False)"
   ]
  },
  {
   "cell_type": "markdown",
   "id": "7b87d48e",
   "metadata": {},
   "source": [
    "<font color='Blue'>**RICE**</font>"
   ]
  },
  {
   "cell_type": "code",
   "execution_count": 4,
   "id": "a290ce63",
   "metadata": {},
   "outputs": [
    {
     "data": {
      "text/html": [
       "<div>\n",
       "<style scoped>\n",
       "    .dataframe tbody tr th:only-of-type {\n",
       "        vertical-align: middle;\n",
       "    }\n",
       "\n",
       "    .dataframe tbody tr th {\n",
       "        vertical-align: top;\n",
       "    }\n",
       "\n",
       "    .dataframe thead th {\n",
       "        text-align: right;\n",
       "    }\n",
       "</style>\n",
       "<table border=\"1\" class=\"dataframe\">\n",
       "  <thead>\n",
       "    <tr style=\"text-align: right;\">\n",
       "      <th></th>\n",
       "      <th>hypothesis</th>\n",
       "      <th>RICE</th>\n",
       "    </tr>\n",
       "  </thead>\n",
       "  <tbody>\n",
       "    <tr>\n",
       "      <th>7</th>\n",
       "      <td>Добавить форму подписки на все основные страницы, чтобы собрать базу клиентов для email-рассылок</td>\n",
       "      <td>112.0</td>\n",
       "    </tr>\n",
       "    <tr>\n",
       "      <th>2</th>\n",
       "      <td>Добавить блоки рекомендаций товаров на сайт интернет магазина, чтобы повысить конверсию и средний чек заказа</td>\n",
       "      <td>56.0</td>\n",
       "    </tr>\n",
       "    <tr>\n",
       "      <th>0</th>\n",
       "      <td>Добавить два новых канала привлечения трафика, что позволит привлекать на 30% больше пользователей</td>\n",
       "      <td>40.0</td>\n",
       "    </tr>\n",
       "    <tr>\n",
       "      <th>6</th>\n",
       "      <td>Показать на главной странице баннеры с актуальными акциями и распродажами, чтобы увеличить конверсию</td>\n",
       "      <td>40.0</td>\n",
       "    </tr>\n",
       "    <tr>\n",
       "      <th>8</th>\n",
       "      <td>Запустить акцию, дающую скидку на товар в день рождения</td>\n",
       "      <td>16.2</td>\n",
       "    </tr>\n",
       "    <tr>\n",
       "      <th>3</th>\n",
       "      <td>Изменить структура категорий, что увеличит конверсию, т.к. пользователи быстрее найдут нужный товар</td>\n",
       "      <td>9.0</td>\n",
       "    </tr>\n",
       "    <tr>\n",
       "      <th>1</th>\n",
       "      <td>Запустить собственную службу доставки, что сократит срок доставки заказов</td>\n",
       "      <td>4.0</td>\n",
       "    </tr>\n",
       "    <tr>\n",
       "      <th>5</th>\n",
       "      <td>Добавить страницу отзывов клиентов о магазине, что позволит увеличить количество заказов</td>\n",
       "      <td>4.0</td>\n",
       "    </tr>\n",
       "    <tr>\n",
       "      <th>4</th>\n",
       "      <td>Изменить цвет фона главной страницы, чтобы увеличить вовлеченность пользователей</td>\n",
       "      <td>3.0</td>\n",
       "    </tr>\n",
       "  </tbody>\n",
       "</table>\n",
       "</div>"
      ],
      "text/plain": [
       "                                                                                                     hypothesis  \\\n",
       "7              Добавить форму подписки на все основные страницы, чтобы собрать базу клиентов для email-рассылок   \n",
       "2  Добавить блоки рекомендаций товаров на сайт интернет магазина, чтобы повысить конверсию и средний чек заказа   \n",
       "0            Добавить два новых канала привлечения трафика, что позволит привлекать на 30% больше пользователей   \n",
       "6          Показать на главной странице баннеры с актуальными акциями и распродажами, чтобы увеличить конверсию   \n",
       "8                                                       Запустить акцию, дающую скидку на товар в день рождения   \n",
       "3           Изменить структура категорий, что увеличит конверсию, т.к. пользователи быстрее найдут нужный товар   \n",
       "1                                     Запустить собственную службу доставки, что сократит срок доставки заказов   \n",
       "5                      Добавить страницу отзывов клиентов о магазине, что позволит увеличить количество заказов   \n",
       "4                              Изменить цвет фона главной страницы, чтобы увеличить вовлеченность пользователей   \n",
       "\n",
       "    RICE  \n",
       "7  112.0  \n",
       "2   56.0  \n",
       "0   40.0  \n",
       "6   40.0  \n",
       "8   16.2  \n",
       "3    9.0  \n",
       "1    4.0  \n",
       "5    4.0  \n",
       "4    3.0  "
      ]
     },
     "execution_count": 4,
     "metadata": {},
     "output_type": "execute_result"
    }
   ],
   "source": [
    "hypothesis['RICE'] = hypothesis['reach']*hypothesis['impact']*hypothesis['confidence']/hypothesis['efforts']\n",
    "hypothesis[['hypothesis', 'RICE']].sort_values(by='RICE', ascending=False)"
   ]
  },
  {
   "cell_type": "markdown",
   "id": "e9f4ac21",
   "metadata": {},
   "source": [
    "<div class='alert alert-info'><b>\n",
    "Согласно оценкам фреймворков тройка наиболее перспективных гипотез выглядит следующим образом:   \n",
    "    \n",
    "    \n",
    "- ICE:\n",
    "    - \"Запустить акцию, дающую скидку на товар в день рождения\"\n",
    "    - \"Добавить два новых канала привлечения трафика, что позволит привлекать на 30% больше пользователей\"\n",
    "    - \"Добавить форму подписки на все основные страницы, чтобы собрать базу клиентов для email-рассылок\"\n",
    "- RICE:\n",
    "    - \"Добавить форму подписки на все основные страницы, чтобы собрать базу клиентов для email-рассылок\"\n",
    "    - \"Добавить блоки рекомендаций товаров на сайт интернет магазина, чтобы повысить конверсию и средний чек заказа\"\n",
    "    - \"Добавить два новых канала привлечения трафика, что позволит привлекать на 30% больше пользователей\"\n",
    "    \n",
    "Такая разница связанна с учётом охвата пользователей (reach) во фреймворке RICE. То есть гипотеза \"Добавить форму подписки...\" захватит больше пользователей и будет более эффективной, чем гипотеза \"Запустить акцию...\".   \n",
    "    Тестируем гипотезу: \"Добавить форму подписки на все основные страницы, чтобы собрать базу клиентов для email-рассылок\"\n",
    "</b></div>"
   ]
  },
  {
   "cell_type": "markdown",
   "id": "27651c83",
   "metadata": {},
   "source": [
    "## Анализ A/B теста"
   ]
  },
  {
   "cell_type": "markdown",
   "id": "fa64dd33",
   "metadata": {},
   "source": [
    "После проведения A/B-теста мы получили результаты, которые описаны в файлах `orders.csv` и `visitors.csv`.\n",
    "\n",
    "Описание датасета `orders.csv`:\n",
    "- `transactionId` — идентификатор заказа;\n",
    "- `visitorId` — идентификатор пользователя, совершившего заказ;\n",
    "- `date` — дата, когда был совершён заказ;\n",
    "- `revenue` — выручка заказа;\n",
    "- `group` — группа A/B-теста, в которую попал заказ.\n",
    "\n",
    "Описание датасета `visitors.csv`:\n",
    "- `date` — дата;\n",
    "- `group` — группа A/B-теста;\n",
    "- `visitors` — количество пользователей в указанную дату в указанной группе A/B-теста\n",
    "\n",
    "В ходе анализа:\n",
    "- посмотрим на выручку, средний чек и конверсию с помощью графиков;\n",
    "- определим аномальные значения;\n",
    "- посчитаем статистическую значимость;\n",
    "- примем решение о продолжении теста.\n",
    "\n",
    "---"
   ]
  },
  {
   "cell_type": "code",
   "execution_count": 5,
   "id": "f259dd73",
   "metadata": {
    "scrolled": false
   },
   "outputs": [
    {
     "data": {
      "text/html": [
       "<div>\n",
       "<style scoped>\n",
       "    .dataframe tbody tr th:only-of-type {\n",
       "        vertical-align: middle;\n",
       "    }\n",
       "\n",
       "    .dataframe tbody tr th {\n",
       "        vertical-align: top;\n",
       "    }\n",
       "\n",
       "    .dataframe thead th {\n",
       "        text-align: right;\n",
       "    }\n",
       "</style>\n",
       "<table border=\"1\" class=\"dataframe\">\n",
       "  <thead>\n",
       "    <tr style=\"text-align: right;\">\n",
       "      <th></th>\n",
       "      <th>transactionid</th>\n",
       "      <th>visitorid</th>\n",
       "      <th>date</th>\n",
       "      <th>revenue</th>\n",
       "      <th>group</th>\n",
       "    </tr>\n",
       "  </thead>\n",
       "  <tbody>\n",
       "    <tr>\n",
       "      <th>0</th>\n",
       "      <td>3667963787</td>\n",
       "      <td>3312258926</td>\n",
       "      <td>2019-08-15</td>\n",
       "      <td>1650</td>\n",
       "      <td>B</td>\n",
       "    </tr>\n",
       "    <tr>\n",
       "      <th>1</th>\n",
       "      <td>2804400009</td>\n",
       "      <td>3642806036</td>\n",
       "      <td>2019-08-15</td>\n",
       "      <td>730</td>\n",
       "      <td>B</td>\n",
       "    </tr>\n",
       "    <tr>\n",
       "      <th>2</th>\n",
       "      <td>2961555356</td>\n",
       "      <td>4069496402</td>\n",
       "      <td>2019-08-15</td>\n",
       "      <td>400</td>\n",
       "      <td>A</td>\n",
       "    </tr>\n",
       "    <tr>\n",
       "      <th>3</th>\n",
       "      <td>3797467345</td>\n",
       "      <td>1196621759</td>\n",
       "      <td>2019-08-15</td>\n",
       "      <td>9759</td>\n",
       "      <td>B</td>\n",
       "    </tr>\n",
       "    <tr>\n",
       "      <th>4</th>\n",
       "      <td>2282983706</td>\n",
       "      <td>2322279887</td>\n",
       "      <td>2019-08-15</td>\n",
       "      <td>2308</td>\n",
       "      <td>B</td>\n",
       "    </tr>\n",
       "  </tbody>\n",
       "</table>\n",
       "</div>"
      ],
      "text/plain": [
       "   transactionid   visitorid       date  revenue group\n",
       "0     3667963787  3312258926 2019-08-15     1650     B\n",
       "1     2804400009  3642806036 2019-08-15      730     B\n",
       "2     2961555356  4069496402 2019-08-15      400     A\n",
       "3     3797467345  1196621759 2019-08-15     9759     B\n",
       "4     2282983706  2322279887 2019-08-15     2308     B"
      ]
     },
     "execution_count": 5,
     "metadata": {},
     "output_type": "execute_result"
    }
   ],
   "source": [
    "# Прочитаем датасет orders\n",
    "orders = pd.read_csv('orders.csv')\n",
    "\n",
    "orders.columns = orders.columns.str.lower()  # Приведём названия колонок к нижнему регистру\n",
    "orders['date'] = orders['date'].map(         # и даты к соответствующему типу\n",
    "    lambda x: dt.datetime.strptime(x, '%Y-%m-%d'))\n",
    "orders.head()"
   ]
  },
  {
   "cell_type": "code",
   "execution_count": 6,
   "id": "07daaeac",
   "metadata": {},
   "outputs": [
    {
     "name": "stdout",
     "output_type": "stream",
     "text": [
      "Дубликатов - 0\n",
      "Группы - 2\n",
      "Дата начала теста 2019-08-01\n",
      "Дата окончания теста 2019-08-31\n",
      "Количество пользователей в группе А - 503\n",
      "Количество пользователей в группе В - 586\n"
     ]
    }
   ],
   "source": [
    "duplicates = orders.duplicated().sum()\n",
    "group_count = orders.group.nunique()\n",
    "date_min, date_max = orders.date.min().date(), orders.date.max().date()\n",
    "users_count_A = orders.query('group == \"A\"')['visitorid'].nunique()\n",
    "users_count_B = orders.query('group == \"B\"')['visitorid'].nunique()\n",
    "\n",
    "print(\n",
    "f\"Дубликатов - {duplicates}\",\n",
    "f\"Группы - {group_count}\",\n",
    "f\"Дата начала теста {date_min}\",\n",
    "f\"Дата окончания теста {date_max}\",\n",
    "f\"Количество пользователей в группе А - {users_count_A}\",\n",
    "f\"Количество пользователей в группе В - {users_count_B}\",\n",
    "sep='\\n'\n",
    ")"
   ]
  },
  {
   "cell_type": "code",
   "execution_count": 7,
   "id": "47c73219",
   "metadata": {
    "scrolled": false
   },
   "outputs": [
    {
     "data": {
      "text/html": [
       "<div>\n",
       "<style scoped>\n",
       "    .dataframe tbody tr th:only-of-type {\n",
       "        vertical-align: middle;\n",
       "    }\n",
       "\n",
       "    .dataframe tbody tr th {\n",
       "        vertical-align: top;\n",
       "    }\n",
       "\n",
       "    .dataframe thead th {\n",
       "        text-align: right;\n",
       "    }\n",
       "</style>\n",
       "<table border=\"1\" class=\"dataframe\">\n",
       "  <thead>\n",
       "    <tr style=\"text-align: right;\">\n",
       "      <th></th>\n",
       "      <th>date</th>\n",
       "      <th>group</th>\n",
       "      <th>visitors</th>\n",
       "    </tr>\n",
       "  </thead>\n",
       "  <tbody>\n",
       "    <tr>\n",
       "      <th>0</th>\n",
       "      <td>2019-08-01</td>\n",
       "      <td>A</td>\n",
       "      <td>719</td>\n",
       "    </tr>\n",
       "    <tr>\n",
       "      <th>1</th>\n",
       "      <td>2019-08-02</td>\n",
       "      <td>A</td>\n",
       "      <td>619</td>\n",
       "    </tr>\n",
       "    <tr>\n",
       "      <th>2</th>\n",
       "      <td>2019-08-03</td>\n",
       "      <td>A</td>\n",
       "      <td>507</td>\n",
       "    </tr>\n",
       "    <tr>\n",
       "      <th>3</th>\n",
       "      <td>2019-08-04</td>\n",
       "      <td>A</td>\n",
       "      <td>717</td>\n",
       "    </tr>\n",
       "    <tr>\n",
       "      <th>4</th>\n",
       "      <td>2019-08-05</td>\n",
       "      <td>A</td>\n",
       "      <td>756</td>\n",
       "    </tr>\n",
       "  </tbody>\n",
       "</table>\n",
       "</div>"
      ],
      "text/plain": [
       "        date group  visitors\n",
       "0 2019-08-01     A       719\n",
       "1 2019-08-02     A       619\n",
       "2 2019-08-03     A       507\n",
       "3 2019-08-04     A       717\n",
       "4 2019-08-05     A       756"
      ]
     },
     "execution_count": 7,
     "metadata": {},
     "output_type": "execute_result"
    }
   ],
   "source": [
    "# Прочитаем датасет visitors\n",
    "visitors = pd.read_csv('visitors.csv')\n",
    "\n",
    "visitors['date'] = visitors['date'].map(  # Приведём даты к соответствующему типу\n",
    "    lambda x: dt.datetime.strptime(x, '%Y-%m-%d'))\n",
    "visitors.head()"
   ]
  },
  {
   "cell_type": "code",
   "execution_count": 8,
   "id": "48fa722f",
   "metadata": {},
   "outputs": [
    {
     "name": "stdout",
     "output_type": "stream",
     "text": [
      "Дубликатов - 0\n",
      "Группы - 2\n",
      "Дата начала теста 2019-08-01\n",
      "Дата окончания теста 2019-08-31\n"
     ]
    }
   ],
   "source": [
    "duplicates = visitors.duplicated().sum()\n",
    "group_count = visitors.group.nunique()\n",
    "date_min, date_max = visitors.date.min().date(), visitors.date.max().date()\n",
    "\n",
    "print(\n",
    "f\"Дубликатов - {duplicates}\",\n",
    "f\"Группы - {group_count}\",\n",
    "f\"Дата начала теста {date_min}\",\n",
    "f\"Дата окончания теста {date_max}\",\n",
    "sep='\\n'\n",
    ")"
   ]
  },
  {
   "cell_type": "markdown",
   "id": "636dbf5e",
   "metadata": {},
   "source": [
    "### Собираем кумулятивные данные"
   ]
  },
  {
   "cell_type": "markdown",
   "id": "0c3ea78e",
   "metadata": {},
   "source": [
    "**Создадим датафреймы с кумулятивными даннными**"
   ]
  },
  {
   "cell_type": "code",
   "execution_count": 9,
   "id": "8304f72a",
   "metadata": {},
   "outputs": [
    {
     "data": {
      "text/html": [
       "<div>\n",
       "<style scoped>\n",
       "    .dataframe tbody tr th:only-of-type {\n",
       "        vertical-align: middle;\n",
       "    }\n",
       "\n",
       "    .dataframe tbody tr th {\n",
       "        vertical-align: top;\n",
       "    }\n",
       "\n",
       "    .dataframe thead th {\n",
       "        text-align: right;\n",
       "    }\n",
       "</style>\n",
       "<table border=\"1\" class=\"dataframe\">\n",
       "  <thead>\n",
       "    <tr style=\"text-align: right;\">\n",
       "      <th></th>\n",
       "      <th>date</th>\n",
       "      <th>group</th>\n",
       "      <th>orders</th>\n",
       "      <th>buyers</th>\n",
       "      <th>revenue</th>\n",
       "      <th>visitors</th>\n",
       "    </tr>\n",
       "  </thead>\n",
       "  <tbody>\n",
       "    <tr>\n",
       "      <th>0</th>\n",
       "      <td>2019-08-01</td>\n",
       "      <td>A</td>\n",
       "      <td>24</td>\n",
       "      <td>20</td>\n",
       "      <td>148579</td>\n",
       "      <td>719</td>\n",
       "    </tr>\n",
       "    <tr>\n",
       "      <th>1</th>\n",
       "      <td>2019-08-01</td>\n",
       "      <td>B</td>\n",
       "      <td>21</td>\n",
       "      <td>20</td>\n",
       "      <td>101217</td>\n",
       "      <td>713</td>\n",
       "    </tr>\n",
       "    <tr>\n",
       "      <th>2</th>\n",
       "      <td>2019-08-02</td>\n",
       "      <td>A</td>\n",
       "      <td>44</td>\n",
       "      <td>38</td>\n",
       "      <td>242401</td>\n",
       "      <td>1338</td>\n",
       "    </tr>\n",
       "    <tr>\n",
       "      <th>3</th>\n",
       "      <td>2019-08-02</td>\n",
       "      <td>B</td>\n",
       "      <td>45</td>\n",
       "      <td>43</td>\n",
       "      <td>266748</td>\n",
       "      <td>1294</td>\n",
       "    </tr>\n",
       "    <tr>\n",
       "      <th>4</th>\n",
       "      <td>2019-08-03</td>\n",
       "      <td>A</td>\n",
       "      <td>68</td>\n",
       "      <td>62</td>\n",
       "      <td>354874</td>\n",
       "      <td>1845</td>\n",
       "    </tr>\n",
       "  </tbody>\n",
       "</table>\n",
       "</div>"
      ],
      "text/plain": [
       "        date group  orders  buyers  revenue  visitors\n",
       "0 2019-08-01     A      24      20   148579       719\n",
       "1 2019-08-01     B      21      20   101217       713\n",
       "2 2019-08-02     A      44      38   242401      1338\n",
       "3 2019-08-02     B      45      43   266748      1294\n",
       "4 2019-08-03     A      68      62   354874      1845"
      ]
     },
     "execution_count": 9,
     "metadata": {},
     "output_type": "execute_result"
    }
   ],
   "source": [
    "# Создадим массив уникальных пар значений дат и групп\n",
    "datesGroups = orders[['date', 'group']].drop_duplicates()\n",
    "\n",
    "# Соберём агрегированные кумулятивные данные о заказах по дням\n",
    "ordersAggregated = datesGroups.apply(\n",
    "    lambda x: orders[\n",
    "        np.logical_and(\n",
    "            orders['date'] <= x['date'], orders['group'] == x['group'])\n",
    "    ].agg(\n",
    "        {\n",
    "            'date': 'max',\n",
    "            'group': 'max',\n",
    "            'transactionid': 'nunique',\n",
    "            'visitorid': 'nunique',\n",
    "            'revenue': 'sum',\n",
    "        }\n",
    "    ),\n",
    "    axis=1\n",
    ").sort_values(by=['date', 'group'])\n",
    "\n",
    "# Соберём агрегированные кумулятивные данные о посетителях по дням\n",
    "visitorsAggregated = datesGroups.apply(\n",
    "    lambda x: visitors[\n",
    "        np.logical_and(\n",
    "            visitors['date'] <= x['date'], visitors['group'] == x['group']\n",
    "        )\n",
    "    ].agg({'date': 'max', 'group': 'max', 'visitors': 'sum'}),\n",
    "    axis=1\n",
    ").sort_values(by=['date', 'group'])\n",
    "\n",
    "# Объединим кумулятивные данные в один датафрейм\n",
    "cumulativeData = ordersAggregated.merge(\n",
    "    visitorsAggregated, left_on=['date', 'group'], right_on=['date', 'group']\n",
    ")\n",
    "\n",
    "# Присвоим столбцам понятные названия\n",
    "cumulativeData.columns = [\n",
    "    'date',\n",
    "    'group',\n",
    "    'orders',\n",
    "    'buyers',\n",
    "    'revenue',\n",
    "    'visitors',\n",
    "]\n",
    "cumulativeData.head()"
   ]
  },
  {
   "cell_type": "code",
   "execution_count": 10,
   "id": "edee5e32",
   "metadata": {},
   "outputs": [
    {
     "name": "stdout",
     "output_type": "stream",
     "text": [
      "2019-08-01 2019-08-31\n"
     ]
    }
   ],
   "source": [
    "print(cumulativeData.date.min().date(), cumulativeData.date.max().date())"
   ]
  },
  {
   "cell_type": "markdown",
   "id": "c3d001d4",
   "metadata": {},
   "source": [
    "Минимальная и максимальная даты совпадают с исходными данными"
   ]
  },
  {
   "cell_type": "code",
   "execution_count": 11,
   "id": "0945a530",
   "metadata": {},
   "outputs": [
    {
     "data": {
      "text/html": [
       "<div>\n",
       "<style scoped>\n",
       "    .dataframe tbody tr th:only-of-type {\n",
       "        vertical-align: middle;\n",
       "    }\n",
       "\n",
       "    .dataframe tbody tr th {\n",
       "        vertical-align: top;\n",
       "    }\n",
       "\n",
       "    .dataframe thead th {\n",
       "        text-align: right;\n",
       "    }\n",
       "</style>\n",
       "<table border=\"1\" class=\"dataframe\">\n",
       "  <thead>\n",
       "    <tr style=\"text-align: right;\">\n",
       "      <th></th>\n",
       "      <th>date</th>\n",
       "      <th>conversionA</th>\n",
       "      <th>conversionB</th>\n",
       "    </tr>\n",
       "  </thead>\n",
       "  <tbody>\n",
       "    <tr>\n",
       "      <th>0</th>\n",
       "      <td>2019-08-01</td>\n",
       "      <td>0.033380</td>\n",
       "      <td>0.029453</td>\n",
       "    </tr>\n",
       "    <tr>\n",
       "      <th>1</th>\n",
       "      <td>2019-08-02</td>\n",
       "      <td>0.032885</td>\n",
       "      <td>0.034776</td>\n",
       "    </tr>\n",
       "    <tr>\n",
       "      <th>2</th>\n",
       "      <td>2019-08-03</td>\n",
       "      <td>0.036856</td>\n",
       "      <td>0.033833</td>\n",
       "    </tr>\n",
       "    <tr>\n",
       "      <th>3</th>\n",
       "      <td>2019-08-04</td>\n",
       "      <td>0.032787</td>\n",
       "      <td>0.030315</td>\n",
       "    </tr>\n",
       "    <tr>\n",
       "      <th>4</th>\n",
       "      <td>2019-08-05</td>\n",
       "      <td>0.032851</td>\n",
       "      <td>0.030793</td>\n",
       "    </tr>\n",
       "  </tbody>\n",
       "</table>\n",
       "</div>"
      ],
      "text/plain": [
       "        date  conversionA  conversionB\n",
       "0 2019-08-01     0.033380     0.029453\n",
       "1 2019-08-02     0.032885     0.034776\n",
       "2 2019-08-03     0.036856     0.033833\n",
       "3 2019-08-04     0.032787     0.030315\n",
       "4 2019-08-05     0.032851     0.030793"
      ]
     },
     "execution_count": 11,
     "metadata": {},
     "output_type": "execute_result"
    }
   ],
   "source": [
    "# Добавим кумулятивную конверсию\n",
    "cumulativeData['conversion'] = cumulativeData['orders']/cumulativeData['visitors']\n",
    "\n",
    "# Разделим данные по группам А и B\n",
    "cumulativeDataA = cumulativeData[cumulativeData['group']=='A']\n",
    "cumulativeDataB = cumulativeData[cumulativeData['group']=='B']\n",
    "\n",
    "# Объединим данные о кумулятивной конверсии по дням в один датафрейм\n",
    "mergedCumulativeConversions = cumulativeDataA[['date','conversion']].merge(cumulativeDataB[['date','conversion']],\n",
    "                                                                           left_on='date', right_on='date',\n",
    "                                                                           how='left', suffixes=['A', 'B'])\n",
    "mergedCumulativeConversions.head()"
   ]
  },
  {
   "cell_type": "code",
   "execution_count": 12,
   "id": "5a6ba4e3",
   "metadata": {},
   "outputs": [
    {
     "data": {
      "text/html": [
       "<div>\n",
       "<style scoped>\n",
       "    .dataframe tbody tr th:only-of-type {\n",
       "        vertical-align: middle;\n",
       "    }\n",
       "\n",
       "    .dataframe tbody tr th {\n",
       "        vertical-align: top;\n",
       "    }\n",
       "\n",
       "    .dataframe thead th {\n",
       "        text-align: right;\n",
       "    }\n",
       "</style>\n",
       "<table border=\"1\" class=\"dataframe\">\n",
       "  <thead>\n",
       "    <tr style=\"text-align: right;\">\n",
       "      <th></th>\n",
       "      <th>date</th>\n",
       "      <th>revenueA</th>\n",
       "      <th>ordersA</th>\n",
       "      <th>revenueB</th>\n",
       "      <th>ordersB</th>\n",
       "    </tr>\n",
       "  </thead>\n",
       "  <tbody>\n",
       "    <tr>\n",
       "      <th>0</th>\n",
       "      <td>2019-08-01</td>\n",
       "      <td>148579</td>\n",
       "      <td>24</td>\n",
       "      <td>101217</td>\n",
       "      <td>21</td>\n",
       "    </tr>\n",
       "    <tr>\n",
       "      <th>1</th>\n",
       "      <td>2019-08-02</td>\n",
       "      <td>242401</td>\n",
       "      <td>44</td>\n",
       "      <td>266748</td>\n",
       "      <td>45</td>\n",
       "    </tr>\n",
       "    <tr>\n",
       "      <th>2</th>\n",
       "      <td>2019-08-03</td>\n",
       "      <td>354874</td>\n",
       "      <td>68</td>\n",
       "      <td>380996</td>\n",
       "      <td>61</td>\n",
       "    </tr>\n",
       "    <tr>\n",
       "      <th>3</th>\n",
       "      <td>2019-08-04</td>\n",
       "      <td>425699</td>\n",
       "      <td>84</td>\n",
       "      <td>489567</td>\n",
       "      <td>78</td>\n",
       "    </tr>\n",
       "    <tr>\n",
       "      <th>4</th>\n",
       "      <td>2019-08-05</td>\n",
       "      <td>549917</td>\n",
       "      <td>109</td>\n",
       "      <td>581995</td>\n",
       "      <td>101</td>\n",
       "    </tr>\n",
       "  </tbody>\n",
       "</table>\n",
       "</div>"
      ],
      "text/plain": [
       "        date  revenueA  ordersA  revenueB  ordersB\n",
       "0 2019-08-01    148579       24    101217       21\n",
       "1 2019-08-02    242401       44    266748       45\n",
       "2 2019-08-03    354874       68    380996       61\n",
       "3 2019-08-04    425699       84    489567       78\n",
       "4 2019-08-05    549917      109    581995      101"
      ]
     },
     "execution_count": 12,
     "metadata": {},
     "output_type": "execute_result"
    }
   ],
   "source": [
    "# Создадим датафрейм с кумулятивным количеством заказов и кумулятивной выручкой по дням по группам А и В\n",
    "cumulativeRevenueA = cumulativeData[cumulativeData['group']=='A'][['date','revenue', 'orders']]\n",
    "cumulativeRevenueB = cumulativeData[cumulativeData['group']=='B'][['date','revenue', 'orders']]\n",
    "\n",
    "# Объединим данные о кумулятивной выручке и количестве заказов по дням в один датафрейм\n",
    "mergedCumulativeRevenue = cumulativeRevenueA.merge(cumulativeRevenueB, left_on='date',\\\n",
    "                                                   right_on='date', how='left', suffixes=['A', 'B'])\n",
    "mergedCumulativeRevenue.head()"
   ]
  },
  {
   "cell_type": "markdown",
   "id": "131889f3",
   "metadata": {},
   "source": [
    "### Графики по кумулятивным данным"
   ]
  },
  {
   "cell_type": "markdown",
   "id": "7a7ad20a",
   "metadata": {},
   "source": [
    "#### График кумулятивной выручки по группам"
   ]
  },
  {
   "cell_type": "code",
   "execution_count": 13,
   "id": "19c78abb",
   "metadata": {
    "scrolled": false
   },
   "outputs": [
    {
     "data": {
      "image/png": "[encoded data removed]",
      "text/plain": [
       "<Figure size 700x500 with 1 Axes>"
      ]
     },
     "metadata": {},
     "output_type": "display_data"
    }
   ],
   "source": [
    "fig = plt.figure(figsize=[7, 5])\n",
    "\n",
    "plt.plot(cumulativeRevenueA['date'], cumulativeRevenueA['revenue'], label='A')\n",
    "plt.plot(cumulativeRevenueB['date'], cumulativeRevenueB['revenue'], label='B')\n",
    "\n",
    "fig.autofmt_xdate()\n",
    "plt.title('Кумулятивная выручка по группам')\n",
    "plt.legend()\n",
    "plt.ylabel('Выручка')\n",
    "plt.show()"
   ]
  },
  {
   "cell_type": "markdown",
   "id": "e5b8bd73",
   "metadata": {},
   "source": [
    "Выручка в обеих группах растёт. В группе `B` выручка стабильно выше, но наблюдается резкий подъём 18 августа. Вероятно в этот день было большое количество заказов или много дорогостоящих заказов.\n",
    "\n",
    "---"
   ]
  },
  {
   "cell_type": "markdown",
   "id": "2d5d3177",
   "metadata": {},
   "source": [
    "#### График кумулятивного среднего чека по группам"
   ]
  },
  {
   "cell_type": "code",
   "execution_count": 14,
   "id": "cfb02d0d",
   "metadata": {},
   "outputs": [
    {
     "data": {
      "image/png": "[encoded data removed]",
      "text/plain": [
       "<Figure size 700x500 with 1 Axes>"
      ]
     },
     "metadata": {},
     "output_type": "display_data"
    }
   ],
   "source": [
    "fig = plt.figure(figsize=[7, 5])\n",
    "\n",
    "plt.plot(cumulativeRevenueA['date'], cumulativeRevenueA['revenue']/cumulativeRevenueA['orders'], label='A')\n",
    "plt.plot(cumulativeRevenueB['date'], cumulativeRevenueB['revenue']/cumulativeRevenueB['orders'], label='B')\n",
    "\n",
    "fig.autofmt_xdate()\n",
    "plt.title('Кумулятивный средний чек по группам')\n",
    "plt.legend()\n",
    "plt.ylabel('Средний чек')\n",
    "plt.show()"
   ]
  },
  {
   "cell_type": "markdown",
   "id": "375fccbd",
   "metadata": {},
   "source": [
    "Наблюдаем рост среднего чека в обеих группах. В группе `В` 18 августа произошёл скачок средней стоимости заказа, видимо всё-таки было много дорогостоящих заказов. Затем наблюдаем снижение. В группе `A` наблюдаем стабилизацию к концу теста.\n",
    "\n",
    "---"
   ]
  },
  {
   "cell_type": "markdown",
   "id": "d1a2b923",
   "metadata": {},
   "source": [
    "#### График относительного изменения кумулятивного среднего чека группы B к группе A"
   ]
  },
  {
   "cell_type": "code",
   "execution_count": 15,
   "id": "6c44f775",
   "metadata": {},
   "outputs": [
    {
     "data": {
      "image/png": "[encoded data removed]",
      "text/plain": [
       "<Figure size 700x500 with 1 Axes>"
      ]
     },
     "metadata": {},
     "output_type": "display_data"
    }
   ],
   "source": [
    "# Строим отношение средних чеков\n",
    "fig = plt.figure(figsize=[7, 5])\n",
    "\n",
    "plt.plot(mergedCumulativeRevenue['date'],\n",
    "         (mergedCumulativeRevenue['revenueB']/mergedCumulativeRevenue['ordersB'])\n",
    "         /(mergedCumulativeRevenue['revenueA']/mergedCumulativeRevenue['ordersA'])-1)\n",
    "\n",
    "fig.autofmt_xdate()\n",
    "plt.title('Относительное различие кумулятивного среднего чека группы В к группе А')\n",
    "\n",
    "# Добавим ось X для наглядности\n",
    "plt.axhline(y=0, color='black', linestyle='--')\n",
    "plt.show()"
   ]
  },
  {
   "cell_type": "markdown",
   "id": "5c170691",
   "metadata": {},
   "source": [
    "График различия сильно скачет. Сначала средний чек группы `B` растет, потом проседает и резко поднимается. Вероятно это влияние выбросов в виде дорогостоящих заказов 18 августа. Картина совпадает с предыдущим графиком.\n",
    "\n",
    "---"
   ]
  },
  {
   "cell_type": "markdown",
   "id": "cef7ad1e",
   "metadata": {},
   "source": [
    "#### График кумулятивного среднего количества заказов на пользователя по группам (конверсия)"
   ]
  },
  {
   "cell_type": "code",
   "execution_count": 16,
   "id": "d66e65b3",
   "metadata": {
    "scrolled": false
   },
   "outputs": [
    {
     "data": {
      "image/png": "[encoded data removed]",
      "text/plain": [
       "<Figure size 700x500 with 1 Axes>"
      ]
     },
     "metadata": {},
     "output_type": "display_data"
    }
   ],
   "source": [
    "# Строим график кумулятивного среднего количества заказов на посетителя по группам через конверсию\n",
    "fig = plt.figure(figsize=[7, 5])\n",
    "\n",
    "plt.plot(cumulativeDataA['date'], cumulativeDataA['conversion'], label='A')\n",
    "plt.plot(cumulativeDataB['date'], cumulativeDataB['conversion'], label='B')\n",
    "\n",
    "fig.autofmt_xdate()\n",
    "plt.title('Среднее количество заказов на пользователя по группам')\n",
    "plt.legend()\n",
    "plt.axis([dt.datetime(2019, 8, 1), dt.datetime(2019, 8, 31), 0.025, 0.045])\n",
    "plt.show()"
   ]
  },
  {
   "cell_type": "markdown",
   "id": "ca3825f5",
   "metadata": {},
   "source": [
    "В начале конверсия групп колеблется. Затем наблюдаем выравнивание. Конверсия группы `B` стабилизируется выше к концу теста.\n",
    "\n",
    "---"
   ]
  },
  {
   "cell_type": "markdown",
   "id": "14d24587",
   "metadata": {},
   "source": [
    "#### График относительного изменения кумулятивного среднего количества заказов на пользователя (конверсия) группы B к группе A"
   ]
  },
  {
   "cell_type": "code",
   "execution_count": 17,
   "id": "00067b17",
   "metadata": {
    "scrolled": false
   },
   "outputs": [
    {
     "data": {
      "image/png": "[encoded data removed]",
      "text/plain": [
       "<Figure size 700x500 with 1 Axes>"
      ]
     },
     "metadata": {},
     "output_type": "display_data"
    }
   ],
   "source": [
    "fig = plt.figure(figsize=[7, 5])\n",
    "\n",
    "plt.plot(mergedCumulativeConversions['date'],\n",
    "         mergedCumulativeConversions['conversionB']/mergedCumulativeConversions['conversionA']-1)\n",
    "\n",
    "fig.autofmt_xdate()\n",
    "plt.title('Относительное различие кумулятивного среднего количества заказов на пользователя группы B к группе A')\n",
    "plt.axhline(y=0, color='black', linestyle='--')\n",
    "plt.axhline(y=0.1, color='grey', linestyle='--')\n",
    "plt.axis([dt.datetime(2019, 8, 1), dt.datetime(2019, 8, 31), -0.2, 0.3])\n",
    "plt.show()"
   ]
  },
  {
   "cell_type": "markdown",
   "id": "911a59d0",
   "metadata": {},
   "source": [
    "В начале, когда конверсии обеих групп колебались, конверсия группы `В` была ниже. Но потом конверсия группы `В` выросла относительно группы `А` более чем на 10% и к концу теста стабилизировалась. Картина совпадает с предыдущим графиком.\n",
    "\n",
    "---"
   ]
  },
  {
   "cell_type": "markdown",
   "id": "d25b1d14",
   "metadata": {},
   "source": [
    "<div class='alert alert-info'><b>\n",
    "Анализ кумулятивных данных показывает преимущество группы В над группой А по всем значениям, а именно по выручке, среднему чеку и конверсии. Но пока точно сказать нельзя, возможно влияние выбросов.\n",
    "\n",
    "</b></div>"
   ]
  },
  {
   "cell_type": "markdown",
   "id": "d9d4cc92",
   "metadata": {},
   "source": [
    "### Анализ выбросов"
   ]
  },
  {
   "cell_type": "markdown",
   "id": "d2b0466d",
   "metadata": {},
   "source": [
    "**Построим точечный график количества заказов по пользователям**"
   ]
  },
  {
   "cell_type": "code",
   "execution_count": 18,
   "id": "6cd36a14",
   "metadata": {},
   "outputs": [
    {
     "data": {
      "text/html": [
       "<div>\n",
       "<style scoped>\n",
       "    .dataframe tbody tr th:only-of-type {\n",
       "        vertical-align: middle;\n",
       "    }\n",
       "\n",
       "    .dataframe tbody tr th {\n",
       "        vertical-align: top;\n",
       "    }\n",
       "\n",
       "    .dataframe thead th {\n",
       "        text-align: right;\n",
       "    }\n",
       "</style>\n",
       "<table border=\"1\" class=\"dataframe\">\n",
       "  <thead>\n",
       "    <tr style=\"text-align: right;\">\n",
       "      <th></th>\n",
       "      <th>visitorid</th>\n",
       "      <th>orders</th>\n",
       "    </tr>\n",
       "  </thead>\n",
       "  <tbody>\n",
       "    <tr>\n",
       "      <th>1023</th>\n",
       "      <td>4256040402</td>\n",
       "      <td>11</td>\n",
       "    </tr>\n",
       "    <tr>\n",
       "      <th>591</th>\n",
       "      <td>2458001652</td>\n",
       "      <td>11</td>\n",
       "    </tr>\n",
       "    <tr>\n",
       "      <th>569</th>\n",
       "      <td>2378935119</td>\n",
       "      <td>9</td>\n",
       "    </tr>\n",
       "    <tr>\n",
       "      <th>487</th>\n",
       "      <td>2038680547</td>\n",
       "      <td>8</td>\n",
       "    </tr>\n",
       "    <tr>\n",
       "      <th>44</th>\n",
       "      <td>199603092</td>\n",
       "      <td>5</td>\n",
       "    </tr>\n",
       "    <tr>\n",
       "      <th>744</th>\n",
       "      <td>3062433592</td>\n",
       "      <td>5</td>\n",
       "    </tr>\n",
       "    <tr>\n",
       "      <th>55</th>\n",
       "      <td>237748145</td>\n",
       "      <td>5</td>\n",
       "    </tr>\n",
       "    <tr>\n",
       "      <th>917</th>\n",
       "      <td>3803269165</td>\n",
       "      <td>5</td>\n",
       "    </tr>\n",
       "    <tr>\n",
       "      <th>299</th>\n",
       "      <td>1230306981</td>\n",
       "      <td>5</td>\n",
       "    </tr>\n",
       "    <tr>\n",
       "      <th>897</th>\n",
       "      <td>3717692402</td>\n",
       "      <td>5</td>\n",
       "    </tr>\n",
       "  </tbody>\n",
       "</table>\n",
       "</div>"
      ],
      "text/plain": [
       "       visitorid  orders\n",
       "1023  4256040402      11\n",
       "591   2458001652      11\n",
       "569   2378935119       9\n",
       "487   2038680547       8\n",
       "44     199603092       5\n",
       "744   3062433592       5\n",
       "55     237748145       5\n",
       "917   3803269165       5\n",
       "299   1230306981       5\n",
       "897   3717692402       5"
      ]
     },
     "execution_count": 18,
     "metadata": {},
     "output_type": "execute_result"
    }
   ],
   "source": [
    "# Создадим датафрейм с количеством заказов сгруппированных по пользователям\n",
    "ordersByUsers = orders.groupby('visitorid', as_index=False).agg({'transactionid' : 'nunique'})\n",
    "ordersByUsers.columns = ['visitorid','orders']\n",
    "ordersByUsers.sort_values(by='orders',ascending=False).head(10)"
   ]
  },
  {
   "cell_type": "code",
   "execution_count": 19,
   "id": "61aad8fe",
   "metadata": {},
   "outputs": [
    {
     "data": {
      "image/png": "[encoded data removed]",
      "text/plain": [
       "<Figure size 640x480 with 1 Axes>"
      ]
     },
     "metadata": {},
     "output_type": "display_data"
    }
   ],
   "source": [
    "# Гистрограмма распределения количества заказов на пользователя\n",
    "plt.hist(ordersByUsers['orders'])\n",
    "plt.title('Количество заказов на одного пользователя')\n",
    "plt.xlabel('Количество заказов')\n",
    "plt.ylabel('Количество пользователей')\n",
    "plt.show()"
   ]
  },
  {
   "cell_type": "code",
   "execution_count": 20,
   "id": "0587152a",
   "metadata": {
    "scrolled": false
   },
   "outputs": [
    {
     "data": {
      "image/png": "[encoded data removed]",
      "text/plain": [
       "<Figure size 640x480 with 1 Axes>"
      ]
     },
     "metadata": {},
     "output_type": "display_data"
    }
   ],
   "source": [
    "# Точечный график количества заказов на пользователя\n",
    "x_values = pd.Series(range(0, len(ordersByUsers)))\n",
    "plt.scatter(x_values, ordersByUsers['orders'])\n",
    "plt.title('Количество заказов на одного пользователя')\n",
    "plt.xlabel('Пользователи')\n",
    "plt.ylabel('Количество заказов')\n",
    "plt.show()"
   ]
  },
  {
   "cell_type": "markdown",
   "id": "965553bf",
   "metadata": {},
   "source": [
    "Большинство пользователей делают один заказ, но есть и такие кто делает от 2 до 5 заказов.  \n",
    "Пока не понятно сколько таких пользователей. И только 4 человека совершили 8 и более заказов.\n",
    "\n",
    "---"
   ]
  },
  {
   "cell_type": "markdown",
   "id": "15bebf1a",
   "metadata": {},
   "source": [
    "**Посчитаем 95-й и 99-й перцентили количества заказов на пользователя.  \n",
    "Определим границу аномальных пользователей.**"
   ]
  },
  {
   "cell_type": "code",
   "execution_count": 21,
   "id": "b37c8c14",
   "metadata": {},
   "outputs": [
    {
     "data": {
      "text/plain": [
       "array([2., 4.])"
      ]
     },
     "execution_count": 21,
     "metadata": {},
     "output_type": "execute_result"
    }
   ],
   "source": [
    "np.percentile(ordersByUsers['orders'], [95, 99])"
   ]
  },
  {
   "cell_type": "markdown",
   "id": "d0064d9e",
   "metadata": {},
   "source": [
    "Не более 5% пользователей совершили больше 2х заказов и не более 1% пользователей совершили больше 4х.  \n",
    "Определим `границу 4 заказа` на одного пользователя. Тем самым учитываются 99% пользователей.\n",
    "\n",
    "---"
   ]
  },
  {
   "cell_type": "markdown",
   "id": "824db8fc",
   "metadata": {},
   "source": [
    "**Построим точечный график стоимости заказов**"
   ]
  },
  {
   "cell_type": "code",
   "execution_count": 22,
   "id": "ba66dd16",
   "metadata": {},
   "outputs": [
    {
     "data": {
      "image/png": "[encoded data removed]",
      "text/plain": [
       "<Figure size 1500x600 with 2 Axes>"
      ]
     },
     "metadata": {},
     "output_type": "display_data"
    }
   ],
   "source": [
    "x_values = pd.Series(range(0,len(orders['revenue'])))\n",
    "\n",
    "plt.figure(figsize=(15, 6))\n",
    "# Первый график со всеми заказами\n",
    "ax1 = plt.subplot(1, 2, 1)\n",
    "plt.scatter(x_values, orders['revenue'])\n",
    "plt.title('Стоимость заказа пользователей (max)')\n",
    "plt.xlabel('Заказ')\n",
    "plt.ylabel('Стоимость')\n",
    "\n",
    "# Второй с заказами до 100 000\n",
    "ax2 = plt.subplot(1, 2, 2)\n",
    "plt.scatter(x_values, orders['revenue'])\n",
    "plt.title('Стоимость заказа пользователей (до 100 000)')\n",
    "plt.xlabel('Заказ')\n",
    "plt.ylabel('Стоимость')\n",
    "plt.ylim(0, 100000)\n",
    "plt.show()"
   ]
  },
  {
   "cell_type": "markdown",
   "id": "4579819a",
   "metadata": {},
   "source": [
    "Подавляющее большинство заказов находится в пределах 100 000, но есть выбросы со стоимосью более 1 200 000.  \n",
    "Видимо это заказ, который был совершён 18 августа и который отразился на графиках.\n",
    "\n",
    "---"
   ]
  },
  {
   "cell_type": "markdown",
   "id": "2499eb6f",
   "metadata": {},
   "source": [
    "**Посчитаем 95-й и 99-й перцентили стоимости заказов.  \n",
    "Определим границу аномальных заказов.**"
   ]
  },
  {
   "cell_type": "code",
   "execution_count": 23,
   "id": "d51c8539",
   "metadata": {},
   "outputs": [
    {
     "data": {
      "text/plain": [
       "array([28000. , 58233.2])"
      ]
     },
     "execution_count": 23,
     "metadata": {},
     "output_type": "execute_result"
    }
   ],
   "source": [
    "np.percentile(orders['revenue'], [95, 99])"
   ]
  },
  {
   "cell_type": "markdown",
   "id": "5b2a8c2f",
   "metadata": {},
   "source": [
    "Не более 5% заказов стоят дороже 28 000 и не более 1% дороже 58 233.  \n",
    "Оставим 99% заказов, соответственно `границей будет 58 233`."
   ]
  },
  {
   "cell_type": "markdown",
   "id": "134d94e9",
   "metadata": {},
   "source": [
    "<div class='alert alert-info'><b>\n",
    "Определили границы:\n",
    "    \n",
    "- 4 заказа на одного пользователя\n",
    "- 58 233 стоимость заказа\n",
    "\n",
    "</b></div>"
   ]
  },
  {
   "cell_type": "markdown",
   "id": "bf40687a",
   "metadata": {},
   "source": [
    "### Расчёт статистической значимости"
   ]
  },
  {
   "cell_type": "markdown",
   "id": "a8f63b4d",
   "metadata": {},
   "source": [
    "Рассчитаем различия в среднем количестве заказов на посетителя и среднем чеке между группами по «сырым» и «очищенным» данным"
   ]
  },
  {
   "cell_type": "markdown",
   "id": "5bfa9e8f",
   "metadata": {},
   "source": [
    "#### Статистическая значимость различий в среднем количестве заказов на посетителя между группами по «сырым» данным"
   ]
  },
  {
   "cell_type": "code",
   "execution_count": 24,
   "id": "a66b27a7",
   "metadata": {
    "scrolled": true
   },
   "outputs": [],
   "source": [
    "# Посчитаем количество пользователей до выбранной даты включительно в группах A и B\n",
    "visitorsADaily = visitors[visitors['group']=='A'][['date', 'visitors']]\n",
    "visitorsADaily.columns = ['date', 'visitorsPerDateA']\n",
    "\n",
    "visitorsACumulative = visitorsADaily.apply(\n",
    "    lambda x: visitorsADaily[visitorsADaily['date'] <= x['date']]\n",
    "    .agg({'date' : 'max', 'visitorsPerDateA' : 'sum'}), axis=1)\n",
    "visitorsACumulative.columns = ['date', 'visitorsCumulativeA']\n",
    "\n",
    "visitorsBDaily = visitors[visitors['group']=='B'][['date', 'visitors']]\n",
    "visitorsBDaily.columns = ['date', 'visitorsPerDateB']\n",
    "\n",
    "visitorsBCumulative = visitorsBDaily.apply(\n",
    "    lambda x: visitorsBDaily[visitorsBDaily['date'] <= x['date']]\n",
    "    .agg({'date' : 'max', 'visitorsPerDateB' : 'sum'}), axis=1)\n",
    "visitorsBCumulative.columns = ['date', 'visitorsCumulativeB']"
   ]
  },
  {
   "cell_type": "code",
   "execution_count": 25,
   "id": "89b0cdb7",
   "metadata": {},
   "outputs": [],
   "source": [
    "# Посчитаем суммарное число заказов и выручку до выбранной даты включительно в группах A и B\n",
    "ordersADaily = orders[orders['group']=='A'][['date', 'transactionid', 'visitorid', 'revenue']]\\\n",
    "    .groupby('date', as_index=False)\\\n",
    "    .agg({'transactionid' : pd.Series.nunique, 'revenue' : 'sum'})\n",
    "ordersADaily.columns = ['date', 'ordersPerDateA', 'revenuePerDateA']\n",
    "\n",
    "ordersACumulative = ordersADaily.apply(\n",
    "    lambda x: ordersADaily[ordersADaily['date'] <= x['date']]\n",
    "            .agg({\n",
    "                'date' : 'max',\n",
    "                'ordersPerDateA' : 'sum',\n",
    "                'revenuePerDateA' : 'sum'}), axis=1).sort_values(by=['date'])\n",
    "ordersACumulative.columns = ['date', 'ordersCumulativeA', 'revenueCumulativeA']\n",
    "\n",
    "ordersBDaily = orders[orders['group']=='B'][['date', 'transactionid', 'visitorid', 'revenue']]\\\n",
    "    .groupby('date', as_index=False)\\\n",
    "    .agg({'transactionid' : pd.Series.nunique, 'revenue' : 'sum'})\n",
    "ordersBDaily.columns = ['date', 'ordersPerDateB', 'revenuePerDateB']\n",
    "\n",
    "ordersBCumulative = ordersBDaily.apply(\n",
    "    lambda x: ordersBDaily[ordersBDaily['date'] <= x['date']]\n",
    "            .agg({\n",
    "                'date' : 'max',\n",
    "                'ordersPerDateB' : 'sum',\n",
    "                'revenuePerDateB' : 'sum'}), axis=1).sort_values(by=['date'])\n",
    "ordersBCumulative.columns = ['date', 'ordersCumulativeB', 'revenueCumulativeB']"
   ]
  },
  {
   "cell_type": "code",
   "execution_count": 26,
   "id": "bba13229",
   "metadata": {},
   "outputs": [
    {
     "data": {
      "text/html": [
       "<div>\n",
       "<style scoped>\n",
       "    .dataframe tbody tr th:only-of-type {\n",
       "        vertical-align: middle;\n",
       "    }\n",
       "\n",
       "    .dataframe tbody tr th {\n",
       "        vertical-align: top;\n",
       "    }\n",
       "\n",
       "    .dataframe thead th {\n",
       "        text-align: right;\n",
       "    }\n",
       "</style>\n",
       "<table border=\"1\" class=\"dataframe\">\n",
       "  <thead>\n",
       "    <tr style=\"text-align: right;\">\n",
       "      <th></th>\n",
       "      <th>date</th>\n",
       "      <th>ordersPerDateA</th>\n",
       "      <th>revenuePerDateA</th>\n",
       "      <th>ordersPerDateB</th>\n",
       "      <th>revenuePerDateB</th>\n",
       "      <th>ordersCumulativeA</th>\n",
       "      <th>revenueCumulativeA</th>\n",
       "      <th>ordersCumulativeB</th>\n",
       "      <th>revenueCumulativeB</th>\n",
       "      <th>visitorsPerDateA</th>\n",
       "      <th>visitorsPerDateB</th>\n",
       "      <th>visitorsCumulativeA</th>\n",
       "      <th>visitorsCumulativeB</th>\n",
       "    </tr>\n",
       "  </thead>\n",
       "  <tbody>\n",
       "    <tr>\n",
       "      <th>0</th>\n",
       "      <td>2019-08-01</td>\n",
       "      <td>24</td>\n",
       "      <td>148579</td>\n",
       "      <td>21</td>\n",
       "      <td>101217</td>\n",
       "      <td>24</td>\n",
       "      <td>148579</td>\n",
       "      <td>21</td>\n",
       "      <td>101217</td>\n",
       "      <td>719</td>\n",
       "      <td>713</td>\n",
       "      <td>719</td>\n",
       "      <td>713</td>\n",
       "    </tr>\n",
       "    <tr>\n",
       "      <th>1</th>\n",
       "      <td>2019-08-02</td>\n",
       "      <td>20</td>\n",
       "      <td>93822</td>\n",
       "      <td>24</td>\n",
       "      <td>165531</td>\n",
       "      <td>44</td>\n",
       "      <td>242401</td>\n",
       "      <td>45</td>\n",
       "      <td>266748</td>\n",
       "      <td>619</td>\n",
       "      <td>581</td>\n",
       "      <td>1338</td>\n",
       "      <td>1294</td>\n",
       "    </tr>\n",
       "    <tr>\n",
       "      <th>2</th>\n",
       "      <td>2019-08-03</td>\n",
       "      <td>24</td>\n",
       "      <td>112473</td>\n",
       "      <td>16</td>\n",
       "      <td>114248</td>\n",
       "      <td>68</td>\n",
       "      <td>354874</td>\n",
       "      <td>61</td>\n",
       "      <td>380996</td>\n",
       "      <td>507</td>\n",
       "      <td>509</td>\n",
       "      <td>1845</td>\n",
       "      <td>1803</td>\n",
       "    </tr>\n",
       "    <tr>\n",
       "      <th>3</th>\n",
       "      <td>2019-08-04</td>\n",
       "      <td>16</td>\n",
       "      <td>70825</td>\n",
       "      <td>17</td>\n",
       "      <td>108571</td>\n",
       "      <td>84</td>\n",
       "      <td>425699</td>\n",
       "      <td>78</td>\n",
       "      <td>489567</td>\n",
       "      <td>717</td>\n",
       "      <td>770</td>\n",
       "      <td>2562</td>\n",
       "      <td>2573</td>\n",
       "    </tr>\n",
       "    <tr>\n",
       "      <th>4</th>\n",
       "      <td>2019-08-05</td>\n",
       "      <td>25</td>\n",
       "      <td>124218</td>\n",
       "      <td>23</td>\n",
       "      <td>92428</td>\n",
       "      <td>109</td>\n",
       "      <td>549917</td>\n",
       "      <td>101</td>\n",
       "      <td>581995</td>\n",
       "      <td>756</td>\n",
       "      <td>707</td>\n",
       "      <td>3318</td>\n",
       "      <td>3280</td>\n",
       "    </tr>\n",
       "  </tbody>\n",
       "</table>\n",
       "</div>"
      ],
      "text/plain": [
       "        date  ordersPerDateA  revenuePerDateA  ordersPerDateB  \\\n",
       "0 2019-08-01              24           148579              21   \n",
       "1 2019-08-02              20            93822              24   \n",
       "2 2019-08-03              24           112473              16   \n",
       "3 2019-08-04              16            70825              17   \n",
       "4 2019-08-05              25           124218              23   \n",
       "\n",
       "   revenuePerDateB  ordersCumulativeA  revenueCumulativeA  ordersCumulativeB  \\\n",
       "0           101217                 24              148579                 21   \n",
       "1           165531                 44              242401                 45   \n",
       "2           114248                 68              354874                 61   \n",
       "3           108571                 84              425699                 78   \n",
       "4            92428                109              549917                101   \n",
       "\n",
       "   revenueCumulativeB  visitorsPerDateA  visitorsPerDateB  \\\n",
       "0              101217               719               713   \n",
       "1              266748               619               581   \n",
       "2              380996               507               509   \n",
       "3              489567               717               770   \n",
       "4              581995               756               707   \n",
       "\n",
       "   visitorsCumulativeA  visitorsCumulativeB  \n",
       "0                  719                  713  \n",
       "1                 1338                 1294  \n",
       "2                 1845                 1803  \n",
       "3                 2562                 2573  \n",
       "4                 3318                 3280  "
      ]
     },
     "execution_count": 26,
     "metadata": {},
     "output_type": "execute_result"
    }
   ],
   "source": [
    "# Объединим всё в один датафрейм \n",
    "data = (\n",
    "    ordersADaily.merge(ordersBDaily, left_on='date', right_on='date', how='left')\n",
    "    .merge(ordersACumulative, left_on='date', right_on='date', how='left')\n",
    "    .merge(ordersBCumulative, left_on='date', right_on='date', how='left')\n",
    "    .merge(visitorsADaily, left_on='date', right_on='date', how='left')\n",
    "    .merge(visitorsBDaily, left_on='date', right_on='date', how='left')\n",
    "    .merge(visitorsACumulative, left_on='date', right_on='date', how='left')\n",
    "    .merge(visitorsBCumulative, left_on='date', right_on='date', how='left')\n",
    "    )\n",
    "data.head()"
   ]
  },
  {
   "cell_type": "code",
   "execution_count": 27,
   "id": "0428aaf5",
   "metadata": {},
   "outputs": [],
   "source": [
    "# Создадим переменные ordersByUsersA и ordersByUsersB со столбцами ['userId', 'orders'],\n",
    "# где для пользователей, совершивших хотя бы 1 заказ, будет указано число заказов.\n",
    "ordersByUsersA = orders[orders['group']=='A'].groupby('visitorid', as_index=False).agg({'transactionid' : pd.Series.nunique})\n",
    "ordersByUsersA.columns = ['userId', 'orders']\n",
    "\n",
    "ordersByUsersB = orders[orders['group']=='B'].groupby('visitorid', as_index=False).agg({'transactionid' : pd.Series.nunique})\n",
    "ordersByUsersB.columns = ['userId', 'orders']\n",
    "\n",
    "# Объявим переменные sampleA и sampleB, в которых пользователям с заказами будет соответствовать число заказов пользователя. \n",
    "# А пользователям без заказов — нули.\n",
    "sampleA = pd.concat(\n",
    "    [ordersByUsersA['orders'],pd.Series(\n",
    "        0, index=np.arange(data['visitorsPerDateA'].sum() - len(ordersByUsersA['orders'])), name='orders')],axis=0)\n",
    "sampleB = pd.concat(\n",
    "    [ordersByUsersB['orders'],pd.Series(\n",
    "        0, index=np.arange(data['visitorsPerDateB'].sum() - len(ordersByUsersB['orders'])), name='orders')],axis=0)"
   ]
  },
  {
   "cell_type": "markdown",
   "id": "691ccd6d",
   "metadata": {},
   "source": [
    " **Сформулируем гипотезы**  \n",
    " `Нулевая гипотеза`: различий в среднем количестве заказов между группами нет.  \n",
    " `Альтернативная гипотеза`: различия в среднем между группами есть."
   ]
  },
  {
   "cell_type": "code",
   "execution_count": 28,
   "id": "e81c92ae",
   "metadata": {},
   "outputs": [
    {
     "data": {
      "text/plain": [
       "'P-value = 0.0168'"
      ]
     },
     "metadata": {},
     "output_type": "display_data"
    },
    {
     "data": {
      "text/plain": [
       "'Относительное различие среднего группы В к группе А = 0.1381'"
      ]
     },
     "metadata": {},
     "output_type": "display_data"
    }
   ],
   "source": [
    "# Применим тест Манна-Уитни\n",
    "# и вычислим относительное различие среднего между группами.\n",
    "display('P-value = ' + '{0:.4f}'.format(stats.mannwhitneyu(sampleA, sampleB)[1]), \n",
    "        'Относительное различие среднего группы В к группе А = ' + '{0:.4f}'.format(sampleB.mean()/sampleA.mean()-1))"
   ]
  },
  {
   "cell_type": "markdown",
   "id": "35582fd4",
   "metadata": {},
   "source": [
    "P-value меньше 0.05. Значит, `нулевую гипотезу отвергаем`.   \n",
    "\n",
    "По «сырым» данным в среднем количестве заказов на посетителя между группами `есть различия`.   \n",
    "\n",
    "`Среднее количество заказов на пользователя в группе В больше, чем в группе А на ~14%`.\n",
    "\n",
    "---"
   ]
  },
  {
   "cell_type": "markdown",
   "id": "14936312",
   "metadata": {},
   "source": [
    "#### Cтатистическая значимость различий в среднем чеке заказа между группами по «сырым» данным"
   ]
  },
  {
   "cell_type": "markdown",
   "id": "c3fe0213",
   "metadata": {},
   "source": [
    " **Сформулируем гипотезы**  \n",
    " `Нулевая гипотеза`: различий в среднем чеке между группами нет.  \n",
    " `Альтернативная гипотеза`: различия в среднем чеке между группами есть."
   ]
  },
  {
   "cell_type": "code",
   "execution_count": 29,
   "id": "b2985a75",
   "metadata": {},
   "outputs": [
    {
     "data": {
      "text/plain": [
       "'P-value = 0.7293'"
      ]
     },
     "metadata": {},
     "output_type": "display_data"
    },
    {
     "data": {
      "text/plain": [
       "'Относительное различие среднего группы В к группе А = 0.2587'"
      ]
     },
     "metadata": {},
     "output_type": "display_data"
    }
   ],
   "source": [
    "# Тест Манна-Уитни и относительное различие\n",
    "display('P-value = ' + '{0:.4f}'.format(stats.mannwhitneyu(orders[orders['group']=='A']['revenue'],\n",
    "                                            orders[orders['group']=='B']['revenue'])[1]),\n",
    "        'Относительное различие среднего группы В к группе А = ' + '{0:.4f}'\n",
    "        .format(orders[orders['group']=='B']['revenue'].mean()/orders[orders['group']=='A']['revenue'].mean()-1))"
   ]
  },
  {
   "cell_type": "markdown",
   "id": "ed9cf23b",
   "metadata": {},
   "source": [
    "P-value значительно больше 0.05. Значит, `нулевую гипотезу не отвергаем`.\n",
    "\n",
    "По «сырым» данным в среднем чеке заказа между группами `нет различий`.\n",
    "\n",
    "`Хотя, средний чек группы B на ~26% больше среднего чека группы A`.\n",
    "\n",
    "---"
   ]
  },
  {
   "cell_type": "markdown",
   "id": "41afc779",
   "metadata": {},
   "source": [
    "#### Cтатистическая значимость различий в среднем количестве заказов на посетителя между группами по «очищенным» данным"
   ]
  },
  {
   "cell_type": "code",
   "execution_count": 30,
   "id": "58260f49",
   "metadata": {},
   "outputs": [],
   "source": [
    "# Создадим срез пользователей с числом заказов больше 4\n",
    "# и пользователей, совершивших заказы дороже 58 233.\n",
    "usersWithManyOrders = pd.concat([ordersByUsersA[ordersByUsersA['orders'] > np.percentile(ordersByUsers['orders'], 99)]['userId'],\n",
    "                                 ordersByUsersB[ordersByUsersB['orders'] > np.percentile(ordersByUsers['orders'], 99)]['userId']], axis = 0)\n",
    "usersWithExpensiveOrders = orders[orders['revenue'] > np.percentile(orders['revenue'], 99)]['visitorid']\n",
    "\n",
    "# Объединим в один датафрейм, удалим дубликаты и отсортируем\n",
    "abnormalUsers = pd.concat([usersWithManyOrders, usersWithExpensiveOrders], axis = 0).drop_duplicates().sort_values()"
   ]
  },
  {
   "cell_type": "code",
   "execution_count": 31,
   "id": "a5c27f04",
   "metadata": {},
   "outputs": [],
   "source": [
    "# Создадим переменные с очищенными данными\n",
    "sampleAFiltered = pd.concat(\n",
    "    [ordersByUsersA[np.logical_not(ordersByUsersA['userId']\n",
    "                                   .isin(abnormalUsers))]['orders'],pd.Series(0, index=np.arange(data['visitorsPerDateA']\n",
    "                                   .sum() - len(ordersByUsersA['orders'])),name='orders')],axis=0)\n",
    "sampleBFiltered = pd.concat(\n",
    "    [ordersByUsersB[np.logical_not(ordersByUsersB['userId']\n",
    "                                   .isin(abnormalUsers))]['orders'],pd.Series(0, index=np.arange(data['visitorsPerDateB']\n",
    "                                   .sum() - len(ordersByUsersB['orders'])),name='orders')],axis=0)"
   ]
  },
  {
   "cell_type": "markdown",
   "id": "9707a998",
   "metadata": {},
   "source": [
    " **Сформулируем гипотезы**  \n",
    " `Нулевая гипотеза`: различий в среднем количестве заказов между группами нет.  \n",
    " `Альтернативная гипотеза`: различия в среднем между группами есть."
   ]
  },
  {
   "cell_type": "code",
   "execution_count": 32,
   "id": "895e0972",
   "metadata": {
    "scrolled": true
   },
   "outputs": [
    {
     "data": {
      "text/plain": [
       "'P-value = 0.0144'"
      ]
     },
     "metadata": {},
     "output_type": "display_data"
    },
    {
     "data": {
      "text/plain": [
       "'Относительное различие среднего группы В к группе А = 0.1533'"
      ]
     },
     "metadata": {},
     "output_type": "display_data"
    }
   ],
   "source": [
    "# Тест Манна-Уитни и относительное различие\n",
    "display('P-value = ' + '{0:.4f}'.format(stats.mannwhitneyu(sampleAFiltered, sampleBFiltered)[1]),\n",
    "        'Относительное различие среднего группы В к группе А = ' + '{0:.4f}'\n",
    "        .format(sampleBFiltered.mean()/sampleAFiltered.mean()-1))"
   ]
  },
  {
   "cell_type": "markdown",
   "id": "1bbf985c",
   "metadata": {},
   "source": [
    "P-value меньше 0.05. Значит, `нулевую гипотезу отвергаем`.\n",
    "\n",
    "По «очищенным» данным в среднем количестве заказов на посетителя между группами `есть различия`. \n",
    "\n",
    "`Среднее количество заказов на пользователя в группе В больше, чем в группе А на 15.3%`. Это на 1.3% больше чем по «сырым» данным.\n",
    "\n",
    "---"
   ]
  },
  {
   "cell_type": "markdown",
   "id": "c3a4ad99",
   "metadata": {},
   "source": [
    "#### Статистическая значимость различий в среднем чеке заказа между группами по «очищенным» данным"
   ]
  },
  {
   "cell_type": "markdown",
   "id": "2828f7c6",
   "metadata": {},
   "source": [
    " **Сформулируем гипотезы**  \n",
    " `Нулевая гипотеза`: различий в среднем чеке между группами нет.  \n",
    " `Альтернативная гипотеза`: различия в среднем чеке между группами есть."
   ]
  },
  {
   "cell_type": "code",
   "execution_count": 33,
   "id": "b848a6de",
   "metadata": {},
   "outputs": [
    {
     "data": {
      "text/plain": [
       "'P-value = 0.8509'"
      ]
     },
     "metadata": {},
     "output_type": "display_data"
    },
    {
     "data": {
      "text/plain": [
       "'Относительное различие среднего группы В к группе А = -0.0057'"
      ]
     },
     "metadata": {},
     "output_type": "display_data"
    }
   ],
   "source": [
    "# Тест Манна-Уитни и относительное различие\n",
    "display('P-value = ' + '{0:.4f}'.format(stats.mannwhitneyu(\n",
    "    orders[np.logical_and(\n",
    "        orders['group']=='A',\n",
    "        np.logical_not(orders['visitorid'].isin(abnormalUsers)))]['revenue'],\n",
    "    orders[np.logical_and(\n",
    "        orders['group']=='B',\n",
    "        np.logical_not(orders['visitorid'].isin(abnormalUsers)))]['revenue'])[1]),\n",
    "\n",
    "'Относительное различие среднего группы В к группе А = ' + '{0:.4f}'\n",
    "        .format(\n",
    "    orders[np.logical_and(orders['group']=='B',np.logical_not(orders['visitorid'].isin(abnormalUsers)))]['revenue'].mean()/\n",
    "    orders[np.logical_and(\n",
    "        orders['group']=='A',\n",
    "        np.logical_not(orders['visitorid'].isin(abnormalUsers)))]['revenue'].mean() - 1))"
   ]
  },
  {
   "cell_type": "markdown",
   "id": "cbee3144",
   "metadata": {},
   "source": [
    "P-value значительно больше 0.05. Значит, `нулевую гипотезу не отвергаем`.\n",
    "\n",
    "По «очищенным» данным в среднем чеке заказа между группами `нет различий`.\n",
    "\n",
    "`Средний чек группы B на 0.57% меньше среднего чека группы A`. Отличие от «сырых» данных значительное. Вместо +26% стало -0.57%. Сказалось влияние выбросов.\n",
    "\n",
    "---"
   ]
  },
  {
   "cell_type": "markdown",
   "id": "59a51742",
   "metadata": {},
   "source": [
    "## Вывод"
   ]
  },
  {
   "cell_type": "markdown",
   "id": "ebd3e823",
   "metadata": {},
   "source": [
    "**В ходе анализа было выявлено следующее:**\n",
    "\n",
    "- По среднему количеству заказов на посетителя между группами есть статистически значимое различие как по «сырым», так и по «очищенным» данным. Относительное различие 14% и 15.3% соответственно. На графиках видна стабилизация значений к концу теста.\n",
    "- По среднему чеку между группами нет статистически значимого различия. Относительное различие среднего чека колеблется, в связи с влиянием выбросов, поэтому однозначные выводы сделать нельзя.\n",
    "\n",
    "**Принимаем решение:**\n",
    "Остановить тест и зафиксировать победу группы В."
   ]
  }
 ],
 "metadata": {
  "ExecuteTimeLog": [
   {
    "duration": 1170,
    "start_time": "2023-05-02T14:00:51.477Z"
   },
   {
    "duration": 204,
    "start_time": "2023-05-02T14:00:52.649Z"
   },
   {
    "duration": 13,
    "start_time": "2023-05-02T14:00:52.855Z"
   },
   {
    "duration": 49,
    "start_time": "2023-05-02T14:00:52.871Z"
   },
   {
    "duration": 209,
    "start_time": "2023-05-02T14:00:52.922Z"
   },
   {
    "duration": 142,
    "start_time": "2023-05-02T14:00:53.133Z"
   },
   {
    "duration": 297,
    "start_time": "2023-05-02T14:00:53.277Z"
   },
   {
    "duration": 34,
    "start_time": "2023-05-02T14:00:53.576Z"
   },
   {
    "duration": 50,
    "start_time": "2023-05-02T14:00:53.613Z"
   },
   {
    "duration": 336,
    "start_time": "2023-05-02T14:00:53.666Z"
   },
   {
    "duration": 211,
    "start_time": "2023-05-02T14:00:54.006Z"
   },
   {
    "duration": 293,
    "start_time": "2023-05-02T14:00:54.218Z"
   },
   {
    "duration": 225,
    "start_time": "2023-05-02T14:00:54.514Z"
   },
   {
    "duration": 310,
    "start_time": "2023-05-02T14:00:54.741Z"
   },
   {
    "duration": 13,
    "start_time": "2023-05-02T14:00:55.053Z"
   },
   {
    "duration": 133,
    "start_time": "2023-05-02T14:00:55.068Z"
   },
   {
    "duration": 111,
    "start_time": "2023-05-02T14:00:55.209Z"
   },
   {
    "duration": 6,
    "start_time": "2023-05-02T14:00:55.322Z"
   },
   {
    "duration": 129,
    "start_time": "2023-05-02T14:00:55.330Z"
   },
   {
    "duration": 5,
    "start_time": "2023-05-02T14:00:55.461Z"
   },
   {
    "duration": 204,
    "start_time": "2023-05-02T14:00:55.468Z"
   },
   {
    "duration": 119,
    "start_time": "2023-05-02T14:00:55.674Z"
   },
   {
    "duration": 29,
    "start_time": "2023-05-02T14:00:55.798Z"
   },
   {
    "duration": 165,
    "start_time": "2023-05-02T14:00:55.828Z"
   },
   {
    "duration": 39,
    "start_time": "2023-05-02T14:00:55.994Z"
   },
   {
    "duration": 12,
    "start_time": "2023-05-02T14:00:56.036Z"
   },
   {
    "duration": 15,
    "start_time": "2023-05-02T14:00:56.050Z"
   },
   {
    "duration": 20,
    "start_time": "2023-05-02T14:00:56.068Z"
   },
   {
    "duration": 51,
    "start_time": "2023-05-02T14:00:56.089Z"
   },
   {
    "duration": 15,
    "start_time": "2023-05-02T14:00:56.141Z"
   },
   {
    "duration": 1152,
    "start_time": "2023-05-02T14:09:41.061Z"
   },
   {
    "duration": 108,
    "start_time": "2023-05-02T14:09:42.215Z"
   },
   {
    "duration": 12,
    "start_time": "2023-05-02T14:09:42.325Z"
   },
   {
    "duration": 17,
    "start_time": "2023-05-02T14:09:46.283Z"
   },
   {
    "duration": 285,
    "start_time": "2023-05-02T14:09:46.566Z"
   },
   {
    "duration": 115,
    "start_time": "2023-05-02T14:09:46.853Z"
   },
   {
    "duration": 289,
    "start_time": "2023-05-02T14:09:47.847Z"
   },
   {
    "duration": 17,
    "start_time": "2023-05-02T14:09:48.138Z"
   },
   {
    "duration": 36,
    "start_time": "2023-05-02T14:09:48.156Z"
   },
   {
    "duration": 339,
    "start_time": "2023-05-02T14:09:48.194Z"
   },
   {
    "duration": 201,
    "start_time": "2023-05-02T14:09:48.535Z"
   },
   {
    "duration": 277,
    "start_time": "2023-05-02T14:09:48.738Z"
   },
   {
    "duration": 200,
    "start_time": "2023-05-02T14:09:49.017Z"
   },
   {
    "duration": 259,
    "start_time": "2023-05-02T14:09:49.219Z"
   },
   {
    "duration": 16,
    "start_time": "2023-05-02T14:09:49.483Z"
   },
   {
    "duration": 128,
    "start_time": "2023-05-02T14:09:49.501Z"
   },
   {
    "duration": 130,
    "start_time": "2023-05-02T14:09:49.631Z"
   },
   {
    "duration": 6,
    "start_time": "2023-05-02T14:09:49.764Z"
   },
   {
    "duration": 165,
    "start_time": "2023-05-02T14:09:49.772Z"
   },
   {
    "duration": 5,
    "start_time": "2023-05-02T14:09:49.939Z"
   },
   {
    "duration": 186,
    "start_time": "2023-05-02T14:09:49.945Z"
   },
   {
    "duration": 239,
    "start_time": "2023-05-02T14:09:50.132Z"
   },
   {
    "duration": 37,
    "start_time": "2023-05-02T14:09:50.372Z"
   },
   {
    "duration": 157,
    "start_time": "2023-05-02T14:09:50.411Z"
   },
   {
    "duration": 72,
    "start_time": "2023-05-02T14:09:50.570Z"
   },
   {
    "duration": 17,
    "start_time": "2023-05-02T14:09:50.644Z"
   },
   {
    "duration": 26,
    "start_time": "2023-05-02T14:09:50.663Z"
   },
   {
    "duration": 47,
    "start_time": "2023-05-02T14:09:50.690Z"
   },
   {
    "duration": 59,
    "start_time": "2023-05-02T14:09:50.739Z"
   },
   {
    "duration": 36,
    "start_time": "2023-05-02T14:09:50.800Z"
   }
  ],
  "kernelspec": {
   "display_name": "Python 3 (ipykernel)",
   "language": "python",
   "name": "python3"
  },
  "language_info": {
   "codemirror_mode": {
    "name": "ipython",
    "version": 3
   },
   "file_extension": ".py",
   "mimetype": "text/x-python",
   "name": "python",
   "nbconvert_exporter": "python",
   "pygments_lexer": "ipython3",
   "version": "3.9.13"
  },
  "toc": {
   "base_numbering": 1,
   "nav_menu": {},
   "number_sections": true,
   "sideBar": true,
   "skip_h1_title": true,
   "title_cell": "Table of Contents",
   "title_sidebar": "Contents",
   "toc_cell": true,
   "toc_position": {
    "height": "calc(100% - 180px)",
    "left": "10px",
    "top": "150px",
    "width": "291.52px"
   },
   "toc_section_display": true,
   "toc_window_display": false
  }
 },
 "nbformat": 4,
 "nbformat_minor": 5
}
