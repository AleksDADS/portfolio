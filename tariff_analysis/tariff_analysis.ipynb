{
 "cells": [
  {
   "cell_type": "markdown",
   "id": "e1f946a7",
   "metadata": {
    "toc": true
   },
   "source": [
    "<h1>Table of Contents<span class=\"tocSkip\"></span></h1>\n",
    "<div class=\"toc\"><ul class=\"toc-item\"><li><span><a href=\"#Изучение-общей-информации\" data-toc-modified-id=\"Изучение-общей-информации-1\"><span class=\"toc-item-num\">1&nbsp;&nbsp;</span>Изучение общей информации</a></span></li><li><span><a href=\"#Подготовка-данных\" data-toc-modified-id=\"Подготовка-данных-2\"><span class=\"toc-item-num\">2&nbsp;&nbsp;</span>Подготовка данных</a></span><ul class=\"toc-item\"><li><span><a href=\"#Меняем-типы,-удаляем-лишнее\" data-toc-modified-id=\"Меняем-типы,-удаляем-лишнее-2.1\"><span class=\"toc-item-num\">2.1&nbsp;&nbsp;</span>Меняем типы, удаляем лишнее</a></span></li><li><span><a href=\"#Создадим-новые-столбцы-и-датафреймы\" data-toc-modified-id=\"Создадим-новые-столбцы-и-датафреймы-2.2\"><span class=\"toc-item-num\">2.2&nbsp;&nbsp;</span>Создадим новые столбцы и датафреймы</a></span></li></ul></li><li><span><a href=\"#Исследовательский-анализ-данных\" data-toc-modified-id=\"Исследовательский-анализ-данных-3\"><span class=\"toc-item-num\">3&nbsp;&nbsp;</span>Исследовательский анализ данных</a></span><ul class=\"toc-item\"><li><span><a href=\"#Помесячная-выручка\" data-toc-modified-id=\"Помесячная-выручка-3.1\"><span class=\"toc-item-num\">3.1&nbsp;&nbsp;</span>Помесячная выручка</a></span></li><li><span><a href=\"#Визуализация\" data-toc-modified-id=\"Визуализация-3.2\"><span class=\"toc-item-num\">3.2&nbsp;&nbsp;</span>Визуализация</a></span></li><li><span><a href=\"#Метрики\" data-toc-modified-id=\"Метрики-3.3\"><span class=\"toc-item-num\">3.3&nbsp;&nbsp;</span>Метрики</a></span></li></ul></li><li><span><a href=\"#Проверка-гипотез\" data-toc-modified-id=\"Проверка-гипотез-4\"><span class=\"toc-item-num\">4&nbsp;&nbsp;</span>Проверка гипотез</a></span><ul class=\"toc-item\"><li><span><a href=\"#Первая-гипотеза\" data-toc-modified-id=\"Первая-гипотеза-4.1\"><span class=\"toc-item-num\">4.1&nbsp;&nbsp;</span>Первая гипотеза</a></span></li><li><span><a href=\"#Вторая-гипотеза\" data-toc-modified-id=\"Вторая-гипотеза-4.2\"><span class=\"toc-item-num\">4.2&nbsp;&nbsp;</span>Вторая гипотеза</a></span></li></ul></li><li><span><a href=\"#Общий-вывод\" data-toc-modified-id=\"Общий-вывод-5\"><span class=\"toc-item-num\">5&nbsp;&nbsp;</span>Общий вывод</a></span></li></ul></div>"
   ]
  },
  {
   "cell_type": "markdown",
   "id": "9ae322dc",
   "metadata": {},
   "source": [
    "# Анализ тарифов"
   ]
  },
  {
   "cell_type": "markdown",
   "id": "b413b240",
   "metadata": {},
   "source": [
    "Данные - 5 таблиц с различной информацией о 500 пользователях оператора сотовой связи \"Мегалайн\" за 2018 год.  \n",
    "Цель - понять какой тариф приносит больше денег."
   ]
  },
  {
   "cell_type": "markdown",
   "id": "e2d7c582",
   "metadata": {},
   "source": [
    "Описание данных:\n",
    "\n",
    "\n",
    "Таблица `users` — информация о пользователях:\n",
    "- user_id — уникальный идентификатор пользователя\n",
    "- first_name — имя пользователя\n",
    "- last_name — фамилия пользователя\n",
    "- age — возраст пользователя (годы)\n",
    "- reg_date — дата подключения тарифа (день, месяц, год)\n",
    "- churn_date — дата прекращения пользования тарифом (если значение пропущено, значит, тариф ещё действовал на момент выгрузки данных)\n",
    "- city — город проживания пользователя\n",
    "- tariff — название тарифного плана\n",
    "\n",
    "\n",
    "Таблица `calls` — информация о звонках:\n",
    "- id — уникальный номер звонка\n",
    "- call_date — дата звонка\n",
    "- duration — длительность звонка в минутах\n",
    "- user_id — идентификатор пользователя, сделавшего звонок\n",
    "\n",
    "\n",
    "Таблица `messages` — информация о сообщениях:\n",
    "- id — уникальный номер звонка\n",
    "- message_date — дата сообщения\n",
    "- user_id — идентификатор пользователя, отправившего сообщение\n",
    "\n",
    "\n",
    "Таблица `internet` — информация об интернет-сессиях:\n",
    "- id — уникальный номер сессии\n",
    "- mb_used — объём потраченного за сессию интернет-трафика (в мегабайтах)\n",
    "- session_date — дата интернет-сессии\n",
    "- user_id — идентификатор пользователя\n",
    "\n",
    "\n",
    "Таблица `tariffs` — информация о тарифах:\n",
    "- tariff_name — название тарифа\n",
    "- rub_monthly_fee — ежемесячная абонентская плата в рублях\n",
    "- minutes_included — количество минут разговора в месяц, включённых в абонентскую плату\n",
    "- messages_included — количество сообщений в месяц, включённых в абонентскую плату\n",
    "- mb_per_month_included — объём интернет-трафика, включённого в абонентскую плату (в мегабайтах)\n",
    "- rub_per_minute — стоимость минуты разговора сверх тарифного пакета (например, если в тарифе 100 минут разговора в месяц, то со - 101 минуты будет взиматься плата)\n",
    "- rub_per_message — стоимость отправки сообщения сверх тарифного пакета\n",
    "- rub_per_gb — стоимость дополнительного гигабайта интернет-трафика сверх тарифного пакета (1 гигабайт = 1024 мегабайта)"
   ]
  },
  {
   "cell_type": "markdown",
   "id": "53dd83b2",
   "metadata": {},
   "source": [
    "Описание тарифов:   \n",
    "\n",
    "Тариф `\"Смарт\"`:  \n",
    "- Ежемесячная плата: 550 рублей\n",
    "- Включено 500 минут разговора, 50 сообщений и 15 Гб интернет-трафика\n",
    "- Стоимость услуг сверх тарифного пакета:\n",
    "    - Минута разговора — 3 рубля. Количество использованных минут и мегабайтов «Мегалайн» всегда округляет вверх. Если пользователь проговорил всего 1 секунду, в тарифе засчитывается целая минута.\n",
    "    - Сообщение — 3 рубля.\n",
    "    - 1 Гб интернет-трафика — 200 рублей.  \n",
    "    \n",
    "    \n",
    "Тариф `\"Ультра\"`:  \n",
    "- Ежемесячная плата: 1950 рублей\n",
    "- Включено 3000 минут разговора, 1000 сообщений и 30 Гб интернет-трафика\n",
    "- Стоимость услуг сверх тарифного пакета:\n",
    "    - Минута разговора — 1 рубль. Количество использованных минут и мегабайтов «Мегалайн» всегда округляет вверх. Если пользователь проговорил всего 1 секунду, в тарифе засчитывается целая минута.\n",
    "    - Сообщение — 1 рубль.\n",
    "    - 1 Гб интернет-трафика: 150 рублей."
   ]
  },
  {
   "cell_type": "markdown",
   "id": "16fd5db6",
   "metadata": {},
   "source": [
    "## Изучение общей информации"
   ]
  },
  {
   "cell_type": "code",
   "execution_count": 1,
   "id": "b8dbe13b",
   "metadata": {},
   "outputs": [],
   "source": [
    "import pandas as pd  # Импортируем необходимые библиотеки\n",
    "import numpy as np\n",
    "import scipy.stats as st\n",
    "import matplotlib.pyplot as plt\n",
    "import seaborn as sns\n",
    "\n",
    "calls = pd.read_csv('calls.csv')  # Читаем наши 5 таблиц\n",
    "sessions = pd.read_csv('internet.csv')\n",
    "messages = pd.read_csv('messages.csv')\n",
    "tariffs = pd.read_csv('tariffs.csv')\n",
    "users = pd.read_csv('users.csv')"
   ]
  },
  {
   "cell_type": "code",
   "execution_count": 2,
   "id": "f14334e6",
   "metadata": {},
   "outputs": [],
   "source": [
    "def total_info(data):  # Создаем функцию для вывода общей информации\n",
    "    result = display(data.info(), data.head())\n",
    "    return result"
   ]
  },
  {
   "cell_type": "code",
   "execution_count": 3,
   "id": "83c8a190",
   "metadata": {
    "scrolled": false
   },
   "outputs": [
    {
     "name": "stdout",
     "output_type": "stream",
     "text": [
      "<class 'pandas.core.frame.DataFrame'>\n",
      "RangeIndex: 202607 entries, 0 to 202606\n",
      "Data columns (total 4 columns):\n",
      " #   Column     Non-Null Count   Dtype  \n",
      "---  ------     --------------   -----  \n",
      " 0   id         202607 non-null  object \n",
      " 1   call_date  202607 non-null  object \n",
      " 2   duration   202607 non-null  float64\n",
      " 3   user_id    202607 non-null  int64  \n",
      "dtypes: float64(1), int64(1), object(2)\n",
      "memory usage: 6.2+ MB\n"
     ]
    },
    {
     "data": {
      "text/plain": [
       "None"
      ]
     },
     "metadata": {},
     "output_type": "display_data"
    },
    {
     "data": {
      "text/html": [
       "<div>\n",
       "<style scoped>\n",
       "    .dataframe tbody tr th:only-of-type {\n",
       "        vertical-align: middle;\n",
       "    }\n",
       "\n",
       "    .dataframe tbody tr th {\n",
       "        vertical-align: top;\n",
       "    }\n",
       "\n",
       "    .dataframe thead th {\n",
       "        text-align: right;\n",
       "    }\n",
       "</style>\n",
       "<table border=\"1\" class=\"dataframe\">\n",
       "  <thead>\n",
       "    <tr style=\"text-align: right;\">\n",
       "      <th></th>\n",
       "      <th>id</th>\n",
       "      <th>call_date</th>\n",
       "      <th>duration</th>\n",
       "      <th>user_id</th>\n",
       "    </tr>\n",
       "  </thead>\n",
       "  <tbody>\n",
       "    <tr>\n",
       "      <th>0</th>\n",
       "      <td>1000_0</td>\n",
       "      <td>2018-07-25</td>\n",
       "      <td>0.00</td>\n",
       "      <td>1000</td>\n",
       "    </tr>\n",
       "    <tr>\n",
       "      <th>1</th>\n",
       "      <td>1000_1</td>\n",
       "      <td>2018-08-17</td>\n",
       "      <td>0.00</td>\n",
       "      <td>1000</td>\n",
       "    </tr>\n",
       "    <tr>\n",
       "      <th>2</th>\n",
       "      <td>1000_2</td>\n",
       "      <td>2018-06-11</td>\n",
       "      <td>2.85</td>\n",
       "      <td>1000</td>\n",
       "    </tr>\n",
       "    <tr>\n",
       "      <th>3</th>\n",
       "      <td>1000_3</td>\n",
       "      <td>2018-09-21</td>\n",
       "      <td>13.80</td>\n",
       "      <td>1000</td>\n",
       "    </tr>\n",
       "    <tr>\n",
       "      <th>4</th>\n",
       "      <td>1000_4</td>\n",
       "      <td>2018-12-15</td>\n",
       "      <td>5.18</td>\n",
       "      <td>1000</td>\n",
       "    </tr>\n",
       "  </tbody>\n",
       "</table>\n",
       "</div>"
      ],
      "text/plain": [
       "       id   call_date  duration  user_id\n",
       "0  1000_0  2018-07-25      0.00     1000\n",
       "1  1000_1  2018-08-17      0.00     1000\n",
       "2  1000_2  2018-06-11      2.85     1000\n",
       "3  1000_3  2018-09-21     13.80     1000\n",
       "4  1000_4  2018-12-15      5.18     1000"
      ]
     },
     "metadata": {},
     "output_type": "display_data"
    }
   ],
   "source": [
    "total_info(calls)"
   ]
  },
  {
   "cell_type": "code",
   "execution_count": 4,
   "id": "af6df328",
   "metadata": {
    "scrolled": false
   },
   "outputs": [
    {
     "data": {
      "image/png": "[encoded data removed]",
      "text/plain": [
       "<Figure size 640x480 with 1 Axes>"
      ]
     },
     "metadata": {},
     "output_type": "display_data"
    }
   ],
   "source": [
    "calls['duration'].hist(bins=30, range=(0, 30));"
   ]
  },
  {
   "cell_type": "markdown",
   "id": "940701ee",
   "metadata": {},
   "source": [
    "Много нулевых значений. Вероятно это неотвеченные звонки.\n",
    "\n",
    "---"
   ]
  },
  {
   "cell_type": "code",
   "execution_count": 5,
   "id": "7202f96c",
   "metadata": {},
   "outputs": [
    {
     "name": "stdout",
     "output_type": "stream",
     "text": [
      "<class 'pandas.core.frame.DataFrame'>\n",
      "RangeIndex: 149396 entries, 0 to 149395\n",
      "Data columns (total 5 columns):\n",
      " #   Column        Non-Null Count   Dtype  \n",
      "---  ------        --------------   -----  \n",
      " 0   Unnamed: 0    149396 non-null  int64  \n",
      " 1   id            149396 non-null  object \n",
      " 2   mb_used       149396 non-null  float64\n",
      " 3   session_date  149396 non-null  object \n",
      " 4   user_id       149396 non-null  int64  \n",
      "dtypes: float64(1), int64(2), object(2)\n",
      "memory usage: 5.7+ MB\n"
     ]
    },
    {
     "data": {
      "text/plain": [
       "None"
      ]
     },
     "metadata": {},
     "output_type": "display_data"
    },
    {
     "data": {
      "text/html": [
       "<div>\n",
       "<style scoped>\n",
       "    .dataframe tbody tr th:only-of-type {\n",
       "        vertical-align: middle;\n",
       "    }\n",
       "\n",
       "    .dataframe tbody tr th {\n",
       "        vertical-align: top;\n",
       "    }\n",
       "\n",
       "    .dataframe thead th {\n",
       "        text-align: right;\n",
       "    }\n",
       "</style>\n",
       "<table border=\"1\" class=\"dataframe\">\n",
       "  <thead>\n",
       "    <tr style=\"text-align: right;\">\n",
       "      <th></th>\n",
       "      <th>Unnamed: 0</th>\n",
       "      <th>id</th>\n",
       "      <th>mb_used</th>\n",
       "      <th>session_date</th>\n",
       "      <th>user_id</th>\n",
       "    </tr>\n",
       "  </thead>\n",
       "  <tbody>\n",
       "    <tr>\n",
       "      <th>0</th>\n",
       "      <td>0</td>\n",
       "      <td>1000_0</td>\n",
       "      <td>112.95</td>\n",
       "      <td>2018-11-25</td>\n",
       "      <td>1000</td>\n",
       "    </tr>\n",
       "    <tr>\n",
       "      <th>1</th>\n",
       "      <td>1</td>\n",
       "      <td>1000_1</td>\n",
       "      <td>1052.81</td>\n",
       "      <td>2018-09-07</td>\n",
       "      <td>1000</td>\n",
       "    </tr>\n",
       "    <tr>\n",
       "      <th>2</th>\n",
       "      <td>2</td>\n",
       "      <td>1000_2</td>\n",
       "      <td>1197.26</td>\n",
       "      <td>2018-06-25</td>\n",
       "      <td>1000</td>\n",
       "    </tr>\n",
       "    <tr>\n",
       "      <th>3</th>\n",
       "      <td>3</td>\n",
       "      <td>1000_3</td>\n",
       "      <td>550.27</td>\n",
       "      <td>2018-08-22</td>\n",
       "      <td>1000</td>\n",
       "    </tr>\n",
       "    <tr>\n",
       "      <th>4</th>\n",
       "      <td>4</td>\n",
       "      <td>1000_4</td>\n",
       "      <td>302.56</td>\n",
       "      <td>2018-09-24</td>\n",
       "      <td>1000</td>\n",
       "    </tr>\n",
       "  </tbody>\n",
       "</table>\n",
       "</div>"
      ],
      "text/plain": [
       "   Unnamed: 0      id  mb_used session_date  user_id\n",
       "0           0  1000_0   112.95   2018-11-25     1000\n",
       "1           1  1000_1  1052.81   2018-09-07     1000\n",
       "2           2  1000_2  1197.26   2018-06-25     1000\n",
       "3           3  1000_3   550.27   2018-08-22     1000\n",
       "4           4  1000_4   302.56   2018-09-24     1000"
      ]
     },
     "metadata": {},
     "output_type": "display_data"
    }
   ],
   "source": [
    "total_info(sessions)"
   ]
  },
  {
   "cell_type": "code",
   "execution_count": 6,
   "id": "5e7aef3d",
   "metadata": {
    "scrolled": false
   },
   "outputs": [
    {
     "data": {
      "image/png": "[encoded data removed]",
      "text/plain": [
       "<Figure size 640x480 with 1 Axes>"
      ]
     },
     "metadata": {},
     "output_type": "display_data"
    }
   ],
   "source": [
    "sessions['mb_used'].hist(bins=40, range=(0, 1400));"
   ]
  },
  {
   "cell_type": "markdown",
   "id": "038cfb49",
   "metadata": {},
   "source": [
    "Здесь также много нулевых значений. Возможно они означают сбой подключения и/или сессию до 10-15 секунд. Оставляем.\n",
    "\n",
    "---"
   ]
  },
  {
   "cell_type": "code",
   "execution_count": 7,
   "id": "ffd6c6dc",
   "metadata": {},
   "outputs": [
    {
     "name": "stdout",
     "output_type": "stream",
     "text": [
      "<class 'pandas.core.frame.DataFrame'>\n",
      "RangeIndex: 123036 entries, 0 to 123035\n",
      "Data columns (total 3 columns):\n",
      " #   Column        Non-Null Count   Dtype \n",
      "---  ------        --------------   ----- \n",
      " 0   id            123036 non-null  object\n",
      " 1   message_date  123036 non-null  object\n",
      " 2   user_id       123036 non-null  int64 \n",
      "dtypes: int64(1), object(2)\n",
      "memory usage: 2.8+ MB\n"
     ]
    },
    {
     "data": {
      "text/plain": [
       "None"
      ]
     },
     "metadata": {},
     "output_type": "display_data"
    },
    {
     "data": {
      "text/html": [
       "<div>\n",
       "<style scoped>\n",
       "    .dataframe tbody tr th:only-of-type {\n",
       "        vertical-align: middle;\n",
       "    }\n",
       "\n",
       "    .dataframe tbody tr th {\n",
       "        vertical-align: top;\n",
       "    }\n",
       "\n",
       "    .dataframe thead th {\n",
       "        text-align: right;\n",
       "    }\n",
       "</style>\n",
       "<table border=\"1\" class=\"dataframe\">\n",
       "  <thead>\n",
       "    <tr style=\"text-align: right;\">\n",
       "      <th></th>\n",
       "      <th>id</th>\n",
       "      <th>message_date</th>\n",
       "      <th>user_id</th>\n",
       "    </tr>\n",
       "  </thead>\n",
       "  <tbody>\n",
       "    <tr>\n",
       "      <th>0</th>\n",
       "      <td>1000_0</td>\n",
       "      <td>2018-06-27</td>\n",
       "      <td>1000</td>\n",
       "    </tr>\n",
       "    <tr>\n",
       "      <th>1</th>\n",
       "      <td>1000_1</td>\n",
       "      <td>2018-10-08</td>\n",
       "      <td>1000</td>\n",
       "    </tr>\n",
       "    <tr>\n",
       "      <th>2</th>\n",
       "      <td>1000_2</td>\n",
       "      <td>2018-08-04</td>\n",
       "      <td>1000</td>\n",
       "    </tr>\n",
       "    <tr>\n",
       "      <th>3</th>\n",
       "      <td>1000_3</td>\n",
       "      <td>2018-06-16</td>\n",
       "      <td>1000</td>\n",
       "    </tr>\n",
       "    <tr>\n",
       "      <th>4</th>\n",
       "      <td>1000_4</td>\n",
       "      <td>2018-12-05</td>\n",
       "      <td>1000</td>\n",
       "    </tr>\n",
       "  </tbody>\n",
       "</table>\n",
       "</div>"
      ],
      "text/plain": [
       "       id message_date  user_id\n",
       "0  1000_0   2018-06-27     1000\n",
       "1  1000_1   2018-10-08     1000\n",
       "2  1000_2   2018-08-04     1000\n",
       "3  1000_3   2018-06-16     1000\n",
       "4  1000_4   2018-12-05     1000"
      ]
     },
     "metadata": {},
     "output_type": "display_data"
    }
   ],
   "source": [
    "total_info(messages)"
   ]
  },
  {
   "cell_type": "code",
   "execution_count": 8,
   "id": "d8c27205",
   "metadata": {
    "scrolled": false
   },
   "outputs": [
    {
     "name": "stdout",
     "output_type": "stream",
     "text": [
      "<class 'pandas.core.frame.DataFrame'>\n",
      "RangeIndex: 2 entries, 0 to 1\n",
      "Data columns (total 8 columns):\n",
      " #   Column                 Non-Null Count  Dtype \n",
      "---  ------                 --------------  ----- \n",
      " 0   messages_included      2 non-null      int64 \n",
      " 1   mb_per_month_included  2 non-null      int64 \n",
      " 2   minutes_included       2 non-null      int64 \n",
      " 3   rub_monthly_fee        2 non-null      int64 \n",
      " 4   rub_per_gb             2 non-null      int64 \n",
      " 5   rub_per_message        2 non-null      int64 \n",
      " 6   rub_per_minute         2 non-null      int64 \n",
      " 7   tariff_name            2 non-null      object\n",
      "dtypes: int64(7), object(1)\n",
      "memory usage: 256.0+ bytes\n"
     ]
    },
    {
     "data": {
      "text/plain": [
       "None"
      ]
     },
     "metadata": {},
     "output_type": "display_data"
    },
    {
     "data": {
      "text/html": [
       "<div>\n",
       "<style scoped>\n",
       "    .dataframe tbody tr th:only-of-type {\n",
       "        vertical-align: middle;\n",
       "    }\n",
       "\n",
       "    .dataframe tbody tr th {\n",
       "        vertical-align: top;\n",
       "    }\n",
       "\n",
       "    .dataframe thead th {\n",
       "        text-align: right;\n",
       "    }\n",
       "</style>\n",
       "<table border=\"1\" class=\"dataframe\">\n",
       "  <thead>\n",
       "    <tr style=\"text-align: right;\">\n",
       "      <th></th>\n",
       "      <th>messages_included</th>\n",
       "      <th>mb_per_month_included</th>\n",
       "      <th>minutes_included</th>\n",
       "      <th>rub_monthly_fee</th>\n",
       "      <th>rub_per_gb</th>\n",
       "      <th>rub_per_message</th>\n",
       "      <th>rub_per_minute</th>\n",
       "      <th>tariff_name</th>\n",
       "    </tr>\n",
       "  </thead>\n",
       "  <tbody>\n",
       "    <tr>\n",
       "      <th>0</th>\n",
       "      <td>50</td>\n",
       "      <td>15360</td>\n",
       "      <td>500</td>\n",
       "      <td>550</td>\n",
       "      <td>200</td>\n",
       "      <td>3</td>\n",
       "      <td>3</td>\n",
       "      <td>smart</td>\n",
       "    </tr>\n",
       "    <tr>\n",
       "      <th>1</th>\n",
       "      <td>1000</td>\n",
       "      <td>30720</td>\n",
       "      <td>3000</td>\n",
       "      <td>1950</td>\n",
       "      <td>150</td>\n",
       "      <td>1</td>\n",
       "      <td>1</td>\n",
       "      <td>ultra</td>\n",
       "    </tr>\n",
       "  </tbody>\n",
       "</table>\n",
       "</div>"
      ],
      "text/plain": [
       "   messages_included  mb_per_month_included  minutes_included  \\\n",
       "0                 50                  15360               500   \n",
       "1               1000                  30720              3000   \n",
       "\n",
       "   rub_monthly_fee  rub_per_gb  rub_per_message  rub_per_minute tariff_name  \n",
       "0              550         200                3               3       smart  \n",
       "1             1950         150                1               1       ultra  "
      ]
     },
     "metadata": {},
     "output_type": "display_data"
    }
   ],
   "source": [
    "total_info(tariffs)"
   ]
  },
  {
   "cell_type": "code",
   "execution_count": 9,
   "id": "9febfc99",
   "metadata": {
    "scrolled": false
   },
   "outputs": [
    {
     "name": "stdout",
     "output_type": "stream",
     "text": [
      "<class 'pandas.core.frame.DataFrame'>\n",
      "RangeIndex: 500 entries, 0 to 499\n",
      "Data columns (total 8 columns):\n",
      " #   Column      Non-Null Count  Dtype \n",
      "---  ------      --------------  ----- \n",
      " 0   user_id     500 non-null    int64 \n",
      " 1   age         500 non-null    int64 \n",
      " 2   churn_date  38 non-null     object\n",
      " 3   city        500 non-null    object\n",
      " 4   first_name  500 non-null    object\n",
      " 5   last_name   500 non-null    object\n",
      " 6   reg_date    500 non-null    object\n",
      " 7   tariff      500 non-null    object\n",
      "dtypes: int64(2), object(6)\n",
      "memory usage: 31.4+ KB\n"
     ]
    },
    {
     "data": {
      "text/plain": [
       "None"
      ]
     },
     "metadata": {},
     "output_type": "display_data"
    },
    {
     "data": {
      "text/html": [
       "<div>\n",
       "<style scoped>\n",
       "    .dataframe tbody tr th:only-of-type {\n",
       "        vertical-align: middle;\n",
       "    }\n",
       "\n",
       "    .dataframe tbody tr th {\n",
       "        vertical-align: top;\n",
       "    }\n",
       "\n",
       "    .dataframe thead th {\n",
       "        text-align: right;\n",
       "    }\n",
       "</style>\n",
       "<table border=\"1\" class=\"dataframe\">\n",
       "  <thead>\n",
       "    <tr style=\"text-align: right;\">\n",
       "      <th></th>\n",
       "      <th>user_id</th>\n",
       "      <th>age</th>\n",
       "      <th>churn_date</th>\n",
       "      <th>city</th>\n",
       "      <th>first_name</th>\n",
       "      <th>last_name</th>\n",
       "      <th>reg_date</th>\n",
       "      <th>tariff</th>\n",
       "    </tr>\n",
       "  </thead>\n",
       "  <tbody>\n",
       "    <tr>\n",
       "      <th>0</th>\n",
       "      <td>1000</td>\n",
       "      <td>52</td>\n",
       "      <td>NaN</td>\n",
       "      <td>Краснодар</td>\n",
       "      <td>Рафаил</td>\n",
       "      <td>Верещагин</td>\n",
       "      <td>2018-05-25</td>\n",
       "      <td>ultra</td>\n",
       "    </tr>\n",
       "    <tr>\n",
       "      <th>1</th>\n",
       "      <td>1001</td>\n",
       "      <td>41</td>\n",
       "      <td>NaN</td>\n",
       "      <td>Москва</td>\n",
       "      <td>Иван</td>\n",
       "      <td>Ежов</td>\n",
       "      <td>2018-11-01</td>\n",
       "      <td>smart</td>\n",
       "    </tr>\n",
       "    <tr>\n",
       "      <th>2</th>\n",
       "      <td>1002</td>\n",
       "      <td>59</td>\n",
       "      <td>NaN</td>\n",
       "      <td>Стерлитамак</td>\n",
       "      <td>Евгений</td>\n",
       "      <td>Абрамович</td>\n",
       "      <td>2018-06-17</td>\n",
       "      <td>smart</td>\n",
       "    </tr>\n",
       "    <tr>\n",
       "      <th>3</th>\n",
       "      <td>1003</td>\n",
       "      <td>23</td>\n",
       "      <td>NaN</td>\n",
       "      <td>Москва</td>\n",
       "      <td>Белла</td>\n",
       "      <td>Белякова</td>\n",
       "      <td>2018-08-17</td>\n",
       "      <td>ultra</td>\n",
       "    </tr>\n",
       "    <tr>\n",
       "      <th>4</th>\n",
       "      <td>1004</td>\n",
       "      <td>68</td>\n",
       "      <td>NaN</td>\n",
       "      <td>Новокузнецк</td>\n",
       "      <td>Татьяна</td>\n",
       "      <td>Авдеенко</td>\n",
       "      <td>2018-05-14</td>\n",
       "      <td>ultra</td>\n",
       "    </tr>\n",
       "  </tbody>\n",
       "</table>\n",
       "</div>"
      ],
      "text/plain": [
       "   user_id  age churn_date         city first_name  last_name    reg_date  \\\n",
       "0     1000   52        NaN    Краснодар     Рафаил  Верещагин  2018-05-25   \n",
       "1     1001   41        NaN       Москва       Иван       Ежов  2018-11-01   \n",
       "2     1002   59        NaN  Стерлитамак    Евгений  Абрамович  2018-06-17   \n",
       "3     1003   23        NaN       Москва      Белла   Белякова  2018-08-17   \n",
       "4     1004   68        NaN  Новокузнецк    Татьяна   Авдеенко  2018-05-14   \n",
       "\n",
       "  tariff  \n",
       "0  ultra  \n",
       "1  smart  \n",
       "2  smart  \n",
       "3  ultra  \n",
       "4  ultra  "
      ]
     },
     "metadata": {},
     "output_type": "display_data"
    }
   ],
   "source": [
    "total_info(users)"
   ]
  },
  {
   "cell_type": "markdown",
   "id": "88e0f1b7",
   "metadata": {},
   "source": [
    "<div class='alert alert-info'><b>\n",
    "\n",
    "    \n",
    "- Названия столбцов в порядке, но есть лишний - Unnamed: 0.\n",
    "- У всех столбцов с датами тип данных - object. Исправим.\n",
    "- Пропуски только в таблице users в столбце churn_date. Из описания данных известно, что это означает - тариф ещё действовал на момент выгрузки данных. Не трогаем.\n",
    "</b></div>"
   ]
  },
  {
   "cell_type": "markdown",
   "id": "d1610a58",
   "metadata": {},
   "source": [
    "## Подготовка данных"
   ]
  },
  {
   "cell_type": "markdown",
   "id": "292e2620",
   "metadata": {},
   "source": [
    "### Меняем типы, удаляем лишнее"
   ]
  },
  {
   "cell_type": "code",
   "execution_count": 10,
   "id": "e91d19f2",
   "metadata": {},
   "outputs": [],
   "source": [
    "sessions = sessions.drop('Unnamed: 0', axis=1)  # Удалим лишний столбец"
   ]
  },
  {
   "cell_type": "markdown",
   "id": "ed7f5c68",
   "metadata": {},
   "source": [
    "**Приведем** столбцы с датами к соответствующему типу данных"
   ]
  },
  {
   "cell_type": "code",
   "execution_count": 11,
   "id": "1d2236a8",
   "metadata": {},
   "outputs": [],
   "source": [
    "users['reg_date'] = pd.to_datetime(users['reg_date'], format='%Y-%m-%d')\n",
    "users['churn_date'] = pd.to_datetime(users['churn_date'], format='%Y-%m-%d')\n",
    "\n",
    "calls['call_date'] = pd.to_datetime(calls['call_date'], format='%Y-%m-%d')\n",
    "\n",
    "messages['message_date'] = pd.to_datetime(messages['message_date'], format='%Y-%m-%d')\n",
    "sessions['session_date'] = pd.to_datetime(sessions['session_date'], format='%Y-%m-%d')"
   ]
  },
  {
   "cell_type": "markdown",
   "id": "6953373c",
   "metadata": {},
   "source": [
    "**Округлим** значения столбца `duration` и приведем к типу int. Из описания тарифов известно, что тарификация поминутная, то есть даже если пользователь проговорил всего 1 секунду, в тарифе засчитывается целая минута."
   ]
  },
  {
   "cell_type": "code",
   "execution_count": 12,
   "id": "690e2f50",
   "metadata": {},
   "outputs": [],
   "source": [
    "calls['duration'] = np.ceil(calls['duration']).astype('int')"
   ]
  },
  {
   "cell_type": "markdown",
   "id": "4bc12109",
   "metadata": {},
   "source": [
    "### Создадим новые столбцы и датафреймы"
   ]
  },
  {
   "cell_type": "markdown",
   "id": "8b5c4042",
   "metadata": {},
   "source": [
    "**Создадим** новые столбцы в таблицах calls, messages, sessions со значениями месяцев для определения платежного периода"
   ]
  },
  {
   "cell_type": "code",
   "execution_count": 13,
   "id": "a0e81555",
   "metadata": {},
   "outputs": [],
   "source": [
    "calls['month'] = calls['call_date'].dt.month\n",
    "messages['month'] = messages['message_date'].dt.month\n",
    "sessions['month'] = sessions['session_date'].dt.month"
   ]
  },
  {
   "cell_type": "markdown",
   "id": "4097f157",
   "metadata": {},
   "source": [
    "**Создадим** датафреймы с информацией о количестве:\n",
    "- совершенных звонков - `calls_per_month`\n",
    "- израсходованных минут разговора - `minutes_per_month`\n",
    "- отправленных сообщений - `messages_per_month`\n",
    "- потраченных мегабайт - `sessions_per_month`\n",
    "\n",
    "\n",
    "сгрупированные для каждого пользователя по id и по месяцам"
   ]
  },
  {
   "cell_type": "code",
   "execution_count": 14,
   "id": "a5e2aaac",
   "metadata": {},
   "outputs": [],
   "source": [
    "calls_per_month = calls.groupby(['user_id', 'month']).agg(calls=('duration', 'count'))\n",
    "minutes_per_month = calls.groupby(['user_id', 'month']).agg(minutes=('duration', 'sum'))\n",
    "messages_per_month = messages.groupby(['user_id', 'month']).agg(messages=('message_date', 'count'))\n",
    "sessions_per_month = sessions.groupby(['user_id', 'month']).agg({'mb_used': 'sum'})"
   ]
  },
  {
   "cell_type": "code",
   "execution_count": 15,
   "id": "8da7dd42",
   "metadata": {
    "scrolled": false
   },
   "outputs": [
    {
     "data": {
      "text/html": [
       "<div>\n",
       "<style scoped>\n",
       "    .dataframe tbody tr th:only-of-type {\n",
       "        vertical-align: middle;\n",
       "    }\n",
       "\n",
       "    .dataframe tbody tr th {\n",
       "        vertical-align: top;\n",
       "    }\n",
       "\n",
       "    .dataframe thead th {\n",
       "        text-align: right;\n",
       "    }\n",
       "</style>\n",
       "<table border=\"1\" class=\"dataframe\">\n",
       "  <thead>\n",
       "    <tr style=\"text-align: right;\">\n",
       "      <th></th>\n",
       "      <th></th>\n",
       "      <th>calls</th>\n",
       "    </tr>\n",
       "    <tr>\n",
       "      <th>user_id</th>\n",
       "      <th>month</th>\n",
       "      <th></th>\n",
       "    </tr>\n",
       "  </thead>\n",
       "  <tbody>\n",
       "    <tr>\n",
       "      <th rowspan=\"5\" valign=\"top\">1000</th>\n",
       "      <th>5</th>\n",
       "      <td>22</td>\n",
       "    </tr>\n",
       "    <tr>\n",
       "      <th>6</th>\n",
       "      <td>43</td>\n",
       "    </tr>\n",
       "    <tr>\n",
       "      <th>7</th>\n",
       "      <td>47</td>\n",
       "    </tr>\n",
       "    <tr>\n",
       "      <th>8</th>\n",
       "      <td>52</td>\n",
       "    </tr>\n",
       "    <tr>\n",
       "      <th>9</th>\n",
       "      <td>58</td>\n",
       "    </tr>\n",
       "  </tbody>\n",
       "</table>\n",
       "</div>"
      ],
      "text/plain": [
       "               calls\n",
       "user_id month       \n",
       "1000    5         22\n",
       "        6         43\n",
       "        7         47\n",
       "        8         52\n",
       "        9         58"
      ]
     },
     "metadata": {},
     "output_type": "display_data"
    },
    {
     "data": {
      "text/html": [
       "<div>\n",
       "<style scoped>\n",
       "    .dataframe tbody tr th:only-of-type {\n",
       "        vertical-align: middle;\n",
       "    }\n",
       "\n",
       "    .dataframe tbody tr th {\n",
       "        vertical-align: top;\n",
       "    }\n",
       "\n",
       "    .dataframe thead th {\n",
       "        text-align: right;\n",
       "    }\n",
       "</style>\n",
       "<table border=\"1\" class=\"dataframe\">\n",
       "  <thead>\n",
       "    <tr style=\"text-align: right;\">\n",
       "      <th></th>\n",
       "      <th></th>\n",
       "      <th>minutes</th>\n",
       "    </tr>\n",
       "    <tr>\n",
       "      <th>user_id</th>\n",
       "      <th>month</th>\n",
       "      <th></th>\n",
       "    </tr>\n",
       "  </thead>\n",
       "  <tbody>\n",
       "    <tr>\n",
       "      <th rowspan=\"5\" valign=\"top\">1000</th>\n",
       "      <th>5</th>\n",
       "      <td>159</td>\n",
       "    </tr>\n",
       "    <tr>\n",
       "      <th>6</th>\n",
       "      <td>172</td>\n",
       "    </tr>\n",
       "    <tr>\n",
       "      <th>7</th>\n",
       "      <td>340</td>\n",
       "    </tr>\n",
       "    <tr>\n",
       "      <th>8</th>\n",
       "      <td>408</td>\n",
       "    </tr>\n",
       "    <tr>\n",
       "      <th>9</th>\n",
       "      <td>466</td>\n",
       "    </tr>\n",
       "  </tbody>\n",
       "</table>\n",
       "</div>"
      ],
      "text/plain": [
       "               minutes\n",
       "user_id month         \n",
       "1000    5          159\n",
       "        6          172\n",
       "        7          340\n",
       "        8          408\n",
       "        9          466"
      ]
     },
     "metadata": {},
     "output_type": "display_data"
    },
    {
     "data": {
      "text/html": [
       "<div>\n",
       "<style scoped>\n",
       "    .dataframe tbody tr th:only-of-type {\n",
       "        vertical-align: middle;\n",
       "    }\n",
       "\n",
       "    .dataframe tbody tr th {\n",
       "        vertical-align: top;\n",
       "    }\n",
       "\n",
       "    .dataframe thead th {\n",
       "        text-align: right;\n",
       "    }\n",
       "</style>\n",
       "<table border=\"1\" class=\"dataframe\">\n",
       "  <thead>\n",
       "    <tr style=\"text-align: right;\">\n",
       "      <th></th>\n",
       "      <th></th>\n",
       "      <th>messages</th>\n",
       "    </tr>\n",
       "    <tr>\n",
       "      <th>user_id</th>\n",
       "      <th>month</th>\n",
       "      <th></th>\n",
       "    </tr>\n",
       "  </thead>\n",
       "  <tbody>\n",
       "    <tr>\n",
       "      <th rowspan=\"5\" valign=\"top\">1000</th>\n",
       "      <th>5</th>\n",
       "      <td>22</td>\n",
       "    </tr>\n",
       "    <tr>\n",
       "      <th>6</th>\n",
       "      <td>60</td>\n",
       "    </tr>\n",
       "    <tr>\n",
       "      <th>7</th>\n",
       "      <td>75</td>\n",
       "    </tr>\n",
       "    <tr>\n",
       "      <th>8</th>\n",
       "      <td>81</td>\n",
       "    </tr>\n",
       "    <tr>\n",
       "      <th>9</th>\n",
       "      <td>57</td>\n",
       "    </tr>\n",
       "  </tbody>\n",
       "</table>\n",
       "</div>"
      ],
      "text/plain": [
       "               messages\n",
       "user_id month          \n",
       "1000    5            22\n",
       "        6            60\n",
       "        7            75\n",
       "        8            81\n",
       "        9            57"
      ]
     },
     "metadata": {},
     "output_type": "display_data"
    },
    {
     "data": {
      "text/html": [
       "<div>\n",
       "<style scoped>\n",
       "    .dataframe tbody tr th:only-of-type {\n",
       "        vertical-align: middle;\n",
       "    }\n",
       "\n",
       "    .dataframe tbody tr th {\n",
       "        vertical-align: top;\n",
       "    }\n",
       "\n",
       "    .dataframe thead th {\n",
       "        text-align: right;\n",
       "    }\n",
       "</style>\n",
       "<table border=\"1\" class=\"dataframe\">\n",
       "  <thead>\n",
       "    <tr style=\"text-align: right;\">\n",
       "      <th></th>\n",
       "      <th></th>\n",
       "      <th>mb_used</th>\n",
       "    </tr>\n",
       "    <tr>\n",
       "      <th>user_id</th>\n",
       "      <th>month</th>\n",
       "      <th></th>\n",
       "    </tr>\n",
       "  </thead>\n",
       "  <tbody>\n",
       "    <tr>\n",
       "      <th rowspan=\"5\" valign=\"top\">1000</th>\n",
       "      <th>5</th>\n",
       "      <td>2253.49</td>\n",
       "    </tr>\n",
       "    <tr>\n",
       "      <th>6</th>\n",
       "      <td>23233.77</td>\n",
       "    </tr>\n",
       "    <tr>\n",
       "      <th>7</th>\n",
       "      <td>14003.64</td>\n",
       "    </tr>\n",
       "    <tr>\n",
       "      <th>8</th>\n",
       "      <td>14055.93</td>\n",
       "    </tr>\n",
       "    <tr>\n",
       "      <th>9</th>\n",
       "      <td>14568.91</td>\n",
       "    </tr>\n",
       "  </tbody>\n",
       "</table>\n",
       "</div>"
      ],
      "text/plain": [
       "                mb_used\n",
       "user_id month          \n",
       "1000    5       2253.49\n",
       "        6      23233.77\n",
       "        7      14003.64\n",
       "        8      14055.93\n",
       "        9      14568.91"
      ]
     },
     "metadata": {},
     "output_type": "display_data"
    }
   ],
   "source": [
    "display(calls_per_month.head(), minutes_per_month.head(), messages_per_month.head(), sessions_per_month.head())"
   ]
  },
  {
   "cell_type": "markdown",
   "id": "4090e37b",
   "metadata": {},
   "source": [
    "**Объединим** все в один датафрейм - `user_stat` и добавим информацию о пользователях."
   ]
  },
  {
   "cell_type": "code",
   "execution_count": 16,
   "id": "2d668205",
   "metadata": {
    "scrolled": true
   },
   "outputs": [
    {
     "data": {
      "text/html": [
       "<div>\n",
       "<style scoped>\n",
       "    .dataframe tbody tr th:only-of-type {\n",
       "        vertical-align: middle;\n",
       "    }\n",
       "\n",
       "    .dataframe tbody tr th {\n",
       "        vertical-align: top;\n",
       "    }\n",
       "\n",
       "    .dataframe thead th {\n",
       "        text-align: right;\n",
       "    }\n",
       "</style>\n",
       "<table border=\"1\" class=\"dataframe\">\n",
       "  <thead>\n",
       "    <tr style=\"text-align: right;\">\n",
       "      <th></th>\n",
       "      <th>user_id</th>\n",
       "      <th>month</th>\n",
       "      <th>calls</th>\n",
       "      <th>messages</th>\n",
       "      <th>mb_used</th>\n",
       "      <th>minutes</th>\n",
       "      <th>age</th>\n",
       "      <th>churn_date</th>\n",
       "      <th>city</th>\n",
       "      <th>first_name</th>\n",
       "      <th>last_name</th>\n",
       "      <th>reg_date</th>\n",
       "      <th>tariff</th>\n",
       "    </tr>\n",
       "  </thead>\n",
       "  <tbody>\n",
       "    <tr>\n",
       "      <th>0</th>\n",
       "      <td>1000</td>\n",
       "      <td>5</td>\n",
       "      <td>22.0</td>\n",
       "      <td>22.0</td>\n",
       "      <td>2253.49</td>\n",
       "      <td>159.0</td>\n",
       "      <td>52</td>\n",
       "      <td>NaT</td>\n",
       "      <td>Краснодар</td>\n",
       "      <td>Рафаил</td>\n",
       "      <td>Верещагин</td>\n",
       "      <td>2018-05-25</td>\n",
       "      <td>ultra</td>\n",
       "    </tr>\n",
       "    <tr>\n",
       "      <th>1</th>\n",
       "      <td>1000</td>\n",
       "      <td>6</td>\n",
       "      <td>43.0</td>\n",
       "      <td>60.0</td>\n",
       "      <td>23233.77</td>\n",
       "      <td>172.0</td>\n",
       "      <td>52</td>\n",
       "      <td>NaT</td>\n",
       "      <td>Краснодар</td>\n",
       "      <td>Рафаил</td>\n",
       "      <td>Верещагин</td>\n",
       "      <td>2018-05-25</td>\n",
       "      <td>ultra</td>\n",
       "    </tr>\n",
       "    <tr>\n",
       "      <th>2</th>\n",
       "      <td>1000</td>\n",
       "      <td>7</td>\n",
       "      <td>47.0</td>\n",
       "      <td>75.0</td>\n",
       "      <td>14003.64</td>\n",
       "      <td>340.0</td>\n",
       "      <td>52</td>\n",
       "      <td>NaT</td>\n",
       "      <td>Краснодар</td>\n",
       "      <td>Рафаил</td>\n",
       "      <td>Верещагин</td>\n",
       "      <td>2018-05-25</td>\n",
       "      <td>ultra</td>\n",
       "    </tr>\n",
       "    <tr>\n",
       "      <th>3</th>\n",
       "      <td>1000</td>\n",
       "      <td>8</td>\n",
       "      <td>52.0</td>\n",
       "      <td>81.0</td>\n",
       "      <td>14055.93</td>\n",
       "      <td>408.0</td>\n",
       "      <td>52</td>\n",
       "      <td>NaT</td>\n",
       "      <td>Краснодар</td>\n",
       "      <td>Рафаил</td>\n",
       "      <td>Верещагин</td>\n",
       "      <td>2018-05-25</td>\n",
       "      <td>ultra</td>\n",
       "    </tr>\n",
       "    <tr>\n",
       "      <th>4</th>\n",
       "      <td>1000</td>\n",
       "      <td>9</td>\n",
       "      <td>58.0</td>\n",
       "      <td>57.0</td>\n",
       "      <td>14568.91</td>\n",
       "      <td>466.0</td>\n",
       "      <td>52</td>\n",
       "      <td>NaT</td>\n",
       "      <td>Краснодар</td>\n",
       "      <td>Рафаил</td>\n",
       "      <td>Верещагин</td>\n",
       "      <td>2018-05-25</td>\n",
       "      <td>ultra</td>\n",
       "    </tr>\n",
       "  </tbody>\n",
       "</table>\n",
       "</div>"
      ],
      "text/plain": [
       "   user_id  month  calls  messages   mb_used  minutes  age churn_date  \\\n",
       "0     1000      5   22.0      22.0   2253.49    159.0   52        NaT   \n",
       "1     1000      6   43.0      60.0  23233.77    172.0   52        NaT   \n",
       "2     1000      7   47.0      75.0  14003.64    340.0   52        NaT   \n",
       "3     1000      8   52.0      81.0  14055.93    408.0   52        NaT   \n",
       "4     1000      9   58.0      57.0  14568.91    466.0   52        NaT   \n",
       "\n",
       "        city first_name  last_name   reg_date tariff  \n",
       "0  Краснодар     Рафаил  Верещагин 2018-05-25  ultra  \n",
       "1  Краснодар     Рафаил  Верещагин 2018-05-25  ultra  \n",
       "2  Краснодар     Рафаил  Верещагин 2018-05-25  ultra  \n",
       "3  Краснодар     Рафаил  Верещагин 2018-05-25  ultra  \n",
       "4  Краснодар     Рафаил  Верещагин 2018-05-25  ultra  "
      ]
     },
     "execution_count": 16,
     "metadata": {},
     "output_type": "execute_result"
    }
   ],
   "source": [
    "user_stat = calls_per_month\\\n",
    "    .merge(messages_per_month, left_index=True, right_index=True, how='outer')\\\n",
    "    .merge(sessions_per_month, left_index=True, right_index=True, how='outer')\\\n",
    "    .merge(minutes_per_month, left_index=True, right_index=True, how='outer')\\\n",
    "    .reset_index()\\\n",
    "    .merge(users, how='left', left_on='user_id', right_on='user_id')\\\n",
    "\n",
    "user_stat.head()"
   ]
  },
  {
   "cell_type": "code",
   "execution_count": 17,
   "id": "150a48fc",
   "metadata": {
    "scrolled": false
   },
   "outputs": [
    {
     "data": {
      "text/plain": [
       "user_id          0\n",
       "month            0\n",
       "calls           40\n",
       "messages       497\n",
       "mb_used         11\n",
       "minutes         40\n",
       "age              0\n",
       "churn_date    3027\n",
       "city             0\n",
       "first_name       0\n",
       "last_name        0\n",
       "reg_date         0\n",
       "tariff           0\n",
       "dtype: int64"
      ]
     },
     "execution_count": 17,
     "metadata": {},
     "output_type": "execute_result"
    }
   ],
   "source": [
    "user_stat.isna().sum()"
   ]
  },
  {
   "cell_type": "markdown",
   "id": "9991bfd7",
   "metadata": {},
   "source": [
    "**Видим**, что образовались пропуски, так как объединяли по методу `outer`. **Заменим** все пропуски на нули."
   ]
  },
  {
   "cell_type": "code",
   "execution_count": 18,
   "id": "c8d62d18",
   "metadata": {},
   "outputs": [],
   "source": [
    "user_stat['calls'] = user_stat['calls'].fillna(0)\n",
    "user_stat['minutes'] = user_stat['minutes'].fillna(0)\n",
    "user_stat['messages'] = user_stat['messages'].fillna(0)\n",
    "user_stat['mb_used'] = user_stat['mb_used'].fillna(0)"
   ]
  },
  {
   "cell_type": "markdown",
   "id": "794c2b40",
   "metadata": {},
   "source": [
    "Также **добавим** информацию о тарифах, но сначала поменяем название столбца, чтобы объединять по нему"
   ]
  },
  {
   "cell_type": "code",
   "execution_count": 19,
   "id": "56ee9d07",
   "metadata": {},
   "outputs": [],
   "source": [
    "tariffs = tariffs.rename(columns={'tariff_name': 'tariff'})"
   ]
  },
  {
   "cell_type": "code",
   "execution_count": 20,
   "id": "7fe8f3fb",
   "metadata": {},
   "outputs": [],
   "source": [
    "user_stat = user_stat.merge(tariffs, on='tariff')"
   ]
  },
  {
   "cell_type": "markdown",
   "id": "0bf91e17",
   "metadata": {},
   "source": [
    "<div class='alert alert-info'><b>\n",
    "    \n",
    "    \n",
    "- Удалили лишний столбец - Unnamed: 0.\n",
    "- Привели столбцы с датами к соответствующему типу данных.\n",
    "- Округлили количество минут вверх, согласно правилам поминутной тарификации. Перевели в тип int.\n",
    "    \n",
    "- Создали датафреймы с количеством совершенных звонков, израсходованных минут разговора, отправленных сообщений, потраченных мегабайт, сгруппированые по пользователям и месяцам. Объединили в один датафрейм, добавили информацию о пользователях и тарифах. Заменили образовавшиеся пропуски на нули.\n",
    "</b></div>"
   ]
  },
  {
   "cell_type": "markdown",
   "id": "ae84f266",
   "metadata": {},
   "source": [
    "## Исследовательский анализ данных"
   ]
  },
  {
   "cell_type": "markdown",
   "id": "265f3b98",
   "metadata": {},
   "source": [
    "### Помесячная выручка"
   ]
  },
  {
   "cell_type": "markdown",
   "id": "7f223715",
   "metadata": {},
   "source": [
    "**Посчитаем** количество минут разговора, сообщений и мегабайт, превышающих включённые в тариф, а неизрасходованным присвоим нулевое значение"
   ]
  },
  {
   "cell_type": "code",
   "execution_count": 21,
   "id": "e63aafd8",
   "metadata": {},
   "outputs": [],
   "source": [
    "user_stat['paid_minutes'] = user_stat['minutes'] - user_stat['minutes_included']\n",
    "user_stat['paid_messages'] = user_stat['messages'] - user_stat['messages_included']\n",
    "user_stat['paid_mb'] = user_stat['mb_used'] - user_stat['mb_per_month_included']\n",
    "\n",
    "for col in ['paid_messages', 'paid_minutes', 'paid_mb']:\n",
    "    user_stat.loc[user_stat[col] < 0, col] = 0"
   ]
  },
  {
   "cell_type": "markdown",
   "id": "ec06d1fa",
   "metadata": {},
   "source": [
    "**Переведем** превышающие тариф мегабайты в гигабайты и сохраним в столбец `paid_gb`. Так как \"Мегалайн\" округляет трафик вверх, округлим значения и переведем в тип int"
   ]
  },
  {
   "cell_type": "code",
   "execution_count": 22,
   "id": "d0147518",
   "metadata": {},
   "outputs": [],
   "source": [
    "user_stat['paid_gb'] = np.ceil(user_stat['paid_mb'] / 1024).astype(int)"
   ]
  },
  {
   "cell_type": "markdown",
   "id": "98781133",
   "metadata": {},
   "source": [
    "**Посчитаем** выручку за минуты разговора, сообщения и интернет"
   ]
  },
  {
   "cell_type": "code",
   "execution_count": 23,
   "id": "e04600d7",
   "metadata": {},
   "outputs": [],
   "source": [
    "user_stat['cost_minutes'] = user_stat['paid_minutes'] * user_stat['rub_per_minute']\n",
    "user_stat['cost_messages'] = user_stat['paid_messages'] * user_stat['rub_per_message']\n",
    "user_stat['cost_gb'] = user_stat['paid_gb'] * user_stat['rub_per_gb']"
   ]
  },
  {
   "cell_type": "markdown",
   "id": "5b4b71ea",
   "metadata": {},
   "source": [
    "**Посчитаем** помесячную выручку с каждого пользователя, она будет храниться в столбце `total_cost`"
   ]
  },
  {
   "cell_type": "code",
   "execution_count": 24,
   "id": "0bf4b465",
   "metadata": {},
   "outputs": [],
   "source": [
    "user_stat['total_cost'] = \\\n",
    "      user_stat['rub_monthly_fee']\\\n",
    "    + user_stat['cost_minutes']\\\n",
    "    + user_stat['cost_messages']\\\n",
    "    + user_stat['cost_gb']"
   ]
  },
  {
   "cell_type": "markdown",
   "id": "35f00183",
   "metadata": {},
   "source": [
    "**Создадим** датафрейм `stats_df` со статистическими метриками (среднее значение, стандартное отклонение, медиана), сгруппированными по месяцам и тарифам."
   ]
  },
  {
   "cell_type": "code",
   "execution_count": 25,
   "id": "7687fc1b",
   "metadata": {
    "scrolled": true
   },
   "outputs": [
    {
     "data": {
      "text/html": [
       "<div>\n",
       "<style scoped>\n",
       "    .dataframe tbody tr th:only-of-type {\n",
       "        vertical-align: middle;\n",
       "    }\n",
       "\n",
       "    .dataframe tbody tr th {\n",
       "        vertical-align: top;\n",
       "    }\n",
       "\n",
       "    .dataframe thead th {\n",
       "        text-align: right;\n",
       "    }\n",
       "</style>\n",
       "<table border=\"1\" class=\"dataframe\">\n",
       "  <thead>\n",
       "    <tr style=\"text-align: right;\">\n",
       "      <th></th>\n",
       "      <th>month</th>\n",
       "      <th>tariff</th>\n",
       "      <th>calls_mean</th>\n",
       "      <th>sessions_mean</th>\n",
       "      <th>messages_mean</th>\n",
       "      <th>minutes_mean</th>\n",
       "      <th>calls_std</th>\n",
       "      <th>sessions_std</th>\n",
       "      <th>messages_std</th>\n",
       "      <th>minutes_std</th>\n",
       "      <th>calls_median</th>\n",
       "      <th>sessions_median</th>\n",
       "      <th>messages_median</th>\n",
       "      <th>minutes_median</th>\n",
       "    </tr>\n",
       "  </thead>\n",
       "  <tbody>\n",
       "    <tr>\n",
       "      <th>0</th>\n",
       "      <td>1</td>\n",
       "      <td>smart</td>\n",
       "      <td>27.68</td>\n",
       "      <td>8513.72</td>\n",
       "      <td>18.24</td>\n",
       "      <td>203.85</td>\n",
       "      <td>20.81</td>\n",
       "      <td>6444.68</td>\n",
       "      <td>16.20</td>\n",
       "      <td>154.23</td>\n",
       "      <td>20.5</td>\n",
       "      <td>7096.18</td>\n",
       "      <td>15.0</td>\n",
       "      <td>162.5</td>\n",
       "    </tr>\n",
       "    <tr>\n",
       "      <th>1</th>\n",
       "      <td>1</td>\n",
       "      <td>ultra</td>\n",
       "      <td>59.44</td>\n",
       "      <td>13140.68</td>\n",
       "      <td>33.78</td>\n",
       "      <td>428.11</td>\n",
       "      <td>41.64</td>\n",
       "      <td>6865.35</td>\n",
       "      <td>30.67</td>\n",
       "      <td>269.76</td>\n",
       "      <td>51.0</td>\n",
       "      <td>14791.37</td>\n",
       "      <td>32.0</td>\n",
       "      <td>382.0</td>\n",
       "    </tr>\n",
       "    <tr>\n",
       "      <th>2</th>\n",
       "      <td>2</td>\n",
       "      <td>smart</td>\n",
       "      <td>40.19</td>\n",
       "      <td>11597.05</td>\n",
       "      <td>24.09</td>\n",
       "      <td>298.69</td>\n",
       "      <td>25.39</td>\n",
       "      <td>6247.35</td>\n",
       "      <td>21.75</td>\n",
       "      <td>190.82</td>\n",
       "      <td>38.5</td>\n",
       "      <td>12553.71</td>\n",
       "      <td>20.0</td>\n",
       "      <td>258.0</td>\n",
       "    </tr>\n",
       "    <tr>\n",
       "      <th>3</th>\n",
       "      <td>2</td>\n",
       "      <td>ultra</td>\n",
       "      <td>41.54</td>\n",
       "      <td>11775.94</td>\n",
       "      <td>21.96</td>\n",
       "      <td>297.12</td>\n",
       "      <td>40.97</td>\n",
       "      <td>10644.64</td>\n",
       "      <td>26.77</td>\n",
       "      <td>296.51</td>\n",
       "      <td>25.0</td>\n",
       "      <td>7327.12</td>\n",
       "      <td>5.5</td>\n",
       "      <td>168.0</td>\n",
       "    </tr>\n",
       "    <tr>\n",
       "      <th>4</th>\n",
       "      <td>3</td>\n",
       "      <td>smart</td>\n",
       "      <td>54.32</td>\n",
       "      <td>15104.16</td>\n",
       "      <td>31.86</td>\n",
       "      <td>390.05</td>\n",
       "      <td>25.54</td>\n",
       "      <td>5828.24</td>\n",
       "      <td>26.80</td>\n",
       "      <td>191.89</td>\n",
       "      <td>59.0</td>\n",
       "      <td>15670.25</td>\n",
       "      <td>23.0</td>\n",
       "      <td>409.0</td>\n",
       "    </tr>\n",
       "  </tbody>\n",
       "</table>\n",
       "</div>"
      ],
      "text/plain": [
       "   month tariff  calls_mean  sessions_mean  messages_mean  minutes_mean  \\\n",
       "0      1  smart       27.68        8513.72          18.24        203.85   \n",
       "1      1  ultra       59.44       13140.68          33.78        428.11   \n",
       "2      2  smart       40.19       11597.05          24.09        298.69   \n",
       "3      2  ultra       41.54       11775.94          21.96        297.12   \n",
       "4      3  smart       54.32       15104.16          31.86        390.05   \n",
       "\n",
       "   calls_std  sessions_std  messages_std  minutes_std  calls_median  \\\n",
       "0      20.81       6444.68         16.20       154.23          20.5   \n",
       "1      41.64       6865.35         30.67       269.76          51.0   \n",
       "2      25.39       6247.35         21.75       190.82          38.5   \n",
       "3      40.97      10644.64         26.77       296.51          25.0   \n",
       "4      25.54       5828.24         26.80       191.89          59.0   \n",
       "\n",
       "   sessions_median  messages_median  minutes_median  \n",
       "0          7096.18             15.0           162.5  \n",
       "1         14791.37             32.0           382.0  \n",
       "2         12553.71             20.0           258.0  \n",
       "3          7327.12              5.5           168.0  \n",
       "4         15670.25             23.0           409.0  "
      ]
     },
     "execution_count": 25,
     "metadata": {},
     "output_type": "execute_result"
    }
   ],
   "source": [
    "stats_df = user_stat.pivot_table(\n",
    "            index=['month', 'tariff'],\\\n",
    "            values=['calls', 'minutes', 'messages', 'mb_used'],\\\n",
    "            aggfunc=['mean', 'std', 'median']\\\n",
    ").round(2).reset_index()\n",
    "\n",
    "stats_df.columns=['month', 'tariff', 'calls_mean', 'sessions_mean', 'messages_mean', 'minutes_mean',\n",
    "                                     'calls_std',  'sessions_std', 'messages_std', 'minutes_std', \n",
    "                                     'calls_median', 'sessions_median', 'messages_median',  'minutes_median']\n",
    "\n",
    "stats_df.head()"
   ]
  },
  {
   "cell_type": "markdown",
   "id": "df649ca6",
   "metadata": {},
   "source": [
    "### Визуализация"
   ]
  },
  {
   "cell_type": "markdown",
   "id": "816730de",
   "metadata": {},
   "source": [
    "**Создадим** диаграмму с распределением среднего *количества звонков* по видам тарифов и месяцам"
   ]
  },
  {
   "cell_type": "code",
   "execution_count": 26,
   "id": "9243f544",
   "metadata": {
    "scrolled": false
   },
   "outputs": [
    {
     "data": {
      "image/png": "[encoded data removed]",
      "text/plain": [
       "<Figure size 640x480 with 1 Axes>"
      ]
     },
     "metadata": {},
     "output_type": "display_data"
    }
   ],
   "source": [
    "ax = sns.barplot(data=stats_df,\n",
    "                 x='month',\n",
    "                 y='calls_mean',\n",
    "                 hue=\"tariff\",\n",
    "                 palette=['aqua', 'mediumblue'])\n",
    "\n",
    "ax.set_title('Распределение среднего количества звонков по видам тарифов и месяцам')\n",
    "ax.set(xlabel='Номер месяца', ylabel='Среднее количество звонков');"
   ]
  },
  {
   "cell_type": "code",
   "execution_count": 27,
   "id": "42514d1d",
   "metadata": {
    "scrolled": false
   },
   "outputs": [
    {
     "data": {
      "image/png": "[encoded data removed]",
      "text/plain": [
       "<Figure size 640x480 with 1 Axes>"
      ]
     },
     "metadata": {},
     "output_type": "display_data"
    }
   ],
   "source": [
    "# Гистограмма количества звонков по тарифам\n",
    "ax = sns.histplot(user_stat,\n",
    "                  x='calls', \n",
    "                  hue='tariff', \n",
    "                  element='poly', \n",
    "                  palette='ocean')\n",
    "\n",
    "ax.set_title('Сравнение по тарифам')\n",
    "ax.set(xlabel='Количество звонков', ylabel='Количество абонентов')\n",
    "ax.axvline(user_stat['calls'].mean(), color='r', ls='--', lw=2)\n",
    "ax.axvline(user_stat['calls'].median(), color='b')\n",
    "ax.legend(['Smart', 'Ultra', 'Среднее', 'Медиана']);"
   ]
  },
  {
   "cell_type": "markdown",
   "id": "fab76ecb",
   "metadata": {},
   "source": [
    "**Создадим** диаграмму с распределением средней *продолжительности звонков* по видам тарифов и месяцам"
   ]
  },
  {
   "cell_type": "code",
   "execution_count": 28,
   "id": "3a6c39f4",
   "metadata": {
    "scrolled": false
   },
   "outputs": [
    {
     "data": {
      "image/png": "[encoded data removed]",
      "text/plain": [
       "<Figure size 640x480 with 1 Axes>"
      ]
     },
     "metadata": {},
     "output_type": "display_data"
    }
   ],
   "source": [
    "ax = sns.barplot(data=stats_df,\n",
    "                 x='month',\n",
    "                 y='minutes_mean',\n",
    "                 hue=\"tariff\",\n",
    "                 palette=['aqua', 'mediumblue'])\n",
    "\n",
    "ax.set_title('Распределение средней продолжительности звонков по видам тарифов и месяцам')\n",
    "ax.set(xlabel='Номер месяца', ylabel='Средняя продолжительность звонков');"
   ]
  },
  {
   "cell_type": "code",
   "execution_count": 29,
   "id": "c778fa82",
   "metadata": {},
   "outputs": [
    {
     "data": {
      "image/png": "[encoded data removed]",
      "text/plain": [
       "<Figure size 640x480 with 1 Axes>"
      ]
     },
     "metadata": {},
     "output_type": "display_data"
    }
   ],
   "source": [
    "# Гистограмма продолжительности звонков по тарифам\n",
    "ax = sns.histplot(user_stat,\n",
    "                  x='minutes', \n",
    "                  hue='tariff', \n",
    "                  element='poly', \n",
    "                  palette='ocean')\n",
    "\n",
    "ax.set_title('Сравнение по тарифам')\n",
    "ax.set(xlabel='Продолжительность звонков в минутах', ylabel='Количество абонентов')\n",
    "ax.axvline(user_stat['minutes'].mean(), color='r', ls='--', lw=2)\n",
    "ax.axvline(user_stat['minutes'].median(), color='b')\n",
    "ax.legend(['Smart', 'Ultra', 'Среднее', 'Медиана']);"
   ]
  },
  {
   "cell_type": "markdown",
   "id": "5c73079c",
   "metadata": {},
   "source": [
    "- Среднее количество звонков, как и продолжительность разговоров, у абонентов тарифа `Ultra` больше, чем у абонентов тарифа `Smart`. \n",
    "- В течение года у пользователей обоих тарифов увеличивается количество и продолжительность разговоров.\n",
    "- У пользователей тарифа `Ultra` рост нелинейный. Самые низкие показатели в феврале.\n",
    "- Рост показателей у абонентов тарифа `Smart` равномерный в течение года, с небольшим всплеском в марте. Самые низкие показатели в январе.\n",
    "\n",
    "---"
   ]
  },
  {
   "cell_type": "markdown",
   "id": "270c815f",
   "metadata": {},
   "source": [
    "**Создадим** диаграмму с распределением среднего количества сообщений по видам тарифов и месяцам"
   ]
  },
  {
   "cell_type": "code",
   "execution_count": 30,
   "id": "9e1c639b",
   "metadata": {
    "scrolled": false
   },
   "outputs": [
    {
     "data": {
      "image/png": "[encoded data removed]",
      "text/plain": [
       "<Figure size 640x480 with 1 Axes>"
      ]
     },
     "metadata": {},
     "output_type": "display_data"
    }
   ],
   "source": [
    "ax = sns.barplot(data=stats_df,\n",
    "                 x='month',\n",
    "                 y='messages_mean',\n",
    "                 hue=\"tariff\",\n",
    "                 palette=['greenyellow', 'green'])\n",
    "\n",
    "ax.set_title('Распределение среднего количества сообщений по видам тарифов и месяцам')\n",
    "ax.set(xlabel='Номер месяца', ylabel='Среднее количество сообщений');"
   ]
  },
  {
   "cell_type": "code",
   "execution_count": 31,
   "id": "9c25a683",
   "metadata": {},
   "outputs": [
    {
     "data": {
      "image/png": "[encoded data removed]",
      "text/plain": [
       "<Figure size 640x480 with 1 Axes>"
      ]
     },
     "metadata": {},
     "output_type": "display_data"
    }
   ],
   "source": [
    "# Гистограмма количества сообщений по тарифам\n",
    "ax = sns.histplot(user_stat,\n",
    "                  x='messages', \n",
    "                  hue='tariff', \n",
    "                  element='poly', \n",
    "                  palette=['lime', 'darkgreen'])\n",
    "\n",
    "ax.set_title('Сравнение по тарифам')\n",
    "ax.set(xlabel='Количество сообщений', ylabel='Количество абонентов')\n",
    "ax.axvline(user_stat['messages'].mean(), color='r', ls='--')\n",
    "ax.axvline(user_stat['messages'].median(), color='b')\n",
    "ax.legend(['Smart', 'Ultra', 'Среднее', 'Медиана']);"
   ]
  },
  {
   "cell_type": "markdown",
   "id": "2b488fa3",
   "metadata": {},
   "source": [
    "- В среднем пользователи тарифа `Ultra` отправляют больше сообщений, чем пользователи тарифа `Smart`.\n",
    "- Количество сообщений у пользователей тарифа `Ultra` растет в течение года нелинейно. Самый низкий показатель в феврале.\n",
    "- Количество сообщений у пользователей тарифа `Smart` растет с января по март, далее наблюдается практически одинаковое количество по месяцам. Самый низкий показатель в январе.\n",
    "\n",
    "---"
   ]
  },
  {
   "cell_type": "markdown",
   "id": "4575ad21",
   "metadata": {},
   "source": [
    "**Создадим** диаграмму с распределением среднего количества потраченного трафика в мегабайтах по видам тарифов и месяцам"
   ]
  },
  {
   "cell_type": "code",
   "execution_count": 32,
   "id": "55a5061e",
   "metadata": {
    "scrolled": true
   },
   "outputs": [
    {
     "data": {
      "image/png": "[encoded data removed]",
      "text/plain": [
       "<Figure size 640x480 with 1 Axes>"
      ]
     },
     "metadata": {},
     "output_type": "display_data"
    }
   ],
   "source": [
    "ax = sns.barplot(data=stats_df,\n",
    "                 x='month',\n",
    "                 y='sessions_mean',\n",
    "                 hue='tariff',\n",
    "                 palette=['yellow', 'darkorange'])\n",
    "\n",
    "ax.set_title('Распределение среднего количества потраченного трафика (Мб) по видам тарифов и месяцам')\n",
    "ax.set(xlabel='Номер месяца', ylabel='Среднее количество мегабайт');"
   ]
  },
  {
   "cell_type": "code",
   "execution_count": 33,
   "id": "393ac01a",
   "metadata": {
    "scrolled": false
   },
   "outputs": [
    {
     "data": {
      "image/png": "[encoded data removed]",
      "text/plain": [
       "<Figure size 640x480 with 1 Axes>"
      ]
     },
     "metadata": {},
     "output_type": "display_data"
    }
   ],
   "source": [
    "# Гистограмма потраченного трафика в мегабайтах по тарифам\n",
    "ax = sns.histplot(user_stat,\n",
    "                  x='mb_used', \n",
    "                  hue='tariff', \n",
    "                  element='poly', \n",
    "                  palette=['y', 'darkorange'])\n",
    "\n",
    "ax.set_title('Сравнение по тарифам')\n",
    "ax.set(xlabel='Количество Мб', ylabel='Количество абонентов')\n",
    "ax.axvline(user_stat['mb_used'].mean(), color='r', ls='--', lw=2)\n",
    "ax.axvline(user_stat['mb_used'].median(), color='b')\n",
    "ax.legend(['Smart', 'Ultra', 'Среднее', 'Медиана']);"
   ]
  },
  {
   "cell_type": "markdown",
   "id": "925b3217",
   "metadata": {},
   "source": [
    "- В среднем пользователи тарифа `Ultra` расходуют больше Мб трафика, чем пользователи тарифа `Smart`.\n",
    "- Количество Мб трафика у пользователей тарифа `Ultra` растет в течение года нелинейно. Самый низкий показатель в феврале.\n",
    "- Количество Мб трафика у пользователей тарифа `Smart` растет с января по март, далее наблюдается небольшой спад в апреле и снова плавный, незначительный рост до конца года. Самый низкий показатель в январе.\n",
    "\n",
    "---"
   ]
  },
  {
   "cell_type": "markdown",
   "id": "85490e89",
   "metadata": {},
   "source": [
    "### Метрики"
   ]
  },
  {
   "cell_type": "markdown",
   "id": "981a5ffd",
   "metadata": {},
   "source": [
    "**Посчитаем** коэффициент оттока (CR) в процентах"
   ]
  },
  {
   "cell_type": "code",
   "execution_count": 34,
   "id": "da7b4d85",
   "metadata": {
    "scrolled": false
   },
   "outputs": [
    {
     "data": {
      "text/plain": [
       "7.6"
      ]
     },
     "execution_count": 34,
     "metadata": {},
     "output_type": "execute_result"
    }
   ],
   "source": [
    "users['churn_date'].count() / users['churn_date'].shape[0] * 100  # Общий"
   ]
  },
  {
   "cell_type": "code",
   "execution_count": 35,
   "id": "1a9ba774",
   "metadata": {},
   "outputs": [
    {
     "data": {
      "text/plain": [
       "3.0"
      ]
     },
     "execution_count": 35,
     "metadata": {},
     "output_type": "execute_result"
    }
   ],
   "source": [
    "users[users['tariff'] == 'ultra']['churn_date'].count() / users['churn_date'].shape[0] * 100  # Для тарифа \"Ultra\""
   ]
  },
  {
   "cell_type": "code",
   "execution_count": 36,
   "id": "c8553728",
   "metadata": {},
   "outputs": [
    {
     "data": {
      "text/plain": [
       "4.6"
      ]
     },
     "execution_count": 36,
     "metadata": {},
     "output_type": "execute_result"
    }
   ],
   "source": [
    "users[users['tariff'] == 'smart']['churn_date'].count() / users['churn_date'].shape[0] * 100  # Для тарифа \"Smart\""
   ]
  },
  {
   "cell_type": "code",
   "execution_count": 37,
   "id": "8a3c36e3",
   "metadata": {
    "scrolled": true
   },
   "outputs": [
    {
     "data": {
      "text/plain": [
       "1.8"
      ]
     },
     "execution_count": 37,
     "metadata": {},
     "output_type": "execute_result"
    }
   ],
   "source": [
    "round(users[users['city'] == 'Москва']['churn_date'].count() / users['churn_date'].shape[0] * 100, 1)  # Для Москвы"
   ]
  },
  {
   "cell_type": "code",
   "execution_count": 38,
   "id": "ae3afcaa",
   "metadata": {},
   "outputs": [
    {
     "data": {
      "text/plain": [
       "5.8"
      ]
     },
     "execution_count": 38,
     "metadata": {},
     "output_type": "execute_result"
    }
   ],
   "source": [
    "round(users[users['city'] != 'Москва']['churn_date'].count() / users['churn_date'].shape[0] * 100, 1)  # Для других регионов"
   ]
  },
  {
   "cell_type": "markdown",
   "id": "8737b87d",
   "metadata": {},
   "source": [
    "**Посчитаем** среднюю выручку на каждого пользователя (ARPU)"
   ]
  },
  {
   "cell_type": "code",
   "execution_count": 39,
   "id": "1330711e",
   "metadata": {},
   "outputs": [
    {
     "data": {
      "text/plain": [
       "1550.8777635071303"
      ]
     },
     "execution_count": 39,
     "metadata": {},
     "output_type": "execute_result"
    }
   ],
   "source": [
    "(user_stat.groupby('user_id')['total_cost'].sum()/\n",
    "user_stat.groupby('user_id')['month'].count()).mean()  # Общая"
   ]
  },
  {
   "cell_type": "code",
   "execution_count": 40,
   "id": "3e7d3eba",
   "metadata": {
    "scrolled": true
   },
   "outputs": [
    {
     "data": {
      "text/plain": [
       "2086.4646586521594"
      ]
     },
     "execution_count": 40,
     "metadata": {},
     "output_type": "execute_result"
    }
   ],
   "source": [
    "(user_stat.query('tariff == \"ultra\"').groupby('user_id')['total_cost'].sum()/\n",
    "user_stat.groupby('user_id')['month'].count()).mean()  # ARPU пользователей тарифа \"Ultra\""
   ]
  },
  {
   "cell_type": "code",
   "execution_count": 41,
   "id": "1089e2b9",
   "metadata": {
    "scrolled": true
   },
   "outputs": [
    {
     "data": {
      "text/plain": [
       "1324.4010192743758"
      ]
     },
     "execution_count": 41,
     "metadata": {},
     "output_type": "execute_result"
    }
   ],
   "source": [
    "(user_stat.query('tariff == \"smart\"').groupby('user_id')['total_cost'].sum()/\n",
    "user_stat.groupby('user_id')['month'].count()).mean()  # ARPU пользователей тарифа \"Smart\""
   ]
  },
  {
   "cell_type": "code",
   "execution_count": 42,
   "id": "964026ae",
   "metadata": {},
   "outputs": [
    {
     "data": {
      "text/plain": [
       "1498.465851152215"
      ]
     },
     "execution_count": 42,
     "metadata": {},
     "output_type": "execute_result"
    }
   ],
   "source": [
    "(user_stat.query('city == \"Москва\"').groupby('user_id')['total_cost'].sum()/\n",
    "user_stat.groupby('user_id')['month'].count()).mean()  # ARPU пользователей из Москвы"
   ]
  },
  {
   "cell_type": "code",
   "execution_count": 43,
   "id": "2d9d1cb3",
   "metadata": {
    "scrolled": true
   },
   "outputs": [
    {
     "data": {
      "text/plain": [
       "1563.8822229636137"
      ]
     },
     "execution_count": 43,
     "metadata": {},
     "output_type": "execute_result"
    }
   ],
   "source": [
    "(user_stat.query('city != \"Москва\"').groupby('user_id')['total_cost'].sum()/\n",
    "user_stat.groupby('user_id')['month'].count()).mean()  # ARPU пользователей из других регионов"
   ]
  },
  {
   "cell_type": "markdown",
   "id": "61cfa9ad",
   "metadata": {},
   "source": [
    "**Посмотрим** на срез данных по тарифам со средним и медианой по количеству звонков, смс, Мб и минут."
   ]
  },
  {
   "cell_type": "code",
   "execution_count": 44,
   "id": "814b5878",
   "metadata": {},
   "outputs": [
    {
     "data": {
      "text/html": [
       "<div>\n",
       "<style scoped>\n",
       "    .dataframe tbody tr th:only-of-type {\n",
       "        vertical-align: middle;\n",
       "    }\n",
       "\n",
       "    .dataframe tbody tr th {\n",
       "        vertical-align: top;\n",
       "    }\n",
       "\n",
       "    .dataframe thead th {\n",
       "        text-align: right;\n",
       "    }\n",
       "</style>\n",
       "<table border=\"1\" class=\"dataframe\">\n",
       "  <thead>\n",
       "    <tr style=\"text-align: right;\">\n",
       "      <th></th>\n",
       "      <th>mean</th>\n",
       "      <th>50%</th>\n",
       "    </tr>\n",
       "  </thead>\n",
       "  <tbody>\n",
       "    <tr>\n",
       "      <th>calls</th>\n",
       "      <td>58.463437</td>\n",
       "      <td>60.00</td>\n",
       "    </tr>\n",
       "    <tr>\n",
       "      <th>messages</th>\n",
       "      <td>33.384029</td>\n",
       "      <td>28.00</td>\n",
       "    </tr>\n",
       "    <tr>\n",
       "      <th>mb_used</th>\n",
       "      <td>16208.386990</td>\n",
       "      <td>16506.84</td>\n",
       "    </tr>\n",
       "    <tr>\n",
       "      <th>minutes</th>\n",
       "      <td>417.934948</td>\n",
       "      <td>422.00</td>\n",
       "    </tr>\n",
       "  </tbody>\n",
       "</table>\n",
       "</div>"
      ],
      "text/plain": [
       "                  mean       50%\n",
       "calls        58.463437     60.00\n",
       "messages     33.384029     28.00\n",
       "mb_used   16208.386990  16506.84\n",
       "minutes     417.934948    422.00"
      ]
     },
     "metadata": {},
     "output_type": "display_data"
    },
    {
     "data": {
      "text/html": [
       "<div>\n",
       "<style scoped>\n",
       "    .dataframe tbody tr th:only-of-type {\n",
       "        vertical-align: middle;\n",
       "    }\n",
       "\n",
       "    .dataframe tbody tr th {\n",
       "        vertical-align: top;\n",
       "    }\n",
       "\n",
       "    .dataframe thead th {\n",
       "        text-align: right;\n",
       "    }\n",
       "</style>\n",
       "<table border=\"1\" class=\"dataframe\">\n",
       "  <thead>\n",
       "    <tr style=\"text-align: right;\">\n",
       "      <th></th>\n",
       "      <th>mean</th>\n",
       "      <th>50%</th>\n",
       "    </tr>\n",
       "  </thead>\n",
       "  <tbody>\n",
       "    <tr>\n",
       "      <th>calls</th>\n",
       "      <td>73.392893</td>\n",
       "      <td>74.00</td>\n",
       "    </tr>\n",
       "    <tr>\n",
       "      <th>messages</th>\n",
       "      <td>49.363452</td>\n",
       "      <td>38.00</td>\n",
       "    </tr>\n",
       "    <tr>\n",
       "      <th>mb_used</th>\n",
       "      <td>19468.805208</td>\n",
       "      <td>19308.01</td>\n",
       "    </tr>\n",
       "    <tr>\n",
       "      <th>minutes</th>\n",
       "      <td>526.623350</td>\n",
       "      <td>518.00</td>\n",
       "    </tr>\n",
       "  </tbody>\n",
       "</table>\n",
       "</div>"
      ],
      "text/plain": [
       "                  mean       50%\n",
       "calls        73.392893     74.00\n",
       "messages     49.363452     38.00\n",
       "mb_used   19468.805208  19308.01\n",
       "minutes     526.623350    518.00"
      ]
     },
     "metadata": {},
     "output_type": "display_data"
    }
   ],
   "source": [
    "display(user_stat.loc[user_stat['tariff'] == 'smart'].describe().T[['mean', '50%']][2:6],\n",
    "user_stat.loc[user_stat['tariff'] == 'ultra'].describe().T[['mean', '50%']][2:6])"
   ]
  },
  {
   "cell_type": "markdown",
   "id": "49e1c262",
   "metadata": {},
   "source": [
    "<div class='alert alert-info'><b> <a id='info'></a>\n",
    "    \n",
    "    \n",
    "- В среднем пользователи тарифа \"Ultra\" совершают больше звонков, расходуют больше минут, Мб и смс, чем пользователи тарифа \"Smart\". Логично, ведь пакет подключенных услуг у них больше.\n",
    "- В течение года у пользователей тарифа \"Ultra\" нелинейно увеличивается количество звонков, продолжительность разговоров, количество сообщений и мегабайт трафика. Самые низкие показатели по всем параметрам в феврале.\n",
    "- У пользователей тарифа \"Smart\" в течение года также наблюдается рост количества звонков, продолжительности разговоров и мегабайт трафика, но линейный с небольшим всплеском в марте. Количество сообщений растет с января по март, далее практически одинаковое количество по месяцам. Самые низкие показатели по всем параметрам в январе.\n",
    "</b></div>"
   ]
  },
  {
   "cell_type": "markdown",
   "id": "876daa51",
   "metadata": {},
   "source": [
    "\"Ultra\" | Среднее | Медиана \n",
    "--- | --- | --- \n",
    "Звонки | 73 | 74\n",
    "Минуты | 527 | 518\n",
    "Сообщения | 49 | 38\n",
    "Мегабайты | 19469 | 19308\n",
    "\n",
    "\n",
    "\"Smart\" | Среднее | Медиана\n",
    "--- | --- | ---\n",
    "Звонки | 58 | 60\n",
    "Минуты | 418 | 422\n",
    "Сообщения | 33 | 28\n",
    "Мегабайты | 16208 | 16506"
   ]
  },
  {
   "cell_type": "markdown",
   "id": "d24a34ec",
   "metadata": {},
   "source": [
    "## Проверка гипотез"
   ]
  },
  {
   "cell_type": "markdown",
   "id": "f5ed841c",
   "metadata": {},
   "source": [
    "### Первая гипотеза"
   ]
  },
  {
   "cell_type": "markdown",
   "id": "953ba467",
   "metadata": {},
   "source": [
    "**Проверка гипотезы:** средняя выручка пользователей тарифов \"Ультра\" и \"Смарт\" различается.\n",
    "\n",
    "```\n",
    "H_0: Выручка (total_cost) пользователей \"Ультра\" = выручка (total_cost) пользователей \"Смарт\"\n",
    "H_a: Выручка (total_cost) пользователей \"Ультра\" ≠ выручка (total_cost) пользователей \"Смарт\"\n",
    "alpha = 0.05\n",
    "```"
   ]
  },
  {
   "cell_type": "markdown",
   "id": "442a8b4b",
   "metadata": {},
   "source": [
    "**Применим** `t-test` для сравнения двух выборок по выручке, но сначала взгянем на `размер`, `дисперсию`, `среднее` и проверим выборочное распределение на нормальность тестом Шапиро-Уилка."
   ]
  },
  {
   "cell_type": "code",
   "execution_count": 45,
   "id": "6a275b4d",
   "metadata": {
    "scrolled": true
   },
   "outputs": [
    {
     "data": {
      "text/plain": [
       "2229"
      ]
     },
     "metadata": {},
     "output_type": "display_data"
    },
    {
     "data": {
      "text/plain": [
       "985"
      ]
     },
     "metadata": {},
     "output_type": "display_data"
    }
   ],
   "source": [
    "display(user_stat[user_stat['tariff'] == 'smart']['total_cost'].count(),  # Размер\n",
    "user_stat[user_stat['tariff'] == 'ultra']['total_cost'].count())"
   ]
  },
  {
   "cell_type": "code",
   "execution_count": 46,
   "id": "382bdcc5",
   "metadata": {
    "scrolled": true
   },
   "outputs": [
    {
     "data": {
      "text/plain": [
       "669485.2209234155"
      ]
     },
     "metadata": {},
     "output_type": "display_data"
    },
    {
     "data": {
      "text/plain": [
       "141373.07325620216"
      ]
     },
     "metadata": {},
     "output_type": "display_data"
    }
   ],
   "source": [
    "display(np.var(user_stat[user_stat['tariff'] == 'smart']['total_cost']),  # Дисперсия\n",
    "np.var(user_stat[user_stat['tariff'] == 'ultra']['total_cost']))"
   ]
  },
  {
   "cell_type": "code",
   "execution_count": 47,
   "id": "eb2fe19c",
   "metadata": {
    "scrolled": true
   },
   "outputs": [
    {
     "data": {
      "text/plain": [
       "1289.9735307312696"
      ]
     },
     "metadata": {},
     "output_type": "display_data"
    },
    {
     "data": {
      "text/plain": [
       "2070.1522842639592"
      ]
     },
     "metadata": {},
     "output_type": "display_data"
    }
   ],
   "source": [
    "display(user_stat[user_stat['tariff'] == 'smart']['total_cost'].mean(),  # Среднее\n",
    "user_stat[user_stat['tariff'] == 'ultra']['total_cost'].mean())"
   ]
  },
  {
   "cell_type": "code",
   "execution_count": 55,
   "id": "547a7f41",
   "metadata": {
    "scrolled": true
   },
   "outputs": [
    {
     "name": "stdout",
     "output_type": "stream",
     "text": [
      "Шапиро p-value = 0.37407946586608887\n"
     ]
    },
    {
     "data": {
      "image/png": "[encoded data removed]",
      "text/plain": [
       "<Figure size 640x480 with 1 Axes>"
      ]
     },
     "metadata": {},
     "output_type": "display_data"
    },
    {
     "name": "stdout",
     "output_type": "stream",
     "text": [
      "Шапиро p-value = 0.2558569312095642\n"
     ]
    },
    {
     "data": {
      "image/png": "[encoded data removed]",
      "text/plain": [
       "<Figure size 640x480 with 1 Axes>"
      ]
     },
     "metadata": {},
     "output_type": "display_data"
    }
   ],
   "source": [
    "lst = []\n",
    "for i in range(1000):\n",
    "    lst.append(user_stat.query('tariff == \"smart\"')['total_cost']\\\n",
    "                        .sample(2200, replace=True).mean())\n",
    "        \n",
    "print(f'Шапиро p-value = {st.shapiro(lst).pvalue}')\n",
    "sns.histplot(lst)\n",
    "plt.title('smart')\n",
    "plt.show()\n",
    "    \n",
    "    \n",
    "lst = []\n",
    "for i in range(1000):\n",
    "    lst.append(user_stat.query('tariff == \"ultra\"')['total_cost']\\\n",
    "                        .sample(980, replace=True).mean())\n",
    "        \n",
    "print(f'Шапиро p-value = {st.shapiro(lst).pvalue}')\n",
    "sns.histplot(lst)\n",
    "plt.title('ultra')\n",
    "plt.show()"
   ]
  },
  {
   "cell_type": "markdown",
   "id": "d3db57c9",
   "metadata": {},
   "source": [
    "Наблюдаем разницу по всем параметрам. Нормальность выборочного распределения подтверждена.\n",
    "\n",
    "---"
   ]
  },
  {
   "cell_type": "code",
   "execution_count": 49,
   "id": "55e7c543",
   "metadata": {
    "scrolled": true
   },
   "outputs": [
    {
     "name": "stdout",
     "output_type": "stream",
     "text": [
      "4.2606313931076085e-250\n",
      "Отвергаем нулевую гипотезу\n"
     ]
    }
   ],
   "source": [
    "results = st.ttest_ind(user_stat[user_stat['tariff'] == 'smart']['total_cost'],\n",
    "                      user_stat[user_stat['tariff'] == 'ultra']['total_cost'],\n",
    "                       equal_var=False)  # Так как размер и дисперсии выборок отличаются\n",
    "\n",
    "alpha = .05\n",
    "\n",
    "print(results.pvalue) \n",
    "if results.pvalue < alpha:\n",
    "    print('Отвергаем нулевую гипотезу')\n",
    "else:\n",
    "    print('Не получилось отвергнуть нулевую гипотезу')"
   ]
  },
  {
   "cell_type": "markdown",
   "id": "58e8b2ef",
   "metadata": {},
   "source": [
    "P-value говорит нам о том, что у нас достаточно оснований отвергнуть нулевую гипотезу. Значит средняя выручка пользователей тарифов \"Ультра\" и \"Смарт\" `различается`.\n",
    "\n",
    "---"
   ]
  },
  {
   "cell_type": "markdown",
   "id": "046a5171",
   "metadata": {},
   "source": [
    "### Вторая гипотеза"
   ]
  },
  {
   "cell_type": "markdown",
   "id": "287fd25d",
   "metadata": {},
   "source": [
    "**Проверка гипотезы:** средняя выручка с пользователей из Москвы отличается от выручки c пользователей других регионов.\n",
    "\n",
    "```\n",
    "H_0: Выручка (total_cost) пользователей из Москвы = выручка (total_cost) пользователей не из Москвы\n",
    "H_1: Выручка (total_cost) пользователей из Москвы ≠ выручка (total_cost) пользователей не из Москвы\n",
    "alpha = 0.05\n",
    "```"
   ]
  },
  {
   "cell_type": "markdown",
   "id": "0a2f64ab",
   "metadata": {},
   "source": [
    "**Применим** `t-test` для сравнения двух выборок по выручке, но сначала `размер`, `дисперсия`, `среднее` и тест на нормальность Шапиро-Уилка."
   ]
  },
  {
   "cell_type": "code",
   "execution_count": 50,
   "id": "13a29a54",
   "metadata": {
    "scrolled": true
   },
   "outputs": [
    {
     "data": {
      "text/plain": [
       "611"
      ]
     },
     "metadata": {},
     "output_type": "display_data"
    },
    {
     "data": {
      "text/plain": [
       "2603"
      ]
     },
     "metadata": {},
     "output_type": "display_data"
    }
   ],
   "source": [
    "display(user_stat[user_stat['city'] == 'Москва']['total_cost'].count(),  # Размер\n",
    "user_stat[user_stat['city'] != 'Москва']['total_cost'].count())"
   ]
  },
  {
   "cell_type": "code",
   "execution_count": 51,
   "id": "321a03d2",
   "metadata": {
    "scrolled": true
   },
   "outputs": [
    {
     "data": {
      "text/plain": [
       "564710.7117467293"
      ]
     },
     "metadata": {},
     "output_type": "display_data"
    },
    {
     "data": {
      "text/plain": [
       "653886.3270894091"
      ]
     },
     "metadata": {},
     "output_type": "display_data"
    }
   ],
   "source": [
    "display(np.var(user_stat[user_stat['city'] == 'Москва']['total_cost']),  # Дисперсия\n",
    "np.var(user_stat[user_stat['city'] != 'Москва']['total_cost']))"
   ]
  },
  {
   "cell_type": "code",
   "execution_count": 52,
   "id": "f8c7e4a7",
   "metadata": {
    "scrolled": true
   },
   "outputs": [
    {
     "data": {
      "text/plain": [
       "1546.7135842880523"
      ]
     },
     "metadata": {},
     "output_type": "display_data"
    },
    {
     "data": {
      "text/plain": [
       "1524.9362274298885"
      ]
     },
     "metadata": {},
     "output_type": "display_data"
    }
   ],
   "source": [
    "display(user_stat[user_stat['city'] == 'Москва']['total_cost'].mean(),  # Среднее\n",
    "user_stat[user_stat['city'] != 'Москва']['total_cost'].mean())"
   ]
  },
  {
   "cell_type": "code",
   "execution_count": 53,
   "id": "a8ad7125",
   "metadata": {
    "scrolled": true
   },
   "outputs": [
    {
     "name": "stdout",
     "output_type": "stream",
     "text": [
      "Шапиро p-value = 0.4500930905342102\n"
     ]
    },
    {
     "data": {
      "image/png": "[encoded data removed]",
      "text/plain": [
       "<Figure size 640x480 with 1 Axes>"
      ]
     },
     "metadata": {},
     "output_type": "display_data"
    },
    {
     "name": "stdout",
     "output_type": "stream",
     "text": [
      "Шапиро p-value = 0.7937784790992737\n"
     ]
    },
    {
     "data": {
      "image/png": "[encoded data removed]",
      "text/plain": [
       "<Figure size 640x480 with 1 Axes>"
      ]
     },
     "metadata": {},
     "output_type": "display_data"
    }
   ],
   "source": [
    "lst = []\n",
    "for i in range(1000):\n",
    "    lst.append(user_stat.query('city == \"Москва\"')['total_cost']\\\n",
    "                        .sample(600, replace=True).mean())\n",
    "        \n",
    "print(f'Шапиро p-value = {st.shapiro(lst).pvalue}')\n",
    "sns.histplot(lst)\n",
    "plt.title('Москва')\n",
    "plt.show()\n",
    "    \n",
    "    \n",
    "lst = []\n",
    "for i in range(1000):\n",
    "    lst.append(user_stat.query('city != \"Москва\"')['total_cost']\\\n",
    "                        .sample(2600, replace=True).mean())\n",
    "        \n",
    "print(f'Шапиро p-value = {st.shapiro(lst).pvalue}')\n",
    "sns.histplot(lst)\n",
    "plt.title('Другие регионы')\n",
    "plt.show()"
   ]
  },
  {
   "cell_type": "markdown",
   "id": "dca1cfd2",
   "metadata": {},
   "source": [
    "Наблюдаем разницу в размере и дисперсии. Нормальность выборочного распределения подтверждена.\n",
    "\n",
    "---"
   ]
  },
  {
   "cell_type": "code",
   "execution_count": 54,
   "id": "8d5ff3d9",
   "metadata": {
    "scrolled": true
   },
   "outputs": [
    {
     "name": "stdout",
     "output_type": "stream",
     "text": [
      "0.5257376663729298\n",
      "Не получилось отвергнуть нулевую гипотезу\n"
     ]
    }
   ],
   "source": [
    "results = st.ttest_ind(user_stat[user_stat['city'] == 'Москва']['total_cost'],\n",
    "                      user_stat[user_stat['city'] != 'Москва']['total_cost'],\n",
    "                       equal_var=False)  # Так как размер и дисперсии выборок отличаются\n",
    "\n",
    "alpha = .05\n",
    "\n",
    "print(results.pvalue) \n",
    "if results.pvalue < alpha:\n",
    "    print('Отвергаем нулевую гипотезу')\n",
    "else:\n",
    "    print('Не получилось отвергнуть нулевую гипотезу')"
   ]
  },
  {
   "cell_type": "markdown",
   "id": "cb6dd31b",
   "metadata": {},
   "source": [
    "P-value говорит нам о том, что у нас недостаточно оснований отвергнуть нулевую гипотезу. Значит средняя выручка с пользователей из Москвы `не отличается` от выручки c пользователей других регионов.\n",
    "\n",
    "---"
   ]
  },
  {
   "cell_type": "markdown",
   "id": "7735cf07",
   "metadata": {},
   "source": [
    "## Общий вывод"
   ]
  },
  {
   "cell_type": "markdown",
   "id": "d07ab32c",
   "metadata": {},
   "source": [
    "<div class='alert alert-info'><b>    \n",
    "    \n",
    "- Тариф \"Ultra\" приносит больше выручки, чем \"Smart\". ARPU больше, CR меньше.\n",
    "- Выручка с пользователей из Москвы незначительно отличается от выручки c пользователей других регионов. Как и ARPU. CR меньше для пользователей из Москвы.\n",
    "    \n",
    "[Информация по количеству звонков, минут, смс, Мб](#info)\n",
    "    \n",
    "</b></div>"
   ]
  },
  {
   "cell_type": "markdown",
   "id": "48756dff",
   "metadata": {},
   "source": [
    "Выручка | Среднее | Медиана | CR | ARPU                \n",
    "--- | --- | --- | --- | ---                               \n",
    "\"Ultra\" | 2070 | 1950 | 3% | 2086                                               \n",
    "\"Smart\" | 1290 | 1023 |4.6% | 1324\n",
    "\"Москва\" | 1547 | 1750 | 1.8% | 1498\n",
    "\"Другие регионы\" | 1525 | 1583 | 5.8% | 1564\n",
    " |  |  |  | \n",
    "Total | 1529 | 1654 | 7.6% | 1551\n"
   ]
  }
 ],
 "metadata": {
  "kernelspec": {
   "display_name": "Python 3 (ipykernel)",
   "language": "python",
   "name": "python3"
  },
  "language_info": {
   "codemirror_mode": {
    "name": "ipython",
    "version": 3
   },
   "file_extension": ".py",
   "mimetype": "text/x-python",
   "name": "python",
   "nbconvert_exporter": "python",
   "pygments_lexer": "ipython3",
   "version": "3.9.13"
  },
  "toc": {
   "base_numbering": 1,
   "nav_menu": {},
   "number_sections": true,
   "sideBar": true,
   "skip_h1_title": true,
   "title_cell": "Table of Contents",
   "title_sidebar": "Contents",
   "toc_cell": true,
   "toc_position": {},
   "toc_section_display": true,
   "toc_window_display": false
  }
 },
 "nbformat": 4,
 "nbformat_minor": 5
}
