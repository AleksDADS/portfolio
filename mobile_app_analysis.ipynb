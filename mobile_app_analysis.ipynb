{
 "cells": [
  {
   "cell_type": "markdown",
   "id": "1916a022",
   "metadata": {
    "toc": true
   },
   "source": [
    "<h1>Table of Contents<span class=\"tocSkip\"></span></h1>\n",
    "<div class=\"toc\"><ul class=\"toc-item\"><li><span><a href=\"#Mobile-app-analysis\" data-toc-modified-id=\"Mobile-app-analysis-1\"><span class=\"toc-item-num\">1&nbsp;&nbsp;</span>Mobile app analysis</a></span><ul class=\"toc-item\"><li><span><a href=\"#Общая-информация\" data-toc-modified-id=\"Общая-информация-1.1\"><span class=\"toc-item-num\">1.1&nbsp;&nbsp;</span>Общая информация</a></span></li><li><span><a href=\"#Подготовка-данных\" data-toc-modified-id=\"Подготовка-данных-1.2\"><span class=\"toc-item-num\">1.2&nbsp;&nbsp;</span>Подготовка данных</a></span></li><li><span><a href=\"#Анализ-данных\" data-toc-modified-id=\"Анализ-данных-1.3\"><span class=\"toc-item-num\">1.3&nbsp;&nbsp;</span>Анализ данных</a></span></li><li><span><a href=\"#Воронка-событий\" data-toc-modified-id=\"Воронка-событий-1.4\"><span class=\"toc-item-num\">1.4&nbsp;&nbsp;</span>Воронка событий</a></span></li><li><span><a href=\"#Анализ-результатов-эксперимента\" data-toc-modified-id=\"Анализ-результатов-эксперимента-1.5\"><span class=\"toc-item-num\">1.5&nbsp;&nbsp;</span>Анализ результатов эксперимента</a></span><ul class=\"toc-item\"><li><span><a href=\"#A/A-тест\" data-toc-modified-id=\"A/A-тест-1.5.1\"><span class=\"toc-item-num\">1.5.1&nbsp;&nbsp;</span>A/A тест</a></span></li><li><span><a href=\"#A/B-тест\" data-toc-modified-id=\"A/B-тест-1.5.2\"><span class=\"toc-item-num\">1.5.2&nbsp;&nbsp;</span>A/B тест</a></span></li></ul></li><li><span><a href=\"#Вывод\" data-toc-modified-id=\"Вывод-1.6\"><span class=\"toc-item-num\">1.6&nbsp;&nbsp;</span>Вывод</a></span></li></ul></li></ul></div>"
   ]
  },
  {
   "cell_type": "markdown",
   "id": "d13092b8",
   "metadata": {},
   "source": [
    "# Mobile app analysis"
   ]
  },
  {
   "cell_type": "markdown",
   "id": "fe46e2ed",
   "metadata": {},
   "source": [
    "**В ходе исследования предстоит:**\n",
    "- разобраться, как ведут себя пользователи нашего мобильного приложения по продаже продуктов питания;\n",
    "- изучить воронку продаж;\n",
    "- исследовать результаты A/A/B-эксперимента.\n",
    "\n",
    "**Гипотеза:** изменить шрифт текста во всём приложении."
   ]
  },
  {
   "cell_type": "markdown",
   "id": "25724b5b",
   "metadata": {},
   "source": [
    "`logs_exp.csv` — логи за время эксперимента. Каждая запись — это действие пользователя, или событие.\n",
    "\n",
    "**Описание данных:**\n",
    "- `EventName` — название события;\n",
    "- `DeviceIDHash` — уникальный идентификатор пользователя;\n",
    "- `EventTimestamp` — время события;\n",
    "- `ExpId` — номер эксперимента: 246 и 247 — контрольные группы, а 248 — экспериментальная."
   ]
  },
  {
   "cell_type": "markdown",
   "id": "c8d6f203",
   "metadata": {},
   "source": [
    "## Общая информация"
   ]
  },
  {
   "cell_type": "code",
   "execution_count": 1,
   "id": "1af8fa64",
   "metadata": {},
   "outputs": [],
   "source": [
    "# импортируем нужные библиотеки\n",
    "import pandas as pd\n",
    "import matplotlib.pyplot as plt\n",
    "import seaborn as sns\n",
    "import scipy.stats as st\n",
    "import datetime as dt"
   ]
  },
  {
   "cell_type": "code",
   "execution_count": 2,
   "id": "9f802eb0",
   "metadata": {},
   "outputs": [
    {
     "data": {
      "text/html": [
       "<div>\n",
       "<style scoped>\n",
       "    .dataframe tbody tr th:only-of-type {\n",
       "        vertical-align: middle;\n",
       "    }\n",
       "\n",
       "    .dataframe tbody tr th {\n",
       "        vertical-align: top;\n",
       "    }\n",
       "\n",
       "    .dataframe thead th {\n",
       "        text-align: right;\n",
       "    }\n",
       "</style>\n",
       "<table border=\"1\" class=\"dataframe\">\n",
       "  <thead>\n",
       "    <tr style=\"text-align: right;\">\n",
       "      <th></th>\n",
       "      <th>EventName</th>\n",
       "      <th>DeviceIDHash</th>\n",
       "      <th>EventTimestamp</th>\n",
       "      <th>ExpId</th>\n",
       "    </tr>\n",
       "  </thead>\n",
       "  <tbody>\n",
       "    <tr>\n",
       "      <th>0</th>\n",
       "      <td>MainScreenAppear</td>\n",
       "      <td>4575588528974610257</td>\n",
       "      <td>1564029816</td>\n",
       "      <td>246</td>\n",
       "    </tr>\n",
       "    <tr>\n",
       "      <th>1</th>\n",
       "      <td>MainScreenAppear</td>\n",
       "      <td>7416695313311560658</td>\n",
       "      <td>1564053102</td>\n",
       "      <td>246</td>\n",
       "    </tr>\n",
       "    <tr>\n",
       "      <th>2</th>\n",
       "      <td>PaymentScreenSuccessful</td>\n",
       "      <td>3518123091307005509</td>\n",
       "      <td>1564054127</td>\n",
       "      <td>248</td>\n",
       "    </tr>\n",
       "    <tr>\n",
       "      <th>3</th>\n",
       "      <td>CartScreenAppear</td>\n",
       "      <td>3518123091307005509</td>\n",
       "      <td>1564054127</td>\n",
       "      <td>248</td>\n",
       "    </tr>\n",
       "    <tr>\n",
       "      <th>4</th>\n",
       "      <td>PaymentScreenSuccessful</td>\n",
       "      <td>6217807653094995999</td>\n",
       "      <td>1564055322</td>\n",
       "      <td>248</td>\n",
       "    </tr>\n",
       "  </tbody>\n",
       "</table>\n",
       "</div>"
      ],
      "text/plain": [
       "                 EventName         DeviceIDHash  EventTimestamp  ExpId\n",
       "0         MainScreenAppear  4575588528974610257      1564029816    246\n",
       "1         MainScreenAppear  7416695313311560658      1564053102    246\n",
       "2  PaymentScreenSuccessful  3518123091307005509      1564054127    248\n",
       "3         CartScreenAppear  3518123091307005509      1564054127    248\n",
       "4  PaymentScreenSuccessful  6217807653094995999      1564055322    248"
      ]
     },
     "execution_count": 2,
     "metadata": {},
     "output_type": "execute_result"
    }
   ],
   "source": [
    "# прочитаем датасет\n",
    "try:\n",
    "    df = pd.read_csv('logs_exp.csv', sep='\\t')\n",
    "except:\n",
    "    df = pd.read_csv('https://code.s3.yandex.net/datasets/logs_exp.csv', sep='\\t')\n",
    "\n",
    "df.head()"
   ]
  },
  {
   "cell_type": "code",
   "execution_count": 3,
   "id": "0eb77c79",
   "metadata": {
    "scrolled": false
   },
   "outputs": [
    {
     "name": "stdout",
     "output_type": "stream",
     "text": [
      "<class 'pandas.core.frame.DataFrame'>\n",
      "RangeIndex: 244126 entries, 0 to 244125\n",
      "Data columns (total 4 columns):\n",
      " #   Column          Non-Null Count   Dtype \n",
      "---  ------          --------------   ----- \n",
      " 0   EventName       244126 non-null  object\n",
      " 1   DeviceIDHash    244126 non-null  int64 \n",
      " 2   EventTimestamp  244126 non-null  int64 \n",
      " 3   ExpId           244126 non-null  int64 \n",
      "dtypes: int64(3), object(1)\n",
      "memory usage: 7.5+ MB\n"
     ]
    }
   ],
   "source": [
    "df.info()"
   ]
  },
  {
   "cell_type": "markdown",
   "id": "8385199d",
   "metadata": {},
   "source": [
    "## Подготовка данных"
   ]
  },
  {
   "cell_type": "code",
   "execution_count": 4,
   "id": "b2a27695",
   "metadata": {},
   "outputs": [],
   "source": [
    "# переименуем столбцы\n",
    "df = df.rename(columns={\n",
    "    'EventName': 'event_name',\n",
    "    'DeviceIDHash': 'device_id',\n",
    "    'EventTimestamp': 'event_time',\n",
    "    'ExpId': 'group'\n",
    "})"
   ]
  },
  {
   "cell_type": "code",
   "execution_count": 5,
   "id": "da577184",
   "metadata": {},
   "outputs": [],
   "source": [
    "# приведём unix time к формату даты и времени\n",
    "df['event_time'] = pd.to_datetime(df['event_time'], unit='s')\n",
    "\n",
    "# создадим столбец с датой\n",
    "df['event_date'] = df['event_time'].dt.date"
   ]
  },
  {
   "cell_type": "code",
   "execution_count": 6,
   "id": "6e0b89fa",
   "metadata": {},
   "outputs": [
    {
     "data": {
      "text/plain": [
       "event_name    0\n",
       "device_id     0\n",
       "event_time    0\n",
       "group         0\n",
       "event_date    0\n",
       "dtype: int64"
      ]
     },
     "execution_count": 6,
     "metadata": {},
     "output_type": "execute_result"
    }
   ],
   "source": [
    "# пропуски\n",
    "df.isna().sum()"
   ]
  },
  {
   "cell_type": "code",
   "execution_count": 7,
   "id": "c8f46f0b",
   "metadata": {},
   "outputs": [
    {
     "data": {
      "text/plain": [
       "413"
      ]
     },
     "execution_count": 7,
     "metadata": {},
     "output_type": "execute_result"
    }
   ],
   "source": [
    "# дубликаты\n",
    "df.duplicated().sum()"
   ]
  },
  {
   "cell_type": "code",
   "execution_count": 8,
   "id": "21bd1ac6",
   "metadata": {},
   "outputs": [],
   "source": [
    "# удалим дубликаты\n",
    "df = df.drop_duplicates().reset_index(drop=True)"
   ]
  },
  {
   "cell_type": "code",
   "execution_count": 9,
   "id": "59d4a66d",
   "metadata": {},
   "outputs": [
    {
     "data": {
      "text/plain": [
       "(array(['MainScreenAppear', 'PaymentScreenSuccessful', 'CartScreenAppear',\n",
       "        'OffersScreenAppear', 'Tutorial'], dtype=object),\n",
       " array([246, 248, 247], dtype=int64))"
      ]
     },
     "execution_count": 9,
     "metadata": {},
     "output_type": "execute_result"
    }
   ],
   "source": [
    "# уникальные события и группы\n",
    "df.event_name.unique(), df.group.unique()"
   ]
  },
  {
   "cell_type": "code",
   "execution_count": 10,
   "id": "806f7f8c",
   "metadata": {
    "scrolled": true
   },
   "outputs": [
    {
     "name": "stdout",
     "output_type": "stream",
     "text": [
      "<class 'pandas.core.frame.DataFrame'>\n",
      "RangeIndex: 243713 entries, 0 to 243712\n",
      "Data columns (total 5 columns):\n",
      " #   Column      Non-Null Count   Dtype         \n",
      "---  ------      --------------   -----         \n",
      " 0   event_name  243713 non-null  object        \n",
      " 1   device_id   243713 non-null  int64         \n",
      " 2   event_time  243713 non-null  datetime64[ns]\n",
      " 3   group       243713 non-null  int64         \n",
      " 4   event_date  243713 non-null  object        \n",
      "dtypes: datetime64[ns](1), int64(2), object(2)\n",
      "memory usage: 9.3+ MB\n"
     ]
    }
   ],
   "source": [
    "df.info()"
   ]
  },
  {
   "cell_type": "markdown",
   "id": "1775dc73",
   "metadata": {},
   "source": [
    "<div class='alert alert-info'><b>\n",
    "    \n",
    "- Переименовали столбцы\n",
    "- Привели unix time к формату даты и времени\n",
    "- Создадили столбец с датой\n",
    "- Пропусков нет\n",
    "- Дубликаты удалили 413\n",
    "</b></div>"
   ]
  },
  {
   "cell_type": "markdown",
   "id": "df574fa8",
   "metadata": {},
   "source": [
    "## Анализ данных"
   ]
  },
  {
   "cell_type": "markdown",
   "id": "de94de53",
   "metadata": {},
   "source": [
    "**Изучим** более подробно данные о событиях, пользователях и о времени проведения эксперимента"
   ]
  },
  {
   "cell_type": "code",
   "execution_count": 11,
   "id": "01f0e929",
   "metadata": {},
   "outputs": [
    {
     "name": "stdout",
     "output_type": "stream",
     "text": [
      "Всего событий - 243713\n",
      "Всего пользователей - 7551\n",
      "Событий в среднем на одного пользователя - 32\n"
     ]
    }
   ],
   "source": [
    "events_count = len(df)\n",
    "users_count = len(df.device_id.unique())\n",
    "print(f'Всего событий - {events_count}',\n",
    "      f'Всего пользователей - {users_count}',\n",
    "      f'Событий в среднем на одного пользователя - {round(events_count/users_count)}', sep='\\n')"
   ]
  },
  {
   "cell_type": "code",
   "execution_count": 12,
   "id": "e218ac13",
   "metadata": {},
   "outputs": [
    {
     "name": "stdout",
     "output_type": "stream",
     "text": [
      "Минимальная дата - 2019-07-25\n",
      "Максимальная дата - 2019-08-07\n"
     ]
    }
   ],
   "source": [
    "print(f'Минимальная дата - {df.event_date.min()}',\n",
    "      f'Максимальная дата - {df.event_date.max()}', sep='\\n')"
   ]
  },
  {
   "cell_type": "code",
   "execution_count": 13,
   "id": "98ed77c6",
   "metadata": {
    "scrolled": false
   },
   "outputs": [
    {
     "data": {
      "image/png": "[encoded data removed]",
      "text/plain": [
       "<Figure size 1500x700 with 1 Axes>"
      ]
     },
     "metadata": {},
     "output_type": "display_data"
    }
   ],
   "source": [
    "plt.figure(figsize=(15, 7))\n",
    "sns.barplot(x='event_date',\n",
    "            y='event_name',\n",
    "            data=df.groupby('event_date')[['event_name']].count().reset_index(),\n",
    "            palette='OrRd_r')\n",
    "plt.title('Распределение событий по дням')\n",
    "plt.xlabel('Дата')\n",
    "plt.ylabel('Количество событий')\n",
    "plt.show()"
   ]
  },
  {
   "cell_type": "markdown",
   "id": "b56d1c1e",
   "metadata": {},
   "source": [
    "Имеются данные за 2 недели - с 25 июля по 07 августа 2019 года. Наблюдаем резкий скачок 1 августа, поэтому оставим данные за последнюю неделю, так как слишком большая разница в наблюдениях исказит результаты исследования.\n",
    "\n",
    "---"
   ]
  },
  {
   "cell_type": "code",
   "execution_count": 14,
   "id": "98205f84",
   "metadata": {
    "scrolled": false
   },
   "outputs": [],
   "source": [
    "# фильтруем данные, оставляя последнюю неделю наблюдений\n",
    "df_lw = df.query('event_date >= datetime(2019, 8, 1).date()')"
   ]
  },
  {
   "cell_type": "code",
   "execution_count": 15,
   "id": "861671e3",
   "metadata": {
    "scrolled": true
   },
   "outputs": [
    {
     "name": "stdout",
     "output_type": "stream",
     "text": [
      "Событий отфильтровано - 1.16% = 2826\n",
      "Пользователей отфильтровано - 0.23% = 17\n"
     ]
    }
   ],
   "source": [
    "print(f'Событий отфильтровано - {(1 - len(df_lw)/len(df)):.2%} = {len(df) - len(df_lw)}',\n",
    "      f'Пользователей отфильтровано - {(1 - len(df_lw.device_id.unique())/len(df.device_id.unique())):.2%} =\\\n",
    " {len(df.device_id.unique()) - len(df_lw.device_id.unique())}', sep='\\n')"
   ]
  },
  {
   "cell_type": "code",
   "execution_count": 16,
   "id": "e406dd18",
   "metadata": {
    "scrolled": true
   },
   "outputs": [
    {
     "data": {
      "text/html": [
       "<div>\n",
       "<style scoped>\n",
       "    .dataframe tbody tr th:only-of-type {\n",
       "        vertical-align: middle;\n",
       "    }\n",
       "\n",
       "    .dataframe tbody tr th {\n",
       "        vertical-align: top;\n",
       "    }\n",
       "\n",
       "    .dataframe thead th {\n",
       "        text-align: right;\n",
       "    }\n",
       "</style>\n",
       "<table border=\"1\" class=\"dataframe\">\n",
       "  <thead>\n",
       "    <tr style=\"text-align: right;\">\n",
       "      <th></th>\n",
       "      <th>device_id</th>\n",
       "    </tr>\n",
       "    <tr>\n",
       "      <th>group</th>\n",
       "      <th></th>\n",
       "    </tr>\n",
       "  </thead>\n",
       "  <tbody>\n",
       "    <tr>\n",
       "      <th>246</th>\n",
       "      <td>2484</td>\n",
       "    </tr>\n",
       "    <tr>\n",
       "      <th>247</th>\n",
       "      <td>2513</td>\n",
       "    </tr>\n",
       "    <tr>\n",
       "      <th>248</th>\n",
       "      <td>2537</td>\n",
       "    </tr>\n",
       "  </tbody>\n",
       "</table>\n",
       "</div>"
      ],
      "text/plain": [
       "       device_id\n",
       "group           \n",
       "246         2484\n",
       "247         2513\n",
       "248         2537"
      ]
     },
     "execution_count": 16,
     "metadata": {},
     "output_type": "execute_result"
    }
   ],
   "source": [
    "# количество пользователей по группам\n",
    "df_lw.groupby('group')[['device_id']].nunique()"
   ]
  },
  {
   "cell_type": "markdown",
   "id": "6df8066b",
   "metadata": {},
   "source": [
    "<div class='alert alert-info'><b>\n",
    "    \n",
    "Изучив и отфильтровав данные, получаем:\n",
    "    \n",
    "- наблюдения с 1 по 7 августа включительно;\n",
    "- 98.84% событий (удалено 1.16%=2826 событий);\n",
    "- 99.77% пользователей (удалено 0.23%=17 пользователей).\n",
    "</b></div>"
   ]
  },
  {
   "cell_type": "markdown",
   "id": "5d571bb7",
   "metadata": {},
   "source": [
    "## Воронка событий"
   ]
  },
  {
   "cell_type": "markdown",
   "id": "a7a97308",
   "metadata": {},
   "source": [
    "Есть 5 видов событий:\n",
    "- MainScreenAppear - главный экран;\n",
    "- OffersScreenAppear - предложения;\n",
    "- CartScreenAppear - корзина;\n",
    "- PaymentScreenSuccessful - успешная оплата;\n",
    "- Tutorial - обучение."
   ]
  },
  {
   "cell_type": "code",
   "execution_count": 17,
   "id": "d641157a",
   "metadata": {},
   "outputs": [
    {
     "data": {
      "text/html": [
       "<style type=\"text/css\">\n",
       "</style>\n",
       "<table id=\"T_250d7\">\n",
       "  <thead>\n",
       "    <tr>\n",
       "      <th class=\"blank level0\" >&nbsp;</th>\n",
       "      <th id=\"T_250d7_level0_col0\" class=\"col_heading level0 col0\" >count</th>\n",
       "      <th id=\"T_250d7_level0_col1\" class=\"col_heading level0 col1\" >percentage</th>\n",
       "    </tr>\n",
       "    <tr>\n",
       "      <th class=\"index_name level0\" >event_name</th>\n",
       "      <th class=\"blank col0\" >&nbsp;</th>\n",
       "      <th class=\"blank col1\" >&nbsp;</th>\n",
       "    </tr>\n",
       "  </thead>\n",
       "  <tbody>\n",
       "    <tr>\n",
       "      <th id=\"T_250d7_level0_row0\" class=\"row_heading level0 row0\" >MainScreenAppear</th>\n",
       "      <td id=\"T_250d7_row0_col0\" class=\"data row0 col0\" >117328</td>\n",
       "      <td id=\"T_250d7_row0_col1\" class=\"data row0 col1\" >48.71%</td>\n",
       "    </tr>\n",
       "    <tr>\n",
       "      <th id=\"T_250d7_level0_row1\" class=\"row_heading level0 row1\" >OffersScreenAppear</th>\n",
       "      <td id=\"T_250d7_row1_col0\" class=\"data row1 col0\" >46333</td>\n",
       "      <td id=\"T_250d7_row1_col1\" class=\"data row1 col1\" >19.23%</td>\n",
       "    </tr>\n",
       "    <tr>\n",
       "      <th id=\"T_250d7_level0_row2\" class=\"row_heading level0 row2\" >CartScreenAppear</th>\n",
       "      <td id=\"T_250d7_row2_col0\" class=\"data row2 col0\" >42303</td>\n",
       "      <td id=\"T_250d7_row2_col1\" class=\"data row2 col1\" >17.56%</td>\n",
       "    </tr>\n",
       "    <tr>\n",
       "      <th id=\"T_250d7_level0_row3\" class=\"row_heading level0 row3\" >PaymentScreenSuccessful</th>\n",
       "      <td id=\"T_250d7_row3_col0\" class=\"data row3 col0\" >33918</td>\n",
       "      <td id=\"T_250d7_row3_col1\" class=\"data row3 col1\" >14.08%</td>\n",
       "    </tr>\n",
       "    <tr>\n",
       "      <th id=\"T_250d7_level0_row4\" class=\"row_heading level0 row4\" >Tutorial</th>\n",
       "      <td id=\"T_250d7_row4_col0\" class=\"data row4 col0\" >1005</td>\n",
       "      <td id=\"T_250d7_row4_col1\" class=\"data row4 col1\" >0.42%</td>\n",
       "    </tr>\n",
       "  </tbody>\n",
       "</table>\n"
      ],
      "text/plain": [
       "<pandas.io.formats.style.Styler at 0x13d27cb130>"
      ]
     },
     "execution_count": 17,
     "metadata": {},
     "output_type": "execute_result"
    }
   ],
   "source": [
    "# количетво событий по видам и их процент от общего количества\n",
    "events = pd.DataFrame()\n",
    "events['count'] = df_lw.groupby('event_name')['device_id'].count()\n",
    "events['percentage'] = events['count']/len(df_lw)\n",
    "events.sort_values(by='count', ascending=False).style.format({'percentage': '{:.2%}'})"
   ]
  },
  {
   "cell_type": "code",
   "execution_count": 18,
   "id": "d8d69e08",
   "metadata": {
    "scrolled": true
   },
   "outputs": [
    {
     "data": {
      "text/html": [
       "<style type=\"text/css\">\n",
       "</style>\n",
       "<table id=\"T_d543a\">\n",
       "  <thead>\n",
       "    <tr>\n",
       "      <th class=\"blank level0\" >&nbsp;</th>\n",
       "      <th id=\"T_d543a_level0_col0\" class=\"col_heading level0 col0\" >event_name</th>\n",
       "      <th id=\"T_d543a_level0_col1\" class=\"col_heading level0 col1\" >count</th>\n",
       "      <th id=\"T_d543a_level0_col2\" class=\"col_heading level0 col2\" >percentage</th>\n",
       "    </tr>\n",
       "  </thead>\n",
       "  <tbody>\n",
       "    <tr>\n",
       "      <th id=\"T_d543a_level0_row0\" class=\"row_heading level0 row0\" >0</th>\n",
       "      <td id=\"T_d543a_row0_col0\" class=\"data row0 col0\" >MainScreenAppear</td>\n",
       "      <td id=\"T_d543a_row0_col1\" class=\"data row0 col1\" >7419</td>\n",
       "      <td id=\"T_d543a_row0_col2\" class=\"data row0 col2\" >98.47%</td>\n",
       "    </tr>\n",
       "    <tr>\n",
       "      <th id=\"T_d543a_level0_row1\" class=\"row_heading level0 row1\" >1</th>\n",
       "      <td id=\"T_d543a_row1_col0\" class=\"data row1 col0\" >OffersScreenAppear</td>\n",
       "      <td id=\"T_d543a_row1_col1\" class=\"data row1 col1\" >4593</td>\n",
       "      <td id=\"T_d543a_row1_col2\" class=\"data row1 col2\" >60.96%</td>\n",
       "    </tr>\n",
       "    <tr>\n",
       "      <th id=\"T_d543a_level0_row2\" class=\"row_heading level0 row2\" >2</th>\n",
       "      <td id=\"T_d543a_row2_col0\" class=\"data row2 col0\" >CartScreenAppear</td>\n",
       "      <td id=\"T_d543a_row2_col1\" class=\"data row2 col1\" >3734</td>\n",
       "      <td id=\"T_d543a_row2_col2\" class=\"data row2 col2\" >49.56%</td>\n",
       "    </tr>\n",
       "    <tr>\n",
       "      <th id=\"T_d543a_level0_row3\" class=\"row_heading level0 row3\" >3</th>\n",
       "      <td id=\"T_d543a_row3_col0\" class=\"data row3 col0\" >PaymentScreenSuccessful</td>\n",
       "      <td id=\"T_d543a_row3_col1\" class=\"data row3 col1\" >3539</td>\n",
       "      <td id=\"T_d543a_row3_col2\" class=\"data row3 col2\" >46.97%</td>\n",
       "    </tr>\n",
       "    <tr>\n",
       "      <th id=\"T_d543a_level0_row4\" class=\"row_heading level0 row4\" >4</th>\n",
       "      <td id=\"T_d543a_row4_col0\" class=\"data row4 col0\" >Tutorial</td>\n",
       "      <td id=\"T_d543a_row4_col1\" class=\"data row4 col1\" >840</td>\n",
       "      <td id=\"T_d543a_row4_col2\" class=\"data row4 col2\" >11.15%</td>\n",
       "    </tr>\n",
       "  </tbody>\n",
       "</table>\n"
      ],
      "text/plain": [
       "<pandas.io.formats.style.Styler at 0x13d3305eb0>"
      ]
     },
     "execution_count": 18,
     "metadata": {},
     "output_type": "execute_result"
    }
   ],
   "source": [
    "# количетво пользователей, совершивших данное событие и процент от общего количества пользователей\n",
    "event_users = pd.DataFrame()\n",
    "event_users['count'] = df_lw.groupby('event_name')['device_id'].nunique()\n",
    "event_users['percentage'] = event_users['count']/df_lw['device_id'].nunique()\n",
    "event_users = event_users.sort_values(by='count', ascending=False).reset_index()\n",
    "event_users.style.format({'percentage': '{:.2%}'})"
   ]
  },
  {
   "cell_type": "markdown",
   "id": "dd4027ba",
   "metadata": {},
   "source": [
    "Можно предположить, что события происходят в следующем порядке:\n",
    "1. Посещение главного экрана\n",
    "2. Посещение страницы с предложениями\n",
    "3. Посещение корзины\n",
    "4. Отображение информации об успешной оплате\n",
    "\n",
    "Этап обучения мало кто проходит, значит он необязателен. Исключим его из воронки событий\n",
    "\n",
    "---"
   ]
  },
  {
   "cell_type": "code",
   "execution_count": 19,
   "id": "fa904bdb",
   "metadata": {
    "scrolled": false
   },
   "outputs": [
    {
     "data": {
      "text/html": [
       "<style type=\"text/css\">\n",
       "</style>\n",
       "<table id=\"T_9d375\">\n",
       "  <thead>\n",
       "    <tr>\n",
       "      <th class=\"blank level0\" >&nbsp;</th>\n",
       "      <th id=\"T_9d375_level0_col0\" class=\"col_heading level0 col0\" >event_name</th>\n",
       "      <th id=\"T_9d375_level0_col1\" class=\"col_heading level0 col1\" >count</th>\n",
       "      <th id=\"T_9d375_level0_col2\" class=\"col_heading level0 col2\" >percentage</th>\n",
       "      <th id=\"T_9d375_level0_col3\" class=\"col_heading level0 col3\" >funnel</th>\n",
       "    </tr>\n",
       "  </thead>\n",
       "  <tbody>\n",
       "    <tr>\n",
       "      <th id=\"T_9d375_level0_row0\" class=\"row_heading level0 row0\" >0</th>\n",
       "      <td id=\"T_9d375_row0_col0\" class=\"data row0 col0\" >MainScreenAppear</td>\n",
       "      <td id=\"T_9d375_row0_col1\" class=\"data row0 col1\" >7419</td>\n",
       "      <td id=\"T_9d375_row0_col2\" class=\"data row0 col2\" >98.47%</td>\n",
       "      <td id=\"T_9d375_row0_col3\" class=\"data row0 col3\" >100.00%</td>\n",
       "    </tr>\n",
       "    <tr>\n",
       "      <th id=\"T_9d375_level0_row1\" class=\"row_heading level0 row1\" >1</th>\n",
       "      <td id=\"T_9d375_row1_col0\" class=\"data row1 col0\" >OffersScreenAppear</td>\n",
       "      <td id=\"T_9d375_row1_col1\" class=\"data row1 col1\" >4593</td>\n",
       "      <td id=\"T_9d375_row1_col2\" class=\"data row1 col2\" >60.96%</td>\n",
       "      <td id=\"T_9d375_row1_col3\" class=\"data row1 col3\" >61.91%</td>\n",
       "    </tr>\n",
       "    <tr>\n",
       "      <th id=\"T_9d375_level0_row2\" class=\"row_heading level0 row2\" >2</th>\n",
       "      <td id=\"T_9d375_row2_col0\" class=\"data row2 col0\" >CartScreenAppear</td>\n",
       "      <td id=\"T_9d375_row2_col1\" class=\"data row2 col1\" >3734</td>\n",
       "      <td id=\"T_9d375_row2_col2\" class=\"data row2 col2\" >49.56%</td>\n",
       "      <td id=\"T_9d375_row2_col3\" class=\"data row2 col3\" >81.30%</td>\n",
       "    </tr>\n",
       "    <tr>\n",
       "      <th id=\"T_9d375_level0_row3\" class=\"row_heading level0 row3\" >3</th>\n",
       "      <td id=\"T_9d375_row3_col0\" class=\"data row3 col0\" >PaymentScreenSuccessful</td>\n",
       "      <td id=\"T_9d375_row3_col1\" class=\"data row3 col1\" >3539</td>\n",
       "      <td id=\"T_9d375_row3_col2\" class=\"data row3 col2\" >46.97%</td>\n",
       "      <td id=\"T_9d375_row3_col3\" class=\"data row3 col3\" >94.78%</td>\n",
       "    </tr>\n",
       "  </tbody>\n",
       "</table>\n"
      ],
      "text/plain": [
       "<pandas.io.formats.style.Styler at 0x13d3305430>"
      ]
     },
     "execution_count": 19,
     "metadata": {},
     "output_type": "execute_result"
    }
   ],
   "source": [
    "# создадим столбец с долей пользователей предыдущего события\n",
    "event_users['funnel'] = 1\n",
    "for i in range(1, 4):\n",
    "    event_users.loc[i, 'funnel'] = event_users.loc[i, 'count'] /  (event_users.loc[i-1, 'count'])\n",
    "\n",
    "event_users[0:4].style.format({'percentage': '{:.2%}', 'funnel': '{:.2%}'})"
   ]
  },
  {
   "cell_type": "markdown",
   "id": "57224751",
   "metadata": {},
   "source": [
    "<div class='alert alert-info'><b>\n",
    "\n",
    "- На 1 шаге теряется больше всего пользователей ~38%, то есть при переходе с главного экрана на страницу с предложениями.\n",
    "- На 2 шаге, при переходе в корзину, теряется ~19%.\n",
    "- На 3 шаге, из корзины к успешной оплате, ~5%\n",
    "\n",
    "Только 47% пользователей доходят от первого события до оплаты.\n",
    "</b></div>"
   ]
  },
  {
   "cell_type": "markdown",
   "id": "d9b1db26",
   "metadata": {},
   "source": [
    "## Анализ результатов эксперимента"
   ]
  },
  {
   "cell_type": "markdown",
   "id": "510c49c7",
   "metadata": {},
   "source": [
    "### A/A тест"
   ]
  },
  {
   "cell_type": "markdown",
   "id": "034ccb6a",
   "metadata": {},
   "source": [
    "Проверим различия между контрольными группами\n",
    "\n",
    "**Критерии успешного A/A-теста:**\n",
    "- Количество пользователей в различных группах различается не более, чем на 1%;\n",
    "- Для всех групп фиксируют и отправляют в системы аналитики данные об одном и том же;\n",
    "- Различие ключевых метрик по группам не превышает 1% и не имеет статистической значимости;\n",
    "- Попавший в одну из групп посетитель остаётся в этой группе до конца теста."
   ]
  },
  {
   "cell_type": "code",
   "execution_count": 20,
   "id": "4bef39d3",
   "metadata": {
    "scrolled": true
   },
   "outputs": [
    {
     "data": {
      "text/html": [
       "<div>\n",
       "<style scoped>\n",
       "    .dataframe tbody tr th:only-of-type {\n",
       "        vertical-align: middle;\n",
       "    }\n",
       "\n",
       "    .dataframe tbody tr th {\n",
       "        vertical-align: top;\n",
       "    }\n",
       "\n",
       "    .dataframe thead th {\n",
       "        text-align: right;\n",
       "    }\n",
       "</style>\n",
       "<table border=\"1\" class=\"dataframe\">\n",
       "  <thead>\n",
       "    <tr style=\"text-align: right;\">\n",
       "      <th></th>\n",
       "      <th>device_id</th>\n",
       "    </tr>\n",
       "    <tr>\n",
       "      <th>group</th>\n",
       "      <th></th>\n",
       "    </tr>\n",
       "  </thead>\n",
       "  <tbody>\n",
       "    <tr>\n",
       "      <th>246</th>\n",
       "      <td>2484</td>\n",
       "    </tr>\n",
       "    <tr>\n",
       "      <th>247</th>\n",
       "      <td>2513</td>\n",
       "    </tr>\n",
       "    <tr>\n",
       "      <th>248</th>\n",
       "      <td>2537</td>\n",
       "    </tr>\n",
       "  </tbody>\n",
       "</table>\n",
       "</div>"
      ],
      "text/plain": [
       "       device_id\n",
       "group           \n",
       "246         2484\n",
       "247         2513\n",
       "248         2537"
      ]
     },
     "execution_count": 20,
     "metadata": {},
     "output_type": "execute_result"
    }
   ],
   "source": [
    "# количество пользователей по группам\n",
    "df_lw.groupby('group')[['device_id']].nunique()"
   ]
  },
  {
   "cell_type": "code",
   "execution_count": 21,
   "id": "13615957",
   "metadata": {},
   "outputs": [
    {
     "data": {
      "text/plain": [
       "'Количество пользователей между группами различается на 1.15%'"
      ]
     },
     "metadata": {},
     "output_type": "display_data"
    }
   ],
   "source": [
    "display(f\"Количество пользователей между группами различается на \\\n",
    "{1 - df_lw.query('group == 246').device_id.nunique()/df_lw.query('group == 247').device_id.nunique():.2%}\")"
   ]
  },
  {
   "cell_type": "markdown",
   "id": "27a93605",
   "metadata": {},
   "source": [
    "Разница несущественная, поэтому принимаем критерий\n",
    "\n",
    "---"
   ]
  },
  {
   "cell_type": "code",
   "execution_count": 22,
   "id": "d1b91ecc",
   "metadata": {},
   "outputs": [
    {
     "data": {
      "text/plain": [
       "0"
      ]
     },
     "execution_count": 22,
     "metadata": {},
     "output_type": "execute_result"
    }
   ],
   "source": [
    "len(df_lw.groupby('device_id')['group'].nunique().reset_index().query('group > 1'))"
   ]
  },
  {
   "cell_type": "markdown",
   "id": "cbe98109",
   "metadata": {},
   "source": [
    "Пользователей, которые присутствуют в более чем одной группе, нет\n",
    "\n",
    "---"
   ]
  },
  {
   "cell_type": "markdown",
   "id": "8992a67c",
   "metadata": {},
   "source": [
    "За ключевую метрику примем конверсию в оплату. Но сначала создадим сводную таблицу с количеством пользователей по группам и событиям. А также функцию, проверяющую различия между группами по событиям статистическим z-критерием."
   ]
  },
  {
   "cell_type": "markdown",
   "id": "841a7c55",
   "metadata": {},
   "source": [
    "**H0: различий по группам нет**  \n",
    "**H1: различия по группам есть**"
   ]
  },
  {
   "cell_type": "code",
   "execution_count": 23,
   "id": "6c64f5cf",
   "metadata": {},
   "outputs": [
    {
     "data": {
      "text/html": [
       "<div>\n",
       "<style scoped>\n",
       "    .dataframe tbody tr th:only-of-type {\n",
       "        vertical-align: middle;\n",
       "    }\n",
       "\n",
       "    .dataframe tbody tr th {\n",
       "        vertical-align: top;\n",
       "    }\n",
       "\n",
       "    .dataframe thead th {\n",
       "        text-align: right;\n",
       "    }\n",
       "</style>\n",
       "<table border=\"1\" class=\"dataframe\">\n",
       "  <thead>\n",
       "    <tr style=\"text-align: right;\">\n",
       "      <th>group</th>\n",
       "      <th>event_name</th>\n",
       "      <th>246</th>\n",
       "      <th>247</th>\n",
       "      <th>248</th>\n",
       "      <th>All</th>\n",
       "    </tr>\n",
       "  </thead>\n",
       "  <tbody>\n",
       "    <tr>\n",
       "      <th>0</th>\n",
       "      <td>MainScreenAppear</td>\n",
       "      <td>2450</td>\n",
       "      <td>2476</td>\n",
       "      <td>2493</td>\n",
       "      <td>7419</td>\n",
       "    </tr>\n",
       "    <tr>\n",
       "      <th>1</th>\n",
       "      <td>OffersScreenAppear</td>\n",
       "      <td>1542</td>\n",
       "      <td>1520</td>\n",
       "      <td>1531</td>\n",
       "      <td>4593</td>\n",
       "    </tr>\n",
       "    <tr>\n",
       "      <th>2</th>\n",
       "      <td>CartScreenAppear</td>\n",
       "      <td>1266</td>\n",
       "      <td>1238</td>\n",
       "      <td>1230</td>\n",
       "      <td>3734</td>\n",
       "    </tr>\n",
       "    <tr>\n",
       "      <th>3</th>\n",
       "      <td>PaymentScreenSuccessful</td>\n",
       "      <td>1200</td>\n",
       "      <td>1158</td>\n",
       "      <td>1181</td>\n",
       "      <td>3539</td>\n",
       "    </tr>\n",
       "    <tr>\n",
       "      <th>4</th>\n",
       "      <td>Tutorial</td>\n",
       "      <td>278</td>\n",
       "      <td>283</td>\n",
       "      <td>279</td>\n",
       "      <td>840</td>\n",
       "    </tr>\n",
       "    <tr>\n",
       "      <th>5</th>\n",
       "      <td>All</td>\n",
       "      <td>2484</td>\n",
       "      <td>2513</td>\n",
       "      <td>2537</td>\n",
       "      <td>7534</td>\n",
       "    </tr>\n",
       "  </tbody>\n",
       "</table>\n",
       "</div>"
      ],
      "text/plain": [
       "group               event_name   246   247   248   All\n",
       "0             MainScreenAppear  2450  2476  2493  7419\n",
       "1           OffersScreenAppear  1542  1520  1531  4593\n",
       "2             CartScreenAppear  1266  1238  1230  3734\n",
       "3      PaymentScreenSuccessful  1200  1158  1181  3539\n",
       "4                     Tutorial   278   283   279   840\n",
       "5                          All  2484  2513  2537  7534"
      ]
     },
     "execution_count": 23,
     "metadata": {},
     "output_type": "execute_result"
    }
   ],
   "source": [
    "# сводная таблица\n",
    "event_users_grouped = df_lw.pivot_table(\n",
    "    index='event_name', columns='group', values='device_id', aggfunc='nunique', margins=True)\\\n",
    "    .reset_index().sort_values('All', ascending=False).reset_index(drop=True)\n",
    "\n",
    "event_users_grouped = event_users_grouped.reindex([1, 2, 3, 4, 5, 0]).reset_index(drop=True)\n",
    "event_users_grouped"
   ]
  },
  {
   "cell_type": "code",
   "execution_count": 24,
   "id": "5e72e88d",
   "metadata": {},
   "outputs": [],
   "source": [
    "def stat(successes1, successes2, trials1, trials2):\n",
    "    alpha = 0.05\n",
    "    event_name = ['MainScreenAppear', 'OffersScreenAppear',\n",
    "              'CartScreenAppear', 'PaymentScreenSuccessful', 'Tutorial']\n",
    "    p1 = successes1/trials1\n",
    "    p2 = successes2/trials2\n",
    "    p_combined = (successes1 + successes2) / (trials1 + trials2)\n",
    "    difference = p1 - p2 \n",
    "    z_value = difference / (p_combined * (1 - p_combined) * (1/trials1 + 1/trials2)) ** 0.5\n",
    "    distr = st.norm(0, 1)  \n",
    "    p_value = (1 - distr.cdf(abs(z_value))) * 2\n",
    "    if p_value < alpha:\n",
    "        print(event_name[i], round(p_value, 4), '- Отвергаем нулевую гипотезу')\n",
    "    else:\n",
    "        print(event_name[i], round(p_value, 4), '- Не отвергаем нулевую гипотезу')"
   ]
  },
  {
   "cell_type": "code",
   "execution_count": 25,
   "id": "46e4f0bb",
   "metadata": {},
   "outputs": [
    {
     "data": {
      "text/plain": [
       "'Различие ключевых метрик по группам 2.23%'"
      ]
     },
     "execution_count": 25,
     "metadata": {},
     "output_type": "execute_result"
    }
   ],
   "source": [
    "f'Различие ключевых метрик по группам \\\n",
    "{event_users_grouped.iloc[3, 1]/event_users_grouped.iloc[5, 1] - event_users_grouped.iloc[3, 2]/event_users_grouped.iloc[5, 2]:.2%}'"
   ]
  },
  {
   "cell_type": "code",
   "execution_count": 26,
   "id": "33320377",
   "metadata": {},
   "outputs": [
    {
     "name": "stdout",
     "output_type": "stream",
     "text": [
      "MainScreenAppear 0.7571 - Не отвергаем нулевую гипотезу\n",
      "OffersScreenAppear 0.2481 - Не отвергаем нулевую гипотезу\n",
      "CartScreenAppear 0.2288 - Не отвергаем нулевую гипотезу\n",
      "PaymentScreenSuccessful 0.1146 - Не отвергаем нулевую гипотезу\n",
      "Tutorial 0.9377 - Не отвергаем нулевую гипотезу\n"
     ]
    }
   ],
   "source": [
    "# создадим цикл для 246 и 247 группы\n",
    "for i in range(0, 5):\n",
    "    stat(event_users_grouped.iloc[i, 1],\n",
    "         event_users_grouped.iloc[i, 2],\n",
    "         event_users_grouped.iloc[5, 1],\n",
    "         event_users_grouped.iloc[5, 2])"
   ]
  },
  {
   "cell_type": "markdown",
   "id": "3cb3939b",
   "metadata": {},
   "source": [
    "<div class='alert alert-info'><b>\n",
    "    \n",
    "- Количество пользователей между группами различается на 1.15%.\n",
    "- Различие ключевых метрик по группам 2.23%, но статистической значимости не обнаружено, как и по другим событиям.\n",
    "- Пользователей, которые присутствуют в более чем одной группе, нет.    \n",
    "    \n",
    "Статистическая значимость различий между группами A/A не обнаружена.  \n",
    "Разбивка по группам работаем корректно.\n",
    "</b></div>"
   ]
  },
  {
   "cell_type": "markdown",
   "id": "81027611",
   "metadata": {},
   "source": [
    "### A/B тест"
   ]
  },
  {
   "cell_type": "markdown",
   "id": "db1f2ee7",
   "metadata": {},
   "source": [
    "Проверим различия между контрольными и тестовой группой. А также с объединённой контрольной группой и сравним результаты."
   ]
  },
  {
   "cell_type": "markdown",
   "id": "9bf0320a",
   "metadata": {},
   "source": [
    "**H0: различий по группам нет**  \n",
    "**H1: различия по группам есть**"
   ]
  },
  {
   "cell_type": "code",
   "execution_count": 27,
   "id": "703cf31c",
   "metadata": {},
   "outputs": [
    {
     "name": "stdout",
     "output_type": "stream",
     "text": [
      "MainScreenAppear 0.4587 - Не отвергаем нулевую гипотезу\n",
      "OffersScreenAppear 0.9198 - Не отвергаем нулевую гипотезу\n",
      "CartScreenAppear 0.5786 - Не отвергаем нулевую гипотезу\n",
      "PaymentScreenSuccessful 0.7373 - Не отвергаем нулевую гипотезу\n",
      "Tutorial 0.7653 - Не отвергаем нулевую гипотезу\n"
     ]
    }
   ],
   "source": [
    "# создадим цикл для 247 и 248 группы\n",
    "for i in range(0, 5):\n",
    "    stat(event_users_grouped.iloc[i, 2],\n",
    "         event_users_grouped.iloc[i, 3],\n",
    "         event_users_grouped.iloc[5, 2],\n",
    "         event_users_grouped.iloc[5, 3])"
   ]
  },
  {
   "cell_type": "code",
   "execution_count": 28,
   "id": "0c7366da",
   "metadata": {},
   "outputs": [
    {
     "name": "stdout",
     "output_type": "stream",
     "text": [
      "MainScreenAppear 0.295 - Не отвергаем нулевую гипотезу\n",
      "OffersScreenAppear 0.2084 - Не отвергаем нулевую гипотезу\n",
      "CartScreenAppear 0.0784 - Не отвергаем нулевую гипотезу\n",
      "PaymentScreenSuccessful 0.2123 - Не отвергаем нулевую гипотезу\n",
      "Tutorial 0.8264 - Не отвергаем нулевую гипотезу\n"
     ]
    }
   ],
   "source": [
    "# создадим цикл для 246 и 248 группы\n",
    "for i in range(0, 5):\n",
    "    stat(event_users_grouped.iloc[i, 1],\n",
    "         event_users_grouped.iloc[i, 3],\n",
    "         event_users_grouped.iloc[5, 1],\n",
    "         event_users_grouped.iloc[5, 3])"
   ]
  },
  {
   "cell_type": "markdown",
   "id": "6cfc1e4c",
   "metadata": {},
   "source": [
    "Значимых различий не наблюдается\n",
    "\n",
    "---"
   ]
  },
  {
   "cell_type": "code",
   "execution_count": 29,
   "id": "162247d3",
   "metadata": {},
   "outputs": [
    {
     "data": {
      "text/html": [
       "<div>\n",
       "<style scoped>\n",
       "    .dataframe tbody tr th:only-of-type {\n",
       "        vertical-align: middle;\n",
       "    }\n",
       "\n",
       "    .dataframe tbody tr th {\n",
       "        vertical-align: top;\n",
       "    }\n",
       "\n",
       "    .dataframe thead th {\n",
       "        text-align: right;\n",
       "    }\n",
       "</style>\n",
       "<table border=\"1\" class=\"dataframe\">\n",
       "  <thead>\n",
       "    <tr style=\"text-align: right;\">\n",
       "      <th>group</th>\n",
       "      <th>event_name</th>\n",
       "      <th>246</th>\n",
       "      <th>247</th>\n",
       "      <th>248</th>\n",
       "      <th>All</th>\n",
       "      <th>A+A</th>\n",
       "    </tr>\n",
       "  </thead>\n",
       "  <tbody>\n",
       "    <tr>\n",
       "      <th>0</th>\n",
       "      <td>MainScreenAppear</td>\n",
       "      <td>2450</td>\n",
       "      <td>2476</td>\n",
       "      <td>2493</td>\n",
       "      <td>7419</td>\n",
       "      <td>4926</td>\n",
       "    </tr>\n",
       "    <tr>\n",
       "      <th>1</th>\n",
       "      <td>OffersScreenAppear</td>\n",
       "      <td>1542</td>\n",
       "      <td>1520</td>\n",
       "      <td>1531</td>\n",
       "      <td>4593</td>\n",
       "      <td>3062</td>\n",
       "    </tr>\n",
       "    <tr>\n",
       "      <th>2</th>\n",
       "      <td>CartScreenAppear</td>\n",
       "      <td>1266</td>\n",
       "      <td>1238</td>\n",
       "      <td>1230</td>\n",
       "      <td>3734</td>\n",
       "      <td>2504</td>\n",
       "    </tr>\n",
       "    <tr>\n",
       "      <th>3</th>\n",
       "      <td>PaymentScreenSuccessful</td>\n",
       "      <td>1200</td>\n",
       "      <td>1158</td>\n",
       "      <td>1181</td>\n",
       "      <td>3539</td>\n",
       "      <td>2358</td>\n",
       "    </tr>\n",
       "    <tr>\n",
       "      <th>4</th>\n",
       "      <td>Tutorial</td>\n",
       "      <td>278</td>\n",
       "      <td>283</td>\n",
       "      <td>279</td>\n",
       "      <td>840</td>\n",
       "      <td>561</td>\n",
       "    </tr>\n",
       "    <tr>\n",
       "      <th>5</th>\n",
       "      <td>All</td>\n",
       "      <td>2484</td>\n",
       "      <td>2513</td>\n",
       "      <td>2537</td>\n",
       "      <td>7534</td>\n",
       "      <td>4997</td>\n",
       "    </tr>\n",
       "  </tbody>\n",
       "</table>\n",
       "</div>"
      ],
      "text/plain": [
       "group               event_name   246   247   248   All   A+A\n",
       "0             MainScreenAppear  2450  2476  2493  7419  4926\n",
       "1           OffersScreenAppear  1542  1520  1531  4593  3062\n",
       "2             CartScreenAppear  1266  1238  1230  3734  2504\n",
       "3      PaymentScreenSuccessful  1200  1158  1181  3539  2358\n",
       "4                     Tutorial   278   283   279   840   561\n",
       "5                          All  2484  2513  2537  7534  4997"
      ]
     },
     "execution_count": 29,
     "metadata": {},
     "output_type": "execute_result"
    }
   ],
   "source": [
    "# создадим столбец с объединёнными данными контрольных групп\n",
    "event_users_grouped['A+A'] = event_users_grouped[246] + event_users_grouped[247]\n",
    "event_users_grouped"
   ]
  },
  {
   "cell_type": "code",
   "execution_count": 30,
   "id": "d21bb81d",
   "metadata": {},
   "outputs": [
    {
     "name": "stdout",
     "output_type": "stream",
     "text": [
      "MainScreenAppear 0.2942 - Не отвергаем нулевую гипотезу\n",
      "OffersScreenAppear 0.4343 - Не отвергаем нулевую гипотезу\n",
      "CartScreenAppear 0.1818 - Не отвергаем нулевую гипотезу\n",
      "PaymentScreenSuccessful 0.6004 - Не отвергаем нулевую гипотезу\n",
      "Tutorial 0.7649 - Не отвергаем нулевую гипотезу\n"
     ]
    }
   ],
   "source": [
    "# создадим цикл для 248 и A+A группы\n",
    "for i in range(0, 5):\n",
    "    stat(event_users_grouped.iloc[i, 3],\n",
    "         event_users_grouped.iloc[i, 5],\n",
    "         event_users_grouped.iloc[5, 3],\n",
    "         event_users_grouped.iloc[5, 5])"
   ]
  },
  {
   "cell_type": "markdown",
   "id": "49083ae7",
   "metadata": {},
   "source": [
    "Наблюдаются различия в статистических показателях при проверке как одной контрольной группы с тестовой, так и другой. А также с объединёнными контрольными даными. НО ни в одном случае стат значимость не обнаружена.\n",
    "\n",
    "---"
   ]
  },
  {
   "cell_type": "markdown",
   "id": "3227f99f",
   "metadata": {},
   "source": [
    "<div class='alert alert-info'><b>\n",
    "    \n",
    "Всего получилось 20 проверок. Согласно поправке Бонферрони разделим принятый уровень значимости на число сравнений. Следовательно уровень значимости alpha будет равен 0.0025.  \n",
    "    Все значения гораздо больше этого уровня. Значит различий между группами нет и шрифт текста никак не влияет.\n",
    "</b></div>"
   ]
  },
  {
   "cell_type": "markdown",
   "id": "a0d0df1c",
   "metadata": {},
   "source": [
    "## Вывод"
   ]
  },
  {
   "cell_type": "markdown",
   "id": "ec55c8a2",
   "metadata": {},
   "source": [
    "Изучив поведение пользователей, воронку продаж и результаты эксперимента, можно заключить следующее:\n",
    "- A/A/B тест сработал корректно.\n",
    "- Статистически значимых различий между группами не обнаружено, а значит изменение шрифта в приложении никак не повлияло на его работу.\n",
    "- Почти 38% теряется при переходе с главного экрана на страницу с предложениями. Следует обратить внимание на этот этап и принять меры, что может привести к увеличению конверсии в покупку."
   ]
  }
 ],
 "metadata": {
  "ExecuteTimeLog": [
   {
    "duration": 1211,
    "start_time": "2023-05-10T13:23:20.764Z"
   },
   {
    "duration": 511,
    "start_time": "2023-05-10T13:23:21.977Z"
   },
   {
    "duration": 35,
    "start_time": "2023-05-10T13:23:22.490Z"
   },
   {
    "duration": 10,
    "start_time": "2023-05-10T13:23:22.527Z"
   },
   {
    "duration": 99,
    "start_time": "2023-05-10T13:23:22.538Z"
   },
   {
    "duration": 22,
    "start_time": "2023-05-10T13:23:22.639Z"
   },
   {
    "duration": 97,
    "start_time": "2023-05-10T13:23:22.663Z"
   },
   {
    "duration": 107,
    "start_time": "2023-05-10T13:23:22.762Z"
   },
   {
    "duration": 24,
    "start_time": "2023-05-10T13:23:22.871Z"
   },
   {
    "duration": 44,
    "start_time": "2023-05-10T13:23:22.898Z"
   },
   {
    "duration": 7,
    "start_time": "2023-05-10T13:23:22.944Z"
   },
   {
    "duration": 27,
    "start_time": "2023-05-10T13:23:22.953Z"
   },
   {
    "duration": 308,
    "start_time": "2023-05-10T13:23:22.993Z"
   },
   {
    "duration": 33,
    "start_time": "2023-05-10T13:23:23.307Z"
   },
   {
    "duration": 11,
    "start_time": "2023-05-10T13:23:23.341Z"
   },
   {
    "duration": 57,
    "start_time": "2023-05-10T13:23:23.355Z"
   },
   {
    "duration": 70,
    "start_time": "2023-05-10T13:23:23.414Z"
   },
   {
    "duration": 67,
    "start_time": "2023-05-10T13:23:23.486Z"
   },
   {
    "duration": 10,
    "start_time": "2023-05-10T13:23:23.555Z"
   },
   {
    "duration": 57,
    "start_time": "2023-05-10T13:23:23.567Z"
   },
   {
    "duration": 22,
    "start_time": "2023-05-10T13:23:23.626Z"
   },
   {
    "duration": 37,
    "start_time": "2023-05-10T13:23:23.649Z"
   },
   {
    "duration": 226,
    "start_time": "2023-05-10T13:23:23.694Z"
   },
   {
    "duration": 5,
    "start_time": "2023-05-10T13:23:23.922Z"
   },
   {
    "duration": 7,
    "start_time": "2023-05-10T13:23:23.929Z"
   },
   {
    "duration": 13,
    "start_time": "2023-05-10T13:23:23.938Z"
   },
   {
    "duration": 35,
    "start_time": "2023-05-10T13:23:23.952Z"
   },
   {
    "duration": 10,
    "start_time": "2023-05-10T13:23:24.001Z"
   },
   {
    "duration": 17,
    "start_time": "2023-05-10T13:23:24.013Z"
   },
   {
    "duration": 31,
    "start_time": "2023-05-10T13:23:24.033Z"
   },
   {
    "duration": 15,
    "start_time": "2023-05-10T13:32:18.623Z"
   },
   {
    "duration": 832,
    "start_time": "2023-05-10T13:32:23.883Z"
   }
  ],
  "kernelspec": {
   "display_name": "Python 3 (ipykernel)",
   "language": "python",
   "name": "python3"
  },
  "language_info": {
   "codemirror_mode": {
    "name": "ipython",
    "version": 3
   },
   "file_extension": ".py",
   "mimetype": "text/x-python",
   "name": "python",
   "nbconvert_exporter": "python",
   "pygments_lexer": "ipython3",
   "version": "3.9.13"
  },
  "toc": {
   "base_numbering": 1,
   "nav_menu": {},
   "number_sections": true,
   "sideBar": true,
   "skip_h1_title": false,
   "title_cell": "Table of Contents",
   "title_sidebar": "Contents",
   "toc_cell": true,
   "toc_position": {
    "height": "calc(100% - 180px)",
    "left": "10px",
    "top": "150px",
    "width": "340.341px"
   },
   "toc_section_display": true,
   "toc_window_display": true
  }
 },
 "nbformat": 4,
 "nbformat_minor": 5
}
